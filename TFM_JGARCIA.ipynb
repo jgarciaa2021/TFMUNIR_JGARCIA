{
 "cells": [
  {
   "cell_type": "code",
   "execution_count": 2,
   "id": "e8015b5e",
   "metadata": {
    "execution": {
     "iopub.execute_input": "2025-01-06T00:45:03.002451Z",
     "iopub.status.busy": "2025-01-06T00:45:03.002228Z",
     "iopub.status.idle": "2025-01-06T00:45:03.064710Z",
     "shell.execute_reply": "2025-01-06T00:45:03.063952Z",
     "shell.execute_reply.started": "2025-01-06T00:45:03.002428Z"
    },
    "tags": []
   },
   "outputs": [
    {
     "data": {
      "application/vnd.jupyter.widget-view+json": {
       "model_id": "8eb66b37330b439eb3245b5dc2b707cb",
       "version_major": 2,
       "version_minor": 0
      },
      "text/plain": [
       "VBox()"
      ]
     },
     "metadata": {},
     "output_type": "display_data"
    },
    {
     "data": {
      "application/vnd.jupyter.widget-view+json": {
       "model_id": "",
       "version_major": 2,
       "version_minor": 0
      },
      "text/plain": [
       "FloatProgress(value=0.0, bar_style='info', description='Progress:', layout=Layout(height='25px', width='50%'),…"
      ]
     },
     "metadata": {},
     "output_type": "display_data"
    }
   ],
   "source": [
    "import pyspark\n",
    "\n",
    "from pyspark.sql import SparkSession \n",
    "from pyspark.sql import functions as f\n",
    "from pyspark.sql.functions import when\n",
    "from pyspark.sql.functions import col, isnan, when, count\n",
    "from pyspark.sql.types import StructType, StructField, IntegerType, StringType, FloatType ,DoubleType"
   ]
  },
  {
   "cell_type": "code",
   "execution_count": 3,
   "id": "efa59603",
   "metadata": {
    "execution": {
     "iopub.execute_input": "2025-01-06T00:45:03.947663Z",
     "iopub.status.busy": "2025-01-06T00:45:03.947431Z",
     "iopub.status.idle": "2025-01-06T00:45:04.005428Z",
     "shell.execute_reply": "2025-01-06T00:45:04.004847Z",
     "shell.execute_reply.started": "2025-01-06T00:45:03.947638Z"
    },
    "tags": []
   },
   "outputs": [
    {
     "data": {
      "application/vnd.jupyter.widget-view+json": {
       "model_id": "5c8a2752965d4b719ad59ac8e8a8cdf4",
       "version_major": 2,
       "version_minor": 0
      },
      "text/plain": [
       "VBox()"
      ]
     },
     "metadata": {},
     "output_type": "display_data"
    },
    {
     "data": {
      "application/vnd.jupyter.widget-view+json": {
       "model_id": "",
       "version_major": 2,
       "version_minor": 0
      },
      "text/plain": [
       "FloatProgress(value=0.0, bar_style='info', description='Progress:', layout=Layout(height='25px', width='50%'),…"
      ]
     },
     "metadata": {},
     "output_type": "display_data"
    }
   ],
   "source": [
    "#spark = SparkSession.builder.appName(\"tfmapp\").getOrCreate()"
   ]
  },
  {
   "cell_type": "code",
   "execution_count": 4,
   "id": "d9bea834-a993-4d75-bec9-6476a74795a4",
   "metadata": {
    "execution": {
     "iopub.execute_input": "2025-01-06T00:45:04.269558Z",
     "iopub.status.busy": "2025-01-06T00:45:04.269342Z",
     "iopub.status.idle": "2025-01-06T00:45:04.328147Z",
     "shell.execute_reply": "2025-01-06T00:45:04.327555Z",
     "shell.execute_reply.started": "2025-01-06T00:45:04.269535Z"
    },
    "tags": []
   },
   "outputs": [
    {
     "data": {
      "application/vnd.jupyter.widget-view+json": {
       "model_id": "be2cb86c36c5477085562c889b58d34c",
       "version_major": 2,
       "version_minor": 0
      },
      "text/plain": [
       "VBox()"
      ]
     },
     "metadata": {},
     "output_type": "display_data"
    },
    {
     "data": {
      "application/vnd.jupyter.widget-view+json": {
       "model_id": "",
       "version_major": 2,
       "version_minor": 0
      },
      "text/plain": [
       "FloatProgress(value=0.0, bar_style='info', description='Progress:', layout=Layout(height='25px', width='50%'),…"
      ]
     },
     "metadata": {},
     "output_type": "display_data"
    }
   ],
   "source": [
    "spark = SparkSession.builder\\\n",
    "    .appName(\"tfmapp\")\\\n",
    "    .config(\"spark.hadoop.fs.s3a.access.key\", \"\")\\\n",
    "    .config(\"spark.hadoop.fs.s3a.secret.key\", \"\")\\\n",
    "    .config(\"spark.hadoop.fs.s3a.endpoint\", \"s3.amazonaws.com\")\\\n",
    "    .config(\"spark.hadoop.fs.s3a.connection.maximum\", \"100\")\\\n",
    "    .getOrCreate()"
   ]
  },
  {
   "cell_type": "code",
   "execution_count": 5,
   "id": "310e83d6",
   "metadata": {
    "execution": {
     "iopub.execute_input": "2025-01-06T00:45:04.652457Z",
     "iopub.status.busy": "2025-01-06T00:45:04.652229Z",
     "iopub.status.idle": "2025-01-06T00:45:04.705352Z",
     "shell.execute_reply": "2025-01-06T00:45:04.704727Z",
     "shell.execute_reply.started": "2025-01-06T00:45:04.652433Z"
    },
    "tags": []
   },
   "outputs": [
    {
     "data": {
      "application/vnd.jupyter.widget-view+json": {
       "model_id": "800b672a1c524a04a1bf5e8163e09981",
       "version_major": 2,
       "version_minor": 0
      },
      "text/plain": [
       "VBox()"
      ]
     },
     "metadata": {},
     "output_type": "display_data"
    },
    {
     "data": {
      "application/vnd.jupyter.widget-view+json": {
       "model_id": "",
       "version_major": 2,
       "version_minor": 0
      },
      "text/plain": [
       "FloatProgress(value=0.0, bar_style='info', description='Progress:', layout=Layout(height='25px', width='50%'),…"
      ]
     },
     "metadata": {},
     "output_type": "display_data"
    }
   ],
   "source": [
    "#spark = SparkSession.builder.getOrCreate()"
   ]
  },
  {
   "cell_type": "markdown",
   "id": "5a104c08",
   "metadata": {},
   "source": [
    "**Efectuo el cargue del conjunto de datos de RIPS**"
   ]
  },
  {
   "cell_type": "code",
   "execution_count": 6,
   "id": "7479ede4",
   "metadata": {
    "execution": {
     "iopub.execute_input": "2025-01-06T00:45:05.083696Z",
     "iopub.status.busy": "2025-01-06T00:45:05.083462Z",
     "iopub.status.idle": "2025-01-06T00:45:50.583881Z",
     "shell.execute_reply": "2025-01-06T00:45:50.583209Z",
     "shell.execute_reply.started": "2025-01-06T00:45:05.083672Z"
    },
    "tags": []
   },
   "outputs": [
    {
     "data": {
      "application/vnd.jupyter.widget-view+json": {
       "model_id": "5fad52b3a15c4bd7896ac0ab7545c3d7",
       "version_major": 2,
       "version_minor": 0
      },
      "text/plain": [
       "VBox()"
      ]
     },
     "metadata": {},
     "output_type": "display_data"
    },
    {
     "data": {
      "application/vnd.jupyter.widget-view+json": {
       "model_id": "",
       "version_major": 2,
       "version_minor": 0
      },
      "text/plain": [
       "FloatProgress(value=0.0, bar_style='info', description='Progress:', layout=Layout(height='25px', width='50%'),…"
      ]
     },
     "metadata": {},
     "output_type": "display_data"
    }
   ],
   "source": [
    "RIPS = spark\\\n",
    "       .read\\\n",
    "       .option(\"inferSchema\", \"true\")\\\n",
    "       .option(\"header\", \"true\")\\\n",
    "       .csv(\"s3://tfm2024/Registros_Individuales_PSSRIPS_20241125.csv\",encoding=\"UTF-8\")\n",
    "       #.csv(\"C:/MAESTRIA 2022-2023-2024/TFM 2024/FUENTES_DE_DATOS/Registros_Individuales_PSSRIPS_20241125.csv\")\n",
    "       "
   ]
  },
  {
   "cell_type": "markdown",
   "id": "3f4eafae",
   "metadata": {},
   "source": [
    "**Imprimo el schema de las columnas del dataset RIPS**"
   ]
  },
  {
   "cell_type": "code",
   "execution_count": 7,
   "id": "235809a8",
   "metadata": {
    "execution": {
     "iopub.execute_input": "2025-01-06T00:45:50.585407Z",
     "iopub.status.busy": "2025-01-06T00:45:50.585162Z",
     "iopub.status.idle": "2025-01-06T00:45:50.844839Z",
     "shell.execute_reply": "2025-01-06T00:45:50.844080Z",
     "shell.execute_reply.started": "2025-01-06T00:45:50.585371Z"
    },
    "tags": []
   },
   "outputs": [
    {
     "data": {
      "application/vnd.jupyter.widget-view+json": {
       "model_id": "5cee8efaf8014c4190074616e40087d9",
       "version_major": 2,
       "version_minor": 0
      },
      "text/plain": [
       "VBox()"
      ]
     },
     "metadata": {},
     "output_type": "display_data"
    },
    {
     "data": {
      "application/vnd.jupyter.widget-view+json": {
       "model_id": "",
       "version_major": 2,
       "version_minor": 0
      },
      "text/plain": [
       "FloatProgress(value=0.0, bar_style='info', description='Progress:', layout=Layout(height='25px', width='50%'),…"
      ]
     },
     "metadata": {},
     "output_type": "display_data"
    },
    {
     "name": "stdout",
     "output_type": "stream",
     "text": [
      "root\n",
      " |-- Departamento: string (nullable = true)\n",
      " |-- Municipio: string (nullable = true)\n",
      " |-- Año: integer (nullable = true)\n",
      " |-- TipoAtencion: string (nullable = true)\n",
      " |-- Diagnostico: string (nullable = true)\n",
      " |-- NumeroAtenciones: integer (nullable = true)"
     ]
    }
   ],
   "source": [
    "RIPS.printSchema()"
   ]
  },
  {
   "cell_type": "markdown",
   "id": "1c59b5b7-0756-41af-9760-5cf1a6b6af70",
   "metadata": {
    "execution": {
     "iopub.execute_input": "2025-01-03T01:52:55.719591Z",
     "iopub.status.busy": "2025-01-03T01:52:55.719364Z",
     "iopub.status.idle": "2025-01-03T01:52:55.761831Z",
     "shell.execute_reply": "2025-01-03T01:52:55.761022Z",
     "shell.execute_reply.started": "2025-01-03T01:52:55.719565Z"
    }
   },
   "source": [
    "**Renombrar la columna año**"
   ]
  },
  {
   "cell_type": "code",
   "execution_count": 8,
   "id": "0236f691-1ead-47f4-8235-974c29179a17",
   "metadata": {
    "execution": {
     "iopub.execute_input": "2025-01-06T00:45:50.846642Z",
     "iopub.status.busy": "2025-01-06T00:45:50.846473Z",
     "iopub.status.idle": "2025-01-06T00:45:51.104068Z",
     "shell.execute_reply": "2025-01-06T00:45:51.103295Z",
     "shell.execute_reply.started": "2025-01-06T00:45:50.846619Z"
    },
    "tags": []
   },
   "outputs": [
    {
     "data": {
      "application/vnd.jupyter.widget-view+json": {
       "model_id": "726a520435714442862f8a5b33178070",
       "version_major": 2,
       "version_minor": 0
      },
      "text/plain": [
       "VBox()"
      ]
     },
     "metadata": {},
     "output_type": "display_data"
    },
    {
     "data": {
      "application/vnd.jupyter.widget-view+json": {
       "model_id": "",
       "version_major": 2,
       "version_minor": 0
      },
      "text/plain": [
       "FloatProgress(value=0.0, bar_style='info', description='Progress:', layout=Layout(height='25px', width='50%'),…"
      ]
     },
     "metadata": {},
     "output_type": "display_data"
    },
    {
     "name": "stdout",
     "output_type": "stream",
     "text": [
      "root\n",
      " |-- Departamento: string (nullable = true)\n",
      " |-- Municipio: string (nullable = true)\n",
      " |-- Anio: integer (nullable = true)\n",
      " |-- TipoAtencion: string (nullable = true)\n",
      " |-- Diagnostico: string (nullable = true)\n",
      " |-- NumeroAtenciones: integer (nullable = true)"
     ]
    }
   ],
   "source": [
    "col_name = RIPS.columns[2]\n",
    "\n",
    "RIPS = RIPS.withColumnRenamed(col_name, \"Anio\")\n",
    "\n",
    "RIPS.printSchema()"
   ]
  },
  {
   "cell_type": "markdown",
   "id": "fa3ef372",
   "metadata": {},
   "source": [
    "**Defino el schema de las columnas y efectuo el cargue del conjunto de datos de MUNICIPIOS**\n"
   ]
  },
  {
   "cell_type": "code",
   "execution_count": 9,
   "id": "c2d25bac-33d8-4660-ba3a-04259d58fbfe",
   "metadata": {
    "execution": {
     "iopub.execute_input": "2025-01-06T00:45:51.105478Z",
     "iopub.status.busy": "2025-01-06T00:45:51.105310Z",
     "iopub.status.idle": "2025-01-06T00:45:51.154222Z",
     "shell.execute_reply": "2025-01-06T00:45:51.153603Z",
     "shell.execute_reply.started": "2025-01-06T00:45:51.105455Z"
    },
    "tags": []
   },
   "outputs": [
    {
     "data": {
      "application/vnd.jupyter.widget-view+json": {
       "model_id": "797f7265020b4191b51b7c73bd083cce",
       "version_major": 2,
       "version_minor": 0
      },
      "text/plain": [
       "VBox()"
      ]
     },
     "metadata": {},
     "output_type": "display_data"
    },
    {
     "data": {
      "application/vnd.jupyter.widget-view+json": {
       "model_id": "",
       "version_major": 2,
       "version_minor": 0
      },
      "text/plain": [
       "FloatProgress(value=0.0, bar_style='info', description='Progress:', layout=Layout(height='25px', width='50%'),…"
      ]
     },
     "metadata": {},
     "output_type": "display_data"
    },
    {
     "name": "stdout",
     "output_type": "stream",
     "text": [
      "root\n",
      " |-- Departamento: string (nullable = true)\n",
      " |-- Municipio: string (nullable = true)\n",
      " |-- Anio: integer (nullable = true)\n",
      " |-- TipoAtencion: string (nullable = true)\n",
      " |-- Diagnostico: string (nullable = true)\n",
      " |-- NumeroAtenciones: integer (nullable = true)"
     ]
    }
   ],
   "source": [
    "RIPS.printSchema()"
   ]
  },
  {
   "cell_type": "code",
   "execution_count": 10,
   "id": "537a304b",
   "metadata": {
    "execution": {
     "iopub.execute_input": "2025-01-06T00:45:51.155307Z",
     "iopub.status.busy": "2025-01-06T00:45:51.155129Z",
     "iopub.status.idle": "2025-01-06T00:45:51.205725Z",
     "shell.execute_reply": "2025-01-06T00:45:51.205098Z",
     "shell.execute_reply.started": "2025-01-06T00:45:51.155280Z"
    },
    "tags": []
   },
   "outputs": [
    {
     "data": {
      "application/vnd.jupyter.widget-view+json": {
       "model_id": "45bf886b14f04a139ce2981a0bd4b191",
       "version_major": 2,
       "version_minor": 0
      },
      "text/plain": [
       "VBox()"
      ]
     },
     "metadata": {},
     "output_type": "display_data"
    },
    {
     "data": {
      "application/vnd.jupyter.widget-view+json": {
       "model_id": "",
       "version_major": 2,
       "version_minor": 0
      },
      "text/plain": [
       "FloatProgress(value=0.0, bar_style='info', description='Progress:', layout=Layout(height='25px', width='50%'),…"
      ]
     },
     "metadata": {},
     "output_type": "display_data"
    }
   ],
   "source": [
    "schema = StructType([\n",
    "    StructField(\"Codigo_Dep\",StringType(), True),\n",
    "    StructField(\"Nombre_Dep\",StringType(), True),\n",
    "    StructField(\"Codigo_mun\",StringType(), True),\n",
    "    StructField(\"Nombre_mun\",StringType(), True),\n",
    "    StructField(\"Area\",StringType(), True),\n",
    "    StructField(\"LATITUD\", DoubleType(), True),\n",
    "    StructField(\"LONGITUD\", DoubleType(), True)\n",
    "])"
   ]
  },
  {
   "cell_type": "code",
   "execution_count": 11,
   "id": "5bd12d6a",
   "metadata": {
    "execution": {
     "iopub.execute_input": "2025-01-06T00:45:51.206800Z",
     "iopub.status.busy": "2025-01-06T00:45:51.206632Z",
     "iopub.status.idle": "2025-01-06T00:45:51.464332Z",
     "shell.execute_reply": "2025-01-06T00:45:51.463583Z",
     "shell.execute_reply.started": "2025-01-06T00:45:51.206778Z"
    },
    "tags": []
   },
   "outputs": [
    {
     "data": {
      "application/vnd.jupyter.widget-view+json": {
       "model_id": "af17c9909a09491c9c53c846bae1429e",
       "version_major": 2,
       "version_minor": 0
      },
      "text/plain": [
       "VBox()"
      ]
     },
     "metadata": {},
     "output_type": "display_data"
    },
    {
     "data": {
      "application/vnd.jupyter.widget-view+json": {
       "model_id": "",
       "version_major": 2,
       "version_minor": 0
      },
      "text/plain": [
       "FloatProgress(value=0.0, bar_style='info', description='Progress:', layout=Layout(height='25px', width='50%'),…"
      ]
     },
     "metadata": {},
     "output_type": "display_data"
    }
   ],
   "source": [
    "MUNICIPIOS =  spark\\\n",
    "             .read\\\n",
    "             .schema(schema)\\\n",
    "             .option(\"header\", \"true\")\\\n",
    "             .csv(\"s3://tfm2024/DIVIPOLA_Municipios_editado.csv\")\n",
    "             #.csv(\"C:/MAESTRIA 2022-2023-2024/TFM 2024/FUENTES_DE_DATOS/DIVIPOLA_Municipios_editado.csv\")\n",
    "             "
   ]
  },
  {
   "cell_type": "code",
   "execution_count": 12,
   "id": "a4e378f7",
   "metadata": {
    "execution": {
     "iopub.execute_input": "2025-01-06T00:45:51.465691Z",
     "iopub.status.busy": "2025-01-06T00:45:51.465429Z",
     "iopub.status.idle": "2025-01-06T00:45:51.520451Z",
     "shell.execute_reply": "2025-01-06T00:45:51.519748Z",
     "shell.execute_reply.started": "2025-01-06T00:45:51.465642Z"
    },
    "tags": []
   },
   "outputs": [
    {
     "data": {
      "application/vnd.jupyter.widget-view+json": {
       "model_id": "cbea63c47d224cddaf50a08f217f4fe9",
       "version_major": 2,
       "version_minor": 0
      },
      "text/plain": [
       "VBox()"
      ]
     },
     "metadata": {},
     "output_type": "display_data"
    },
    {
     "data": {
      "application/vnd.jupyter.widget-view+json": {
       "model_id": "",
       "version_major": 2,
       "version_minor": 0
      },
      "text/plain": [
       "FloatProgress(value=0.0, bar_style='info', description='Progress:', layout=Layout(height='25px', width='50%'),…"
      ]
     },
     "metadata": {},
     "output_type": "display_data"
    },
    {
     "name": "stdout",
     "output_type": "stream",
     "text": [
      "root\n",
      " |-- Codigo_Dep: string (nullable = true)\n",
      " |-- Nombre_Dep: string (nullable = true)\n",
      " |-- Codigo_mun: string (nullable = true)\n",
      " |-- Nombre_mun: string (nullable = true)\n",
      " |-- Area: string (nullable = true)\n",
      " |-- LATITUD: double (nullable = true)\n",
      " |-- LONGITUD: double (nullable = true)"
     ]
    }
   ],
   "source": [
    "MUNICIPIOS.printSchema()"
   ]
  },
  {
   "cell_type": "markdown",
   "id": "87a1a81a",
   "metadata": {},
   "source": [
    "**Efectuo el cargue del conjunto de datos del CIE-10**\n"
   ]
  },
  {
   "cell_type": "code",
   "execution_count": 13,
   "id": "d6524b00",
   "metadata": {
    "execution": {
     "iopub.execute_input": "2025-01-06T00:45:51.523709Z",
     "iopub.status.busy": "2025-01-06T00:45:51.523467Z",
     "iopub.status.idle": "2025-01-06T00:45:52.295966Z",
     "shell.execute_reply": "2025-01-06T00:45:52.295255Z",
     "shell.execute_reply.started": "2025-01-06T00:45:51.523674Z"
    },
    "tags": []
   },
   "outputs": [
    {
     "data": {
      "application/vnd.jupyter.widget-view+json": {
       "model_id": "bb7913f8dc4745b3b097e2787301348c",
       "version_major": 2,
       "version_minor": 0
      },
      "text/plain": [
       "VBox()"
      ]
     },
     "metadata": {},
     "output_type": "display_data"
    },
    {
     "data": {
      "application/vnd.jupyter.widget-view+json": {
       "model_id": "",
       "version_major": 2,
       "version_minor": 0
      },
      "text/plain": [
       "FloatProgress(value=0.0, bar_style='info', description='Progress:', layout=Layout(height='25px', width='50%'),…"
      ]
     },
     "metadata": {},
     "output_type": "display_data"
    }
   ],
   "source": [
    "CIE = spark\\\n",
    "      .read\\\n",
    "      .option(\"inferSchema\", \"true\")\\\n",
    "      .option(\"header\", \"true\")\\\n",
    "      .csv(\"s3://tfm2024/TablaReferencia_CIE10__1_editado.csv\")\n",
    "      #.csv(\"C:/MAESTRIA 2022-2023-2024/TFM 2024/FUENTES_DE_DATOS/TablaReferencia_CIE10__1_editado.csv\")\n",
    "      "
   ]
  },
  {
   "cell_type": "code",
   "execution_count": 14,
   "id": "65ba2ccb",
   "metadata": {
    "execution": {
     "iopub.execute_input": "2025-01-06T00:45:52.297801Z",
     "iopub.status.busy": "2025-01-06T00:45:52.297541Z",
     "iopub.status.idle": "2025-01-06T00:45:52.351355Z",
     "shell.execute_reply": "2025-01-06T00:45:52.350663Z",
     "shell.execute_reply.started": "2025-01-06T00:45:52.297757Z"
    },
    "tags": []
   },
   "outputs": [
    {
     "data": {
      "application/vnd.jupyter.widget-view+json": {
       "model_id": "7c8c42bd4176498f84967dc2061f9cb5",
       "version_major": 2,
       "version_minor": 0
      },
      "text/plain": [
       "VBox()"
      ]
     },
     "metadata": {},
     "output_type": "display_data"
    },
    {
     "data": {
      "application/vnd.jupyter.widget-view+json": {
       "model_id": "",
       "version_major": 2,
       "version_minor": 0
      },
      "text/plain": [
       "FloatProgress(value=0.0, bar_style='info', description='Progress:', layout=Layout(height='25px', width='50%'),…"
      ]
     },
     "metadata": {},
     "output_type": "display_data"
    },
    {
     "name": "stdout",
     "output_type": "stream",
     "text": [
      "root\n",
      " |-- Tabla: string (nullable = true)\n",
      " |-- Codigo: string (nullable = true)\n",
      " |-- Nombre: string (nullable = true)\n",
      " |-- Descripcion: string (nullable = true)\n",
      " |-- Habilitado: string (nullable = true)\n",
      " |-- Aplicacion: string (nullable = true)\n",
      " |-- IsStandardGEL: boolean (nullable = true)\n",
      " |-- IsStandardMSPS: boolean (nullable = true)\n",
      " |-- Extra_I:AplicaASexo: integer (nullable = true)\n",
      " |-- Extra_II:EdadMinima: integer (nullable = true)\n",
      " |-- Extra_III:EdadMaxima: integer (nullable = true)\n",
      " |-- Extra_IV:GrupoMortalidad: integer (nullable = true)\n",
      " |-- Extra_V: string (nullable = true)\n",
      " |-- Extra_VI:Capitulo: string (nullable = true)\n",
      " |-- Extra_VII:Grupo: string (nullable = true)\n",
      " |-- Extra_VIII:SubGrupo: integer (nullable = true)\n",
      " |-- Extra_IX:Categoria: integer (nullable = true)\n",
      " |-- Extra_X:Sexo: string (nullable = true)\n",
      " |-- ValorRegistro: string (nullable = true)\n",
      " |-- UsuarioResponsable: string (nullable = true)\n",
      " |-- Fecha_Actualizacion: string (nullable = true)\n",
      " |-- IsPublicPrivate: boolean (nullable = true)"
     ]
    }
   ],
   "source": [
    "CIE.printSchema()"
   ]
  },
  {
   "cell_type": "markdown",
   "id": "d9b822b5",
   "metadata": {},
   "source": [
    "**EDA - RIPS 1**"
   ]
  },
  {
   "cell_type": "code",
   "execution_count": 15,
   "id": "a81e1b56",
   "metadata": {
    "execution": {
     "iopub.execute_input": "2025-01-06T00:45:52.352825Z",
     "iopub.status.busy": "2025-01-06T00:45:52.352562Z",
     "iopub.status.idle": "2025-01-06T00:50:04.508235Z",
     "shell.execute_reply": "2025-01-06T00:50:04.507538Z",
     "shell.execute_reply.started": "2025-01-06T00:45:52.352772Z"
    },
    "tags": []
   },
   "outputs": [
    {
     "data": {
      "application/vnd.jupyter.widget-view+json": {
       "model_id": "91e355938419485bba58e91a3bfef1af",
       "version_major": 2,
       "version_minor": 0
      },
      "text/plain": [
       "VBox()"
      ]
     },
     "metadata": {},
     "output_type": "display_data"
    },
    {
     "data": {
      "application/vnd.jupyter.widget-view+json": {
       "model_id": "",
       "version_major": 2,
       "version_minor": 0
      },
      "text/plain": [
       "FloatProgress(value=0.0, bar_style='info', description='Progress:', layout=Layout(height='25px', width='50%'),…"
      ]
     },
     "metadata": {},
     "output_type": "display_data"
    },
    {
     "name": "stdout",
     "output_type": "stream",
     "text": [
      "+-------+----------------+------------------+------------------+------------+--------------------+------------------+\n",
      "|summary|    Departamento|         Municipio|              Anio|TipoAtencion|         Diagnostico|  NumeroAtenciones|\n",
      "+-------+----------------+------------------+------------------+------------+--------------------+------------------+\n",
      "|  count|        38000000|          38000000|          38000000|    38000000|            38000000|          38000000|\n",
      "|   mean|            NULL|              NULL|2015.8167846842105|        NULL|                NULL|100.87415842105263|\n",
      "| stddev|            NULL|              NULL|3.6347807464384667|        NULL|                NULL|10868.818744798436|\n",
      "|    min|-1 - NO DEFINIDO|  -1 - No Definido|              2009|   CONSULTAS|     1 - NO DEFINIDO|                 1|\n",
      "|    max|   85 - Casanare|85440 - Villanueva|              2021|   URGENCIAS|Z999 - DEPENDENCI...|          18619651|\n",
      "+-------+----------------+------------------+------------------+------------+--------------------+------------------+"
     ]
    }
   ],
   "source": [
    "RIPS.describe().show()"
   ]
  },
  {
   "cell_type": "markdown",
   "id": "63c09e11",
   "metadata": {},
   "source": [
    "**EDA - RIPS 2 Identificacion de columnas y filas**"
   ]
  },
  {
   "cell_type": "code",
   "execution_count": 16,
   "id": "46b1b917",
   "metadata": {
    "execution": {
     "iopub.execute_input": "2025-01-06T00:50:04.509651Z",
     "iopub.status.busy": "2025-01-06T00:50:04.509412Z",
     "iopub.status.idle": "2025-01-06T00:50:19.825705Z",
     "shell.execute_reply": "2025-01-06T00:50:19.824941Z",
     "shell.execute_reply.started": "2025-01-06T00:50:04.509618Z"
    },
    "tags": []
   },
   "outputs": [
    {
     "data": {
      "application/vnd.jupyter.widget-view+json": {
       "model_id": "be4c6816e1134e02a23166fbbb53c751",
       "version_major": 2,
       "version_minor": 0
      },
      "text/plain": [
       "VBox()"
      ]
     },
     "metadata": {},
     "output_type": "display_data"
    },
    {
     "data": {
      "application/vnd.jupyter.widget-view+json": {
       "model_id": "",
       "version_major": 2,
       "version_minor": 0
      },
      "text/plain": [
       "FloatProgress(value=0.0, bar_style='info', description='Progress:', layout=Layout(height='25px', width='50%'),…"
      ]
     },
     "metadata": {},
     "output_type": "display_data"
    },
    {
     "name": "stdout",
     "output_type": "stream",
     "text": [
      "(38000000, 6)"
     ]
    }
   ],
   "source": [
    "# EDA - RIPS 2 Identificacion de \n",
    "print((RIPS.count(), len(RIPS.columns)))"
   ]
  },
  {
   "cell_type": "markdown",
   "id": "221da433",
   "metadata": {},
   "source": [
    "**EDA - RIPS 3 Identificar valores nulos por columna**"
   ]
  },
  {
   "cell_type": "code",
   "execution_count": 17,
   "id": "73adabe6",
   "metadata": {
    "execution": {
     "iopub.execute_input": "2025-01-06T00:50:19.826918Z",
     "iopub.status.busy": "2025-01-06T00:50:19.826734Z",
     "iopub.status.idle": "2025-01-06T00:50:59.214119Z",
     "shell.execute_reply": "2025-01-06T00:50:59.213388Z",
     "shell.execute_reply.started": "2025-01-06T00:50:19.826887Z"
    },
    "tags": []
   },
   "outputs": [
    {
     "data": {
      "application/vnd.jupyter.widget-view+json": {
       "model_id": "7a2cccb5481c4af8b4b0d29f2225500f",
       "version_major": 2,
       "version_minor": 0
      },
      "text/plain": [
       "VBox()"
      ]
     },
     "metadata": {},
     "output_type": "display_data"
    },
    {
     "data": {
      "application/vnd.jupyter.widget-view+json": {
       "model_id": "",
       "version_major": 2,
       "version_minor": 0
      },
      "text/plain": [
       "FloatProgress(value=0.0, bar_style='info', description='Progress:', layout=Layout(height='25px', width='50%'),…"
      ]
     },
     "metadata": {},
     "output_type": "display_data"
    },
    {
     "name": "stdout",
     "output_type": "stream",
     "text": [
      "+------------+---------+----+------------+-----------+----------------+\n",
      "|Departamento|Municipio|Anio|TipoAtencion|Diagnostico|NumeroAtenciones|\n",
      "+------------+---------+----+------------+-----------+----------------+\n",
      "|           0|        0|   0|           0|          0|               0|\n",
      "+------------+---------+----+------------+-----------+----------------+"
     ]
    }
   ],
   "source": [
    "RIPS.select([count(when(col(c).isNull(), c)).alias(c) for c in RIPS.columns]).show()"
   ]
  },
  {
   "cell_type": "markdown",
   "id": "0067f717",
   "metadata": {},
   "source": [
    "**EDA - RIPS 4 Identificador de valores unicos por tipo de atencion**"
   ]
  },
  {
   "cell_type": "code",
   "execution_count": 18,
   "id": "e8d36775",
   "metadata": {
    "execution": {
     "iopub.execute_input": "2025-01-06T00:50:59.215321Z",
     "iopub.status.busy": "2025-01-06T00:50:59.215131Z",
     "iopub.status.idle": "2025-01-06T00:51:28.575332Z",
     "shell.execute_reply": "2025-01-06T00:51:28.574697Z",
     "shell.execute_reply.started": "2025-01-06T00:50:59.215290Z"
    },
    "tags": []
   },
   "outputs": [
    {
     "data": {
      "application/vnd.jupyter.widget-view+json": {
       "model_id": "7b8baff518b646b5811ac5b4c3d9f913",
       "version_major": 2,
       "version_minor": 0
      },
      "text/plain": [
       "VBox()"
      ]
     },
     "metadata": {},
     "output_type": "display_data"
    },
    {
     "data": {
      "application/vnd.jupyter.widget-view+json": {
       "model_id": "",
       "version_major": 2,
       "version_minor": 0
      },
      "text/plain": [
       "FloatProgress(value=0.0, bar_style='info', description='Progress:', layout=Layout(height='25px', width='50%'),…"
      ]
     },
     "metadata": {},
     "output_type": "display_data"
    },
    {
     "name": "stdout",
     "output_type": "stream",
     "text": [
      "+-----------------------+--------+\n",
      "|TipoAtencion           |count   |\n",
      "+-----------------------+--------+\n",
      "|CONSULTAS              |19858124|\n",
      "|PROCEDIMIENTOS DE SALUD|10224936|\n",
      "|URGENCIAS              |4370327 |\n",
      "|HOSPITALIZACIONES      |3546613 |\n",
      "+-----------------------+--------+"
     ]
    }
   ],
   "source": [
    "t_atencion = RIPS.groupBy('TipoAtencion').count().orderBy('count', ascending=False).show(truncate=False)"
   ]
  },
  {
   "cell_type": "markdown",
   "id": "7510bab6",
   "metadata": {},
   "source": [
    "**EDA - RIPS 5 Identificacion de valores de unicos por Departamento**"
   ]
  },
  {
   "cell_type": "code",
   "execution_count": 19,
   "id": "e742c95b",
   "metadata": {
    "execution": {
     "iopub.execute_input": "2025-01-06T00:51:28.576388Z",
     "iopub.status.busy": "2025-01-06T00:51:28.576208Z",
     "iopub.status.idle": "2025-01-06T00:51:55.931414Z",
     "shell.execute_reply": "2025-01-06T00:51:55.930704Z",
     "shell.execute_reply.started": "2025-01-06T00:51:28.576366Z"
    },
    "tags": []
   },
   "outputs": [
    {
     "data": {
      "application/vnd.jupyter.widget-view+json": {
       "model_id": "6c087b9eb7bd424985d67a56ef85d086",
       "version_major": 2,
       "version_minor": 0
      },
      "text/plain": [
       "VBox()"
      ]
     },
     "metadata": {},
     "output_type": "display_data"
    },
    {
     "data": {
      "application/vnd.jupyter.widget-view+json": {
       "model_id": "",
       "version_major": 2,
       "version_minor": 0
      },
      "text/plain": [
       "FloatProgress(value=0.0, bar_style='info', description='Progress:', layout=Layout(height='25px', width='50%'),…"
      ]
     },
     "metadata": {},
     "output_type": "display_data"
    },
    {
     "name": "stdout",
     "output_type": "stream",
     "text": [
      "+-----------------------+-------+\n",
      "|Departamento           |count  |\n",
      "+-----------------------+-------+\n",
      "|05 - Antioquia         |5254773|\n",
      "|25 - Cundinamarca      |4078864|\n",
      "|15 - BoyacÃ¡           |2480971|\n",
      "|76 - Valle del Cauca   |2476787|\n",
      "|52 - NariÃ±o           |2300658|\n",
      "|68 - Santander         |2249417|\n",
      "|23 - CÃ³rdoba          |1654900|\n",
      "|13 - BolÃ­var          |1638031|\n",
      "|73 - Tolima            |1576247|\n",
      "|41 - Huila             |1456320|\n",
      "|19 - Cauca             |1434846|\n",
      "|08 - AtlÃ¡ntico        |1318191|\n",
      "|47 - Magdalena         |1124352|\n",
      "|70 - Sucre             |1104066|\n",
      "|54 - Norte de Santander|1069825|\n",
      "|20 - Cesar             |1026632|\n",
      "|17 - Caldas            |965485 |\n",
      "|66 - Risaralda         |833909 |\n",
      "|50 - Meta              |814310 |\n",
      "|44 - La Guajira        |667104 |\n",
      "|63 - Quindio           |585832 |\n",
      "|18 - CaquetÃ¡          |572589 |\n",
      "|11 - BogotÃ¡, D.C.     |395254 |\n",
      "|27 - ChocÃ³            |371633 |\n",
      "|81 - Arauca            |290803 |\n",
      "|-1 - NO DEFINIDO       |245087 |\n",
      "|85 - Casanare          |13114  |\n",
      "+-----------------------+-------+"
     ]
    }
   ],
   "source": [
    "R1 = RIPS.groupBy('Departamento').count().orderBy('count', ascending=False).show(100,truncate=False)"
   ]
  },
  {
   "cell_type": "markdown",
   "id": "6876e7e1-797b-4bec-b18d-0fd25a146a1d",
   "metadata": {},
   "source": [
    "**EDA - RIPS 6 Identificacion de unicos por Municipio**"
   ]
  },
  {
   "cell_type": "code",
   "execution_count": 20,
   "id": "e821cd66",
   "metadata": {
    "execution": {
     "iopub.execute_input": "2025-01-06T00:51:55.932895Z",
     "iopub.status.busy": "2025-01-06T00:51:55.932639Z",
     "iopub.status.idle": "2025-01-06T00:52:25.289447Z",
     "shell.execute_reply": "2025-01-06T00:52:25.288713Z",
     "shell.execute_reply.started": "2025-01-06T00:51:55.932857Z"
    },
    "tags": []
   },
   "outputs": [
    {
     "data": {
      "application/vnd.jupyter.widget-view+json": {
       "model_id": "5068b134d64e4c2496c40ca07a2afd2a",
       "version_major": 2,
       "version_minor": 0
      },
      "text/plain": [
       "VBox()"
      ]
     },
     "metadata": {},
     "output_type": "display_data"
    },
    {
     "data": {
      "application/vnd.jupyter.widget-view+json": {
       "model_id": "",
       "version_major": 2,
       "version_minor": 0
      },
      "text/plain": [
       "FloatProgress(value=0.0, bar_style='info', description='Progress:', layout=Layout(height='25px', width='50%'),…"
      ]
     },
     "metadata": {},
     "output_type": "display_data"
    },
    {
     "name": "stdout",
     "output_type": "stream",
     "text": [
      "+-----------------------------------+------+\n",
      "|Municipio                          |count |\n",
      "+-----------------------------------+------+\n",
      "|11001 - BogotÃ¡, D.C.              |395254|\n",
      "|05001 - MedellÃ­n                  |367566|\n",
      "|13001 - Cartagena                  |306800|\n",
      "|76001 - Cali                       |304166|\n",
      "|08001 - Barranquilla               |282807|\n",
      "|-1 - No Definido                   |245087|\n",
      "|66001 - Pereira                    |226666|\n",
      "|73001 - IbaguÃ©                    |225996|\n",
      "|68001 - Bucaramanga                |225189|\n",
      "|50001 - Villavicencio              |206143|\n",
      "|17001 - Manizales                  |201840|\n",
      "|20001 - Valledupar                 |200217|\n",
      "|52001 - Pasto                      |199848|\n",
      "|08758 - Soledad                    |196389|\n",
      "|05360 - Itagui                     |194433|\n",
      "|54001 - CÃºcuta                    |194429|\n",
      "|15001 - Tunja                      |189312|\n",
      "|63001 - Armenia                    |189118|\n",
      "|41001 - Neiva                      |183078|\n",
      "|70001 - Sincelejo                  |175000|\n",
      "|76520 - Palmira                    |173378|\n",
      "|47001 - Santa Marta                |160312|\n",
      "|25754 - Soacha                     |154210|\n",
      "|05088 - Bello                      |152296|\n",
      "|25307 - Girardot                   |152146|\n",
      "|68276 - Floridablanca              |146777|\n",
      "|47189 - CiÃ©naga                   |146530|\n",
      "|25175 - ChÃ­a                      |144954|\n",
      "|18001 - Florencia                  |144899|\n",
      "|44430 - Maicao                     |144489|\n",
      "|76834 - TuluÃ¡                     |139355|\n",
      "|05266 - Envigado                   |134359|\n",
      "|23001 - MonterÃ­a                  |133930|\n",
      "|76147 - Cartago                    |133261|\n",
      "|68081 - Barrancabermeja            |132833|\n",
      "|15238 - Duitama                    |132145|\n",
      "|25269 - FacatativÃ¡                |131032|\n",
      "|25290 - FusagasugÃ¡                |129369|\n",
      "|25430 - Madrid                     |124294|\n",
      "|19001 - PopayÃ¡n                   |123960|\n",
      "|52356 - Ipiales                    |120286|\n",
      "|05154 - Caucasia                   |119909|\n",
      "|68547 - Piedecuesta                |118844|\n",
      "|66170 - Dosquebradas               |117513|\n",
      "|25286 - Funza                      |116570|\n",
      "|05376 - La Ceja                    |114052|\n",
      "|23162 - CeretÃ©                    |113973|\n",
      "|76111 - Guadalajara De Buga        |112207|\n",
      "|05212 - Copacabana                 |110410|\n",
      "|08638 - Sabanalarga                |110073|\n",
      "|25899 - ZipaquirÃ¡                 |105976|\n",
      "|73268 - Espinal                    |105236|\n",
      "|05615 - Rionegro                   |104373|\n",
      "|76109 - Buenaventura               |104340|\n",
      "|23660 - SahagÃºn                   |103929|\n",
      "|15759 - Sogamoso                   |103231|\n",
      "|13836 - Turbaco                    |102274|\n",
      "|05045 - ApartadÃ³                  |101736|\n",
      "|47555 - Plato                      |101671|\n",
      "|05129 - Caldas                     |101588|\n",
      "|23182 - ChinÃº                     |99223 |\n",
      "|25126 - CajicÃ¡                    |98589 |\n",
      "|63130 - Calarca                    |98417 |\n",
      "|52835 - San Andres De Tumaco       |97434 |\n",
      "|13052 - Arjona                     |97030 |\n",
      "|41551 - Pitalito                   |96485 |\n",
      "|76736 - Sevilla                    |92781 |\n",
      "|54498 - OcaÃ±a                     |91271 |\n",
      "|44001 - Riohacha                   |89858 |\n",
      "|70215 - Corozal                    |89661 |\n",
      "|05172 - ChigorodÃ³                 |88779 |\n",
      "|05308 - Girardota                  |88629 |\n",
      "|76892 - Yumbo                      |87774 |\n",
      "|05147 - Carepa                     |87589 |\n",
      "|08078 - Baranoa                    |87540 |\n",
      "|76130 - Candelaria                 |87105 |\n",
      "|27001 - QuibdÃ³                    |86852 |\n",
      "|17380 - La Dorada                  |86412 |\n",
      "|68679 - San Gil                    |86098 |\n",
      "|54405 - Los Patios                 |86060 |\n",
      "|08433 - Malambo                    |85790 |\n",
      "|50006 - AcacÃ­as                   |85086 |\n",
      "|23807 - Tierralta                  |84048 |\n",
      "|15516 - Paipa                      |82845 |\n",
      "|25473 - Mosquera                   |82484 |\n",
      "|23189 - CiÃ©naga De Oro            |81383 |\n",
      "|05837 - Turbo                      |81323 |\n",
      "|66682 - Santa Rosa De Cabal        |81240 |\n",
      "|17174 - ChinchinÃ¡                 |81095 |\n",
      "|68307 - GirÃ³n                     |80985 |\n",
      "|25843 - Villa De San Diego De Ubate|80566 |\n",
      "|47288 - FundaciÃ³n                 |79679 |\n",
      "|23417 - Lorica                     |79607 |\n",
      "|73443 - Mariquita                  |79389 |\n",
      "|05380 - La Estrella                |79207 |\n",
      "|76248 - El Cerrito                 |79191 |\n",
      "|41396 - La Plata                   |78863 |\n",
      "|05440 - Marinilla                  |78223 |\n",
      "|20011 - Aguachica                  |78047 |\n",
      "|76364 - JamundÃ­                   |76250 |\n",
      "+-----------------------------------+------+\n",
      "only showing top 100 rows"
     ]
    }
   ],
   "source": [
    "R2 = RIPS.groupBy('Municipio').count().orderBy('count', ascending=False).show(100,truncate=False)"
   ]
  },
  {
   "cell_type": "markdown",
   "id": "2d9939b2",
   "metadata": {},
   "source": [
    "**EDA - RIPS 7 Identificacion de valores de unicos por Municipio**"
   ]
  },
  {
   "cell_type": "code",
   "execution_count": 21,
   "id": "b347c3d5",
   "metadata": {
    "execution": {
     "iopub.execute_input": "2025-01-06T00:52:25.290498Z",
     "iopub.status.busy": "2025-01-06T00:52:25.290290Z",
     "iopub.status.idle": "2025-01-06T00:52:54.646587Z",
     "shell.execute_reply": "2025-01-06T00:52:54.645865Z",
     "shell.execute_reply.started": "2025-01-06T00:52:25.290470Z"
    },
    "tags": []
   },
   "outputs": [
    {
     "data": {
      "application/vnd.jupyter.widget-view+json": {
       "model_id": "90368b597e454fc3b8f37120f707ac29",
       "version_major": 2,
       "version_minor": 0
      },
      "text/plain": [
       "VBox()"
      ]
     },
     "metadata": {},
     "output_type": "display_data"
    },
    {
     "data": {
      "application/vnd.jupyter.widget-view+json": {
       "model_id": "",
       "version_major": 2,
       "version_minor": 0
      },
      "text/plain": [
       "FloatProgress(value=0.0, bar_style='info', description='Progress:', layout=Layout(height='25px', width='50%'),…"
      ]
     },
     "metadata": {},
     "output_type": "display_data"
    },
    {
     "name": "stdout",
     "output_type": "stream",
     "text": [
      "1076"
     ]
    }
   ],
   "source": [
    "RIPS.select(\"Municipio\").distinct().count()"
   ]
  },
  {
   "cell_type": "markdown",
   "id": "3286fe14-a79e-44b5-bc48-f06575de3221",
   "metadata": {
    "execution": {
     "iopub.execute_input": "2025-01-06T00:40:49.310072Z",
     "iopub.status.busy": "2025-01-06T00:40:49.309756Z"
    }
   },
   "source": [
    "**EDA - RIPS 0 Identificacion de valores de unicos por año**"
   ]
  },
  {
   "cell_type": "code",
   "execution_count": 30,
   "id": "966d4b47-c9d7-44fd-82e1-6356a378290d",
   "metadata": {
    "execution": {
     "iopub.execute_input": "2025-01-06T00:59:17.463217Z",
     "iopub.status.busy": "2025-01-06T00:59:17.462950Z",
     "iopub.status.idle": "2025-01-06T00:59:17.712586Z",
     "shell.execute_reply": "2025-01-06T00:59:17.711758Z",
     "shell.execute_reply.started": "2025-01-06T00:59:17.463189Z"
    },
    "tags": []
   },
   "outputs": [
    {
     "data": {
      "application/vnd.jupyter.widget-view+json": {
       "model_id": "3211b4b80fc14b348c7758ceb6702cad",
       "version_major": 2,
       "version_minor": 0
      },
      "text/plain": [
       "VBox()"
      ]
     },
     "metadata": {},
     "output_type": "display_data"
    },
    {
     "data": {
      "application/vnd.jupyter.widget-view+json": {
       "model_id": "",
       "version_major": 2,
       "version_minor": 0
      },
      "text/plain": [
       "FloatProgress(value=0.0, bar_style='info', description='Progress:', layout=Layout(height='25px', width='50%'),…"
      ]
     },
     "metadata": {},
     "output_type": "display_data"
    }
   ],
   "source": [
    "Anio = RIPS.select(\"Anio\").distinct()"
   ]
  },
  {
   "cell_type": "code",
   "execution_count": 33,
   "id": "2b1692ed-c4c4-4a41-880a-ff938069062b",
   "metadata": {
    "execution": {
     "iopub.execute_input": "2025-01-06T01:03:07.448077Z",
     "iopub.status.busy": "2025-01-06T01:03:07.447847Z",
     "iopub.status.idle": "2025-01-06T01:03:42.810754Z",
     "shell.execute_reply": "2025-01-06T01:03:42.810071Z",
     "shell.execute_reply.started": "2025-01-06T01:03:07.448050Z"
    },
    "tags": []
   },
   "outputs": [
    {
     "data": {
      "application/vnd.jupyter.widget-view+json": {
       "model_id": "38d0f1756f3e4656b1e3c9fc1642c9e6",
       "version_major": 2,
       "version_minor": 0
      },
      "text/plain": [
       "VBox()"
      ]
     },
     "metadata": {},
     "output_type": "display_data"
    },
    {
     "data": {
      "application/vnd.jupyter.widget-view+json": {
       "model_id": "",
       "version_major": 2,
       "version_minor": 0
      },
      "text/plain": [
       "FloatProgress(value=0.0, bar_style='info', description='Progress:', layout=Layout(height='25px', width='50%'),…"
      ]
     },
     "metadata": {},
     "output_type": "display_data"
    },
    {
     "name": "stdout",
     "output_type": "stream",
     "text": [
      "+----+\n",
      "|Anio|\n",
      "+----+\n",
      "|2009|\n",
      "|2010|\n",
      "|2011|\n",
      "|2012|\n",
      "|2013|\n",
      "|2014|\n",
      "|2015|\n",
      "|2016|\n",
      "|2017|\n",
      "|2018|\n",
      "|2019|\n",
      "|2020|\n",
      "|2021|\n",
      "+----+"
     ]
    }
   ],
   "source": [
    "Anio.orderBy(\"Anio\").show()"
   ]
  },
  {
   "cell_type": "markdown",
   "id": "eb6b1b3d",
   "metadata": {},
   "source": [
    "**EDA - RIPS 8 Identificacion de valores de unicos por Diagnostico**"
   ]
  },
  {
   "cell_type": "code",
   "execution_count": null,
   "id": "da22788a-29fa-49f6-b3ed-b72f48c72dbf",
   "metadata": {},
   "outputs": [],
   "source": []
  },
  {
   "cell_type": "code",
   "execution_count": 29,
   "id": "3c049392",
   "metadata": {
    "execution": {
     "iopub.execute_input": "2025-01-06T00:57:40.731407Z",
     "iopub.status.busy": "2025-01-06T00:57:40.731104Z",
     "iopub.status.idle": "2025-01-06T00:58:22.150770Z",
     "shell.execute_reply": "2025-01-06T00:58:22.149862Z",
     "shell.execute_reply.started": "2025-01-06T00:57:40.731369Z"
    },
    "tags": []
   },
   "outputs": [
    {
     "data": {
      "application/vnd.jupyter.widget-view+json": {
       "model_id": "491b2660cfc4418caacd146aa97ced3c",
       "version_major": 2,
       "version_minor": 0
      },
      "text/plain": [
       "VBox()"
      ]
     },
     "metadata": {},
     "output_type": "display_data"
    },
    {
     "data": {
      "application/vnd.jupyter.widget-view+json": {
       "model_id": "",
       "version_major": 2,
       "version_minor": 0
      },
      "text/plain": [
       "FloatProgress(value=0.0, bar_style='info', description='Progress:', layout=Layout(height='25px', width='50%'),…"
      ]
     },
     "metadata": {},
     "output_type": "display_data"
    },
    {
     "name": "stdout",
     "output_type": "stream",
     "text": [
      "12642"
     ]
    }
   ],
   "source": [
    "RIPS.select(\"Diagnostico\").distinct().count()"
   ]
  },
  {
   "cell_type": "markdown",
   "id": "a1bc8e2d",
   "metadata": {},
   "source": [
    "**EDA - RIPS 9 Cantidad de registros por Diagnostico**"
   ]
  },
  {
   "cell_type": "code",
   "execution_count": 23,
   "id": "6a6692e8",
   "metadata": {
    "execution": {
     "iopub.execute_input": "2025-01-06T00:53:26.005380Z",
     "iopub.status.busy": "2025-01-06T00:53:26.005211Z",
     "iopub.status.idle": "2025-01-06T00:53:57.375829Z",
     "shell.execute_reply": "2025-01-06T00:53:57.375067Z",
     "shell.execute_reply.started": "2025-01-06T00:53:26.005359Z"
    },
    "tags": []
   },
   "outputs": [
    {
     "data": {
      "application/vnd.jupyter.widget-view+json": {
       "model_id": "0d5ebe4ab77b4166aa30ebfff5741ed2",
       "version_major": 2,
       "version_minor": 0
      },
      "text/plain": [
       "VBox()"
      ]
     },
     "metadata": {},
     "output_type": "display_data"
    },
    {
     "data": {
      "application/vnd.jupyter.widget-view+json": {
       "model_id": "",
       "version_major": 2,
       "version_minor": 0
      },
      "text/plain": [
       "FloatProgress(value=0.0, bar_style='info', description='Progress:', layout=Layout(height='25px', width='50%'),…"
      ]
     },
     "metadata": {},
     "output_type": "display_data"
    },
    {
     "name": "stdout",
     "output_type": "stream",
     "text": [
      "+----------------------------------------------------------------------------------------+-----+\n",
      "|Diagnostico                                                                             |count|\n",
      "+----------------------------------------------------------------------------------------+-----+\n",
      "|R104 - OTROS DOLORES ABDOMINALES Y LOS NO ESPECIFICADOS                                 |50003|\n",
      "|N390 - INFECCION DE VIAS URINARIAS, SITIO NO ESPECIFICADO                               |49871|\n",
      "|I10X - HIPERTENSION ESENCIAL (PRIMARIA)                                                 |47504|\n",
      "|R509 - FIEBRE, NO ESPECIFICADA                                                          |47010|\n",
      "|R101 - DOLOR ABDOMINAL LOCALIZADO EN PARTE SUPERIOR                                     |45696|\n",
      "|R51X - CEFALEA                                                                          |44212|\n",
      "|R074 - DOLOR EN EL PECHO, NO ESPECIFICADO                                               |42642|\n",
      "|A09X - DIARREA Y GASTROENTERITIS DE PRESUNTO ORIGEN INFECCIOSO                          |42172|\n",
      "|R103 - DOLOR LOCALIZADO EN OTRAS PARTES INFERIORES DEL ABDOMEN                          |42032|\n",
      "|M545 - LUMBAGO NO ESPECIFICADO                                                          |41682|\n",
      "|O200 - AMENAZA DE ABORTO                                                                |41408|\n",
      "|N939 - HEMORRAGIA VAGINAL Y UTERINA ANORMAL, NO ESPECIFICADA                            |41385|\n",
      "|J449 - ENFERMEDAD PULMONAR OBSTRUCTIVA CRONICA, NO ESPECIFICADA                         |41328|\n",
      "|I500 - INSUFICIENCIA CARDIACA CONGESTIVA                                                |40902|\n",
      "|O800 - PARTO UNICO ESPONTANEO, PRESENTACION CEFALICA DE VERTICE                         |40425|\n",
      "|R102 - DOLOR PELVICO Y PERINEAL                                                         |40342|\n",
      "|L031 - CELULITIS DE OTRAS PARTES DE LOS MIEMBROS                                        |39713|\n",
      "|J189 - NEUMONIA, NO ESPECIFICADA                                                        |39676|\n",
      "|K922 - HEMORRAGIA GASTROINTESTINAL, NO ESPECIFICADA                                     |39627|\n",
      "|J459 - ASMA, NO ESPECIFICADA                                                            |39404|\n",
      "|K297 - GASTRITIS, NO ESPECIFICADA                                                       |39173|\n",
      "|R520 - DOLOR AGUDO                                                                      |38588|\n",
      "|Z321 - EMBARAZO CONFIRMADO                                                              |38401|\n",
      "|J159 - NEUMONIA BACTERIANA, NO ESPECIFICADA                                             |38046|\n",
      "|N40X - HIPERPLASIA DE LA PROSTATA                                                       |38015|\n",
      "|R072 - DOLOR PRECORDIAL                                                                 |37820|\n",
      "|R11X - NAUSEA Y VOMITO                                                                  |37594|\n",
      "|J441 - ENFERMEDAD PULMONAR OBSTRUCTIVA CRONICA CON EXACERBACION AGUDA, NO ESPECIFICADA  |37119|\n",
      "|R688 - OTROS SINTOMAS Y SIGNOS GENERALES ESPECIFICADOS                                  |37113|\n",
      "|J219 - BRONQUIOLITIS AGUDA, NO ESPECIFICADA                                             |36996|\n",
      "|K409 - HERNIA INGUINAL UNILATERAL O NO ESPECIFICADA, SIN OBSTRUCION NI GANGRENA         |36830|\n",
      "|S099 - TRAUMATISMO DE LA CABEZA, NO ESPECIFICADO                                        |36798|\n",
      "|S610 - HERIDA DE DEDO(S) DE LA MANO, SIN DAÃ‘O DE LA(S) UÃ‘A(S)                         |36654|\n",
      "|Z000 - EXAMEN MEDICO GENERAL                                                            |36629|\n",
      "|J00X - RINOFARINGITIS AGUDA (RESFRIADO COMUN)                                           |36590|\n",
      "|R568 - OTRAS CONVULSIONES Y LAS NO ESPECIFICADAS                                        |36456|\n",
      "|O809 - PARTO UNICO ESPONTANEO, SIN OTRA ESPECIFICACION                                  |36444|\n",
      "|K808 - OTRAS COLELITIASIS                                                               |36435|\n",
      "|I679 - ENFERMEDAD CEREBROVASCULAR, NO ESPECIFICADA                                      |36331|\n",
      "|Z359 - SUPERVISION DE EMBARAZO DE ALTO RIESGO, SIN OTRA ESPECIFICACION                  |36193|\n",
      "|O470 - FALSO TRABAJO DE PARTO ANTES DE LA 37 SEMANAS COMPLETAS DE GESTACION             |36098|\n",
      "|E119 - DIABETES MELLITUS NO INSULINODEPENDIENTE SIN MENCION DE COMPLICACION             |35932|\n",
      "|K359 - APENDICITIS AGUDA, NO ESPECIFICADA                                               |35853|\n",
      "|R529 - DOLOR, NO ESPECIFICADO                                                           |35652|\n",
      "|I219 - INFARTO AGUDO DEL MIOCARDIO, SIN OTRA ESPECIFICACION                             |35537|\n",
      "|O034 - ABORTO ESPONTANEO  INCOMPLETO, SIN COMPLICACION                                  |35490|\n",
      "|D649 - ANEMIA DE TIPO NO ESPECIFICADO                                                   |35473|\n",
      "|R42X - MAREO Y DESVANECIMIENTO                                                          |35369|\n",
      "|J209 - BRONQUITIS AGUDA, NO ESPECIFICADA                                                |34870|\n",
      "|R55X - SINCOPE Y COLAPSO                                                                |34799|\n",
      "|S525 - FRACTURA DE LA EPIFISIS INFERIOR DEL RADIO                                       |34676|\n",
      "|M255 - DOLOR EN ARTICULACION                                                            |34537|\n",
      "|G409 - EPILEPSIA, TIPO NO ESPECIFICADO                                                  |34203|\n",
      "|D259 - LEIOMIOMA DEL UTERO, SIN OTRA ESPECIFICACION                                     |34185|\n",
      "|N189 - INSUFICIENCIA RENAL CRONICA, NO ESPECIFICADA                                     |34124|\n",
      "|J180 - BRONCONEUMONIA, NO ESPECIFICADA                                                  |33741|\n",
      "|O829 - PARTO POR CESAREA, SIN OTRA ESPECIFICACION                                       |33465|\n",
      "|O479 - FALSO TRABAJO DE PARTO SIN OTRA ESPECIFICACION                                   |33143|\n",
      "|R060 - DISNEA                                                                           |33096|\n",
      "|K429 - HERNIA UMBILICAL SIN OBSTRUCCION NI GANGRENA                                     |32979|\n",
      "|L039 - CELULITIS DE SITIO NO ESPECIFICADO                                               |32821|\n",
      "|N23X - COLICO RENAL, NO ESPECIFICADO                                                    |32712|\n",
      "|S019 - HERIDA DE LA CABEZA, PARTE NO ESPECIFICADA                                       |32655|\n",
      "|K802 - CALCULO DE LA VESICULA BILIAR SIN COLECISTITIS                                   |32651|\n",
      "|Z349 - SUPERVISION DE EMBARAZO NORMAL NO ESPECIFICADO                                   |32383|\n",
      "|M796 - DOLOR EN MIEMBRO                                                                 |32183|\n",
      "|J22X - INFECCION AGUDA NO ESPECIFICADA DE LAS VIAS RESPIRATORIAS INFERIORES             |32118|\n",
      "|N200 - CALCULO DEL RIÃ‘ON                                                               |32107|\n",
      "|J039 - AMIGDALITIS AGUDA, NO ESPECIFICADA                                               |32022|\n",
      "|Z348 - SUPERVISION DE OTROS EMBARAZOS NORMALES                                          |31837|\n",
      "|S822 - FRACTURA DE LA DIAFISIS DE LA TIBIA                                              |31599|\n",
      "|G439 - MIGRAÃ‘A, NO ESPECIFICADA                                                        |30995|\n",
      "|M544 - LUMBAGO CON CIATICA                                                              |30990|\n",
      "|K37X - APENDICITIS, NO ESPECIFICADA                                                     |30800|\n",
      "|E109 - DIABETES MELLITUS INSULINODEPENDIENTE SIN MENCION DE COMPLICACION                |30796|\n",
      "|R33X - RETENCION DE ORINA                                                               |30722|\n",
      "|R31X - HEMATURIA, NO ESPECIFICADA                                                       |30667|\n",
      "|S800 - CONTUSION DE LA RODILLA                                                          |30559|\n",
      "|B349 - INFECCION VIRAL, NO ESPECIFICADA                                                 |30425|\n",
      "|J069 - INFECCION AGUDA DE LAS VIAS RESPIRATORIAS SUPERIORES, NO ESPECIFICADA            |30336|\n",
      "|K295 - GASTRITIS CRONICA, NO ESPECIFICADA                                               |30005|\n",
      "|O471 - FALSO TRABAJO DE PARTO ANTES DE LA 37 Y MAS SEMANAS COMPLETAS DE GESTACION       |29828|\n",
      "|R100 - ABDOMEN AGUDO                                                                    |29709|\n",
      "|J46X - ESTADO ASMATICO                                                                  |29690|\n",
      "|S420 - FRACTURA DE LA CLAVICULA                                                         |29682|\n",
      "|E149 - DIABETES MELLITUS, NO ESPECIFICADA SIN MENCION DE COMPLICACION                   |29624|\n",
      "|S626 - FRACTURA DE OTRO DEDO DE LA MANO                                                 |29526|\n",
      "|K800 - CALCULO DE LA VESICULA BILIAR CON COLECISTITIS AGUDA                             |29521|\n",
      "|Z358 - SUPERVISION DE OTROS EMBARAZOS DE ALTO RIESGO                                    |29434|\n",
      "|K590 - CONSTIPACION                                                                     |29401|\n",
      "|H813 - OTROS VERTIGOS PERIFERICOS                                                       |29383|\n",
      "|I64X - ACCIDENTE VASCULAR ENCEFALICO AGUDO, NO ESPECIFICADO COMO HEMORRAGICO O ISQUEMICO|29283|\n",
      "|T784 - ALERGIA NO ESPECIFICADA                                                          |29134|\n",
      "|L038 - CELULITIS DE OTROS SITIOS                                                        |29045|\n",
      "|R040 - EPISTAXIS                                                                        |28960|\n",
      "|N760 - VAGINITIS AGUDA                                                                  |28656|\n",
      "|M542 - CERVICALGIA                                                                      |28643|\n",
      "|S619 - HERIDA DE LA MUÃ‘ECA Y DE LA MANO, PARTE NO ESPECIFICADA                         |28642|\n",
      "|L030 - CELULITIS DE LOS DEDOS DE LA MANO Y DEL PIE                                      |28420|\n",
      "|S069 - TRAUMATISMO INTRACRANEAL, NO ESPECIFICADO                                        |28371|\n",
      "+----------------------------------------------------------------------------------------+-----+\n",
      "only showing top 100 rows"
     ]
    }
   ],
   "source": [
    "R3 = RIPS.groupBy('Diagnostico').count().orderBy('count', ascending=False).show(100,truncate=False)"
   ]
  },
  {
   "cell_type": "markdown",
   "id": "c45c5e1e",
   "metadata": {},
   "source": [
    "**EDA - Municipios 1 Identificacion de valores Null en el conjutno de datos municipios**\n"
   ]
  },
  {
   "cell_type": "code",
   "execution_count": 24,
   "id": "2862867b",
   "metadata": {
    "execution": {
     "iopub.execute_input": "2025-01-06T00:53:57.377238Z",
     "iopub.status.busy": "2025-01-06T00:53:57.376980Z",
     "iopub.status.idle": "2025-01-06T00:53:58.140910Z",
     "shell.execute_reply": "2025-01-06T00:53:58.140267Z",
     "shell.execute_reply.started": "2025-01-06T00:53:57.377201Z"
    },
    "tags": []
   },
   "outputs": [
    {
     "data": {
      "application/vnd.jupyter.widget-view+json": {
       "model_id": "aeb3d22677c24166bcdb527b5303fc38",
       "version_major": 2,
       "version_minor": 0
      },
      "text/plain": [
       "VBox()"
      ]
     },
     "metadata": {},
     "output_type": "display_data"
    },
    {
     "data": {
      "application/vnd.jupyter.widget-view+json": {
       "model_id": "",
       "version_major": 2,
       "version_minor": 0
      },
      "text/plain": [
       "FloatProgress(value=0.0, bar_style='info', description='Progress:', layout=Layout(height='25px', width='50%'),…"
      ]
     },
     "metadata": {},
     "output_type": "display_data"
    },
    {
     "name": "stdout",
     "output_type": "stream",
     "text": [
      "+----------+----------+----------+----------+----+-------+--------+\n",
      "|Codigo_Dep|Nombre_Dep|Codigo_mun|Nombre_mun|Area|LATITUD|LONGITUD|\n",
      "+----------+----------+----------+----------+----+-------+--------+\n",
      "|         0|         0|         0|         0|   0|      0|       0|\n",
      "+----------+----------+----------+----------+----+-------+--------+"
     ]
    }
   ],
   "source": [
    "MUNICIPIOS.select([count(when(col(c).isNull(), c)).alias(c) for c in MUNICIPIOS.columns]).show()"
   ]
  },
  {
   "cell_type": "markdown",
   "id": "90e70cd9",
   "metadata": {},
   "source": [
    "**EDA - Municipios 2 Realizar una descripcion del conjunto de datos**"
   ]
  },
  {
   "cell_type": "code",
   "execution_count": 25,
   "id": "bc0a9547",
   "metadata": {
    "execution": {
     "iopub.execute_input": "2025-01-06T00:53:58.142380Z",
     "iopub.status.busy": "2025-01-06T00:53:58.142135Z",
     "iopub.status.idle": "2025-01-06T00:53:58.904766Z",
     "shell.execute_reply": "2025-01-06T00:53:58.904002Z",
     "shell.execute_reply.started": "2025-01-06T00:53:58.142345Z"
    },
    "tags": []
   },
   "outputs": [
    {
     "data": {
      "application/vnd.jupyter.widget-view+json": {
       "model_id": "b0bf3c5aa2c14671afd6b68d0149187d",
       "version_major": 2,
       "version_minor": 0
      },
      "text/plain": [
       "VBox()"
      ]
     },
     "metadata": {},
     "output_type": "display_data"
    },
    {
     "data": {
      "application/vnd.jupyter.widget-view+json": {
       "model_id": "",
       "version_major": 2,
       "version_minor": 0
      },
      "text/plain": [
       "FloatProgress(value=0.0, bar_style='info', description='Progress:', layout=Layout(height='25px', width='50%'),…"
      ]
     },
     "metadata": {},
     "output_type": "display_data"
    },
    {
     "name": "stdout",
     "output_type": "stream",
     "text": [
      "+-------+------------------+----------+------------------+----------+--------------------+------------------+------------------+\n",
      "|summary|        Codigo_Dep|Nombre_Dep|        Codigo_mun|Nombre_mun|                Area|           LATITUD|          LONGITUD|\n",
      "+-------+------------------+----------+------------------+----------+--------------------+------------------+------------------+\n",
      "|  count|              1122|      1122|              1122|      1122|                1122|              1122|              1122|\n",
      "|   mean| 38.22281639928699|      NULL| 38656.54456327986|      NULL|                NULL| 5.603231264634578|-74.64141428470577|\n",
      "| stddev|26.538214008586692|      NULL|26524.369768981025|      NULL|                NULL|2.6485798468310264| 1.678500543676696|\n",
      "|    min|                05|  AMAZONAS|             05001| ABEJORRAL|                Isla|      -3.631323222|      -81.71762382|\n",
      "|    max|                99|   VICHADA|             99773|     ÚTICA|Área no municipal...|        13.3511096|        -67.001518|\n",
      "+-------+------------------+----------+------------------+----------+--------------------+------------------+------------------+"
     ]
    }
   ],
   "source": [
    "# EDA- DATOS 1\n",
    "MUNICIPIOS.describe().show()"
   ]
  },
  {
   "cell_type": "markdown",
   "id": "ee0397c9",
   "metadata": {},
   "source": [
    "**EDA - Municipios 3 Identificacion de valores unicos por columna relacionada al departamento**"
   ]
  },
  {
   "cell_type": "code",
   "execution_count": 143,
   "id": "70856461",
   "metadata": {
    "execution": {
     "iopub.execute_input": "2025-01-03T02:02:39.592894Z",
     "iopub.status.busy": "2025-01-03T02:02:39.592710Z",
     "iopub.status.idle": "2025-01-03T02:02:39.838471Z",
     "shell.execute_reply": "2025-01-03T02:02:39.837596Z",
     "shell.execute_reply.started": "2025-01-03T02:02:39.592870Z"
    },
    "tags": []
   },
   "outputs": [
    {
     "data": {
      "application/vnd.jupyter.widget-view+json": {
       "model_id": "8576bd1532d849d4bbea962d221cfbf5",
       "version_major": 2,
       "version_minor": 0
      },
      "text/plain": [
       "VBox()"
      ]
     },
     "metadata": {},
     "output_type": "display_data"
    },
    {
     "data": {
      "application/vnd.jupyter.widget-view+json": {
       "model_id": "",
       "version_major": 2,
       "version_minor": 0
      },
      "text/plain": [
       "FloatProgress(value=0.0, bar_style='info', description='Progress:', layout=Layout(height='25px', width='50%'),…"
      ]
     },
     "metadata": {},
     "output_type": "display_data"
    },
    {
     "name": "stdout",
     "output_type": "stream",
     "text": [
      "33"
     ]
    }
   ],
   "source": [
    "MUNICIPIOS.select(\"Codigo_Dep\").distinct().count()"
   ]
  },
  {
   "cell_type": "code",
   "execution_count": 144,
   "id": "ddc710a5",
   "metadata": {
    "execution": {
     "iopub.execute_input": "2025-01-03T02:02:39.839616Z",
     "iopub.status.busy": "2025-01-03T02:02:39.839455Z",
     "iopub.status.idle": "2025-01-03T02:02:40.086954Z",
     "shell.execute_reply": "2025-01-03T02:02:40.086209Z",
     "shell.execute_reply.started": "2025-01-03T02:02:39.839595Z"
    },
    "tags": []
   },
   "outputs": [
    {
     "data": {
      "application/vnd.jupyter.widget-view+json": {
       "model_id": "7668542f9394419ba96537e3747badeb",
       "version_major": 2,
       "version_minor": 0
      },
      "text/plain": [
       "VBox()"
      ]
     },
     "metadata": {},
     "output_type": "display_data"
    },
    {
     "data": {
      "application/vnd.jupyter.widget-view+json": {
       "model_id": "",
       "version_major": 2,
       "version_minor": 0
      },
      "text/plain": [
       "FloatProgress(value=0.0, bar_style='info', description='Progress:', layout=Layout(height='25px', width='50%'),…"
      ]
     },
     "metadata": {},
     "output_type": "display_data"
    },
    {
     "name": "stdout",
     "output_type": "stream",
     "text": [
      "33"
     ]
    }
   ],
   "source": [
    "MUNICIPIOS.select(\"Nombre_dep\").distinct().count()"
   ]
  },
  {
   "cell_type": "markdown",
   "id": "6a1fe632",
   "metadata": {},
   "source": [
    "**EDA - Municipios 4 Identificacion de valores unicos por nombre de departamento**"
   ]
  },
  {
   "cell_type": "code",
   "execution_count": 145,
   "id": "beaf96af",
   "metadata": {
    "execution": {
     "iopub.execute_input": "2025-01-03T02:02:40.088469Z",
     "iopub.status.busy": "2025-01-03T02:02:40.088228Z",
     "iopub.status.idle": "2025-01-03T02:02:40.132695Z",
     "shell.execute_reply": "2025-01-03T02:02:40.131944Z",
     "shell.execute_reply.started": "2025-01-03T02:02:40.088434Z"
    },
    "tags": []
   },
   "outputs": [
    {
     "data": {
      "application/vnd.jupyter.widget-view+json": {
       "model_id": "dcd75065534647ea85ebc77e1ff9e7d7",
       "version_major": 2,
       "version_minor": 0
      },
      "text/plain": [
       "VBox()"
      ]
     },
     "metadata": {},
     "output_type": "display_data"
    },
    {
     "data": {
      "application/vnd.jupyter.widget-view+json": {
       "model_id": "",
       "version_major": 2,
       "version_minor": 0
      },
      "text/plain": [
       "FloatProgress(value=0.0, bar_style='info', description='Progress:', layout=Layout(height='25px', width='50%'),…"
      ]
     },
     "metadata": {},
     "output_type": "display_data"
    }
   ],
   "source": [
    "DOMDEP = MUNICIPIOS.select(\"Nombre_dep\").distinct()"
   ]
  },
  {
   "cell_type": "code",
   "execution_count": 146,
   "id": "24c690d6",
   "metadata": {
    "execution": {
     "iopub.execute_input": "2025-01-03T02:02:40.134148Z",
     "iopub.status.busy": "2025-01-03T02:02:40.133912Z",
     "iopub.status.idle": "2025-01-03T02:02:40.393071Z",
     "shell.execute_reply": "2025-01-03T02:02:40.392375Z",
     "shell.execute_reply.started": "2025-01-03T02:02:40.134114Z"
    },
    "tags": []
   },
   "outputs": [
    {
     "data": {
      "application/vnd.jupyter.widget-view+json": {
       "model_id": "f09be282dbf24fac9733def064a4c1ec",
       "version_major": 2,
       "version_minor": 0
      },
      "text/plain": [
       "VBox()"
      ]
     },
     "metadata": {},
     "output_type": "display_data"
    },
    {
     "data": {
      "application/vnd.jupyter.widget-view+json": {
       "model_id": "",
       "version_major": 2,
       "version_minor": 0
      },
      "text/plain": [
       "FloatProgress(value=0.0, bar_style='info', description='Progress:', layout=Layout(height='25px', width='50%'),…"
      ]
     },
     "metadata": {},
     "output_type": "display_data"
    },
    {
     "name": "stdout",
     "output_type": "stream",
     "text": [
      "+--------------------------------------------------------+\n",
      "|Nombre_dep                                              |\n",
      "+--------------------------------------------------------+\n",
      "|CÓRDOBA                                                 |\n",
      "|CASANARE                                                |\n",
      "|ANTIOQUIA                                               |\n",
      "|BOLÍVAR                                                 |\n",
      "|CUNDINAMARCA                                            |\n",
      "|NORTE DE SANTANDER                                      |\n",
      "|PUTUMAYO                                                |\n",
      "|NARIÑO                                                  |\n",
      "|BOYACÁ                                                  |\n",
      "|GUAINÍA                                                 |\n",
      "|CAUCA                                                   |\n",
      "|VICHADA                                                 |\n",
      "|CAQUETÁ                                                 |\n",
      "|BOGOTÁ, D.C.                                            |\n",
      "|LA GUAJIRA                                              |\n",
      "|HUILA                                                   |\n",
      "|SUCRE                                                   |\n",
      "|QUINDÍO                                                 |\n",
      "|VAUPÉS                                                  |\n",
      "|CESAR                                                   |\n",
      "|SANTANDER                                               |\n",
      "|AMAZONAS                                                |\n",
      "|ARCHIPIÉLAGO DE SAN ANDRÉS, PROVIDENCIA Y SANTA CATALINA|\n",
      "|CALDAS                                                  |\n",
      "|RISARALDA                                               |\n",
      "|META                                                    |\n",
      "|ATLÁNTICO                                               |\n",
      "|VALLE DEL CAUCA                                         |\n",
      "|TOLIMA                                                  |\n",
      "|ARAUCA                                                  |\n",
      "|CHOCÓ                                                   |\n",
      "|GUAVIARE                                                |\n",
      "|MAGDALENA                                               |\n",
      "+--------------------------------------------------------+"
     ]
    }
   ],
   "source": [
    "DOMDEP.show(35,truncate=False)"
   ]
  },
  {
   "cell_type": "markdown",
   "id": "af6f400c",
   "metadata": {},
   "source": [
    "**EDA - Municipios 5 Identificacion de valores unicos por columna relacionada al municipio**"
   ]
  },
  {
   "cell_type": "code",
   "execution_count": 147,
   "id": "4fd30b56",
   "metadata": {
    "execution": {
     "iopub.execute_input": "2025-01-03T02:02:40.394585Z",
     "iopub.status.busy": "2025-01-03T02:02:40.394359Z",
     "iopub.status.idle": "2025-01-03T02:02:40.787606Z",
     "shell.execute_reply": "2025-01-03T02:02:40.786908Z",
     "shell.execute_reply.started": "2025-01-03T02:02:40.394550Z"
    },
    "tags": []
   },
   "outputs": [
    {
     "data": {
      "application/vnd.jupyter.widget-view+json": {
       "model_id": "08a2d943ee5741f5ae2f8802e6a75017",
       "version_major": 2,
       "version_minor": 0
      },
      "text/plain": [
       "VBox()"
      ]
     },
     "metadata": {},
     "output_type": "display_data"
    },
    {
     "data": {
      "application/vnd.jupyter.widget-view+json": {
       "model_id": "",
       "version_major": 2,
       "version_minor": 0
      },
      "text/plain": [
       "FloatProgress(value=0.0, bar_style='info', description='Progress:', layout=Layout(height='25px', width='50%'),…"
      ]
     },
     "metadata": {},
     "output_type": "display_data"
    },
    {
     "name": "stdout",
     "output_type": "stream",
     "text": [
      "1122"
     ]
    }
   ],
   "source": [
    "MUNICIPIOS.select(\"Codigo_mun\").distinct().count()"
   ]
  },
  {
   "cell_type": "code",
   "execution_count": 148,
   "id": "ece25736",
   "metadata": {
    "execution": {
     "iopub.execute_input": "2025-01-03T02:02:40.788777Z",
     "iopub.status.busy": "2025-01-03T02:02:40.788565Z",
     "iopub.status.idle": "2025-01-03T02:02:41.036075Z",
     "shell.execute_reply": "2025-01-03T02:02:41.035281Z",
     "shell.execute_reply.started": "2025-01-03T02:02:40.788720Z"
    },
    "tags": []
   },
   "outputs": [
    {
     "data": {
      "application/vnd.jupyter.widget-view+json": {
       "model_id": "64a1de85aa384e4380dc36301d541274",
       "version_major": 2,
       "version_minor": 0
      },
      "text/plain": [
       "VBox()"
      ]
     },
     "metadata": {},
     "output_type": "display_data"
    },
    {
     "data": {
      "application/vnd.jupyter.widget-view+json": {
       "model_id": "",
       "version_major": 2,
       "version_minor": 0
      },
      "text/plain": [
       "FloatProgress(value=0.0, bar_style='info', description='Progress:', layout=Layout(height='25px', width='50%'),…"
      ]
     },
     "metadata": {},
     "output_type": "display_data"
    },
    {
     "name": "stdout",
     "output_type": "stream",
     "text": [
      "1038"
     ]
    }
   ],
   "source": [
    "MUNICIPIOS.select(\"Nombre_mun\").distinct().count()"
   ]
  },
  {
   "cell_type": "code",
   "execution_count": 149,
   "id": "2edb0f0b",
   "metadata": {
    "execution": {
     "iopub.execute_input": "2025-01-03T02:03:29.990480Z",
     "iopub.status.busy": "2025-01-03T02:03:29.990245Z",
     "iopub.status.idle": "2025-01-03T02:03:30.035185Z",
     "shell.execute_reply": "2025-01-03T02:03:30.034538Z",
     "shell.execute_reply.started": "2025-01-03T02:03:29.990454Z"
    },
    "tags": []
   },
   "outputs": [
    {
     "data": {
      "application/vnd.jupyter.widget-view+json": {
       "model_id": "369b0c32ce5c4a63bcd3ee24f044342f",
       "version_major": 2,
       "version_minor": 0
      },
      "text/plain": [
       "VBox()"
      ]
     },
     "metadata": {},
     "output_type": "display_data"
    },
    {
     "data": {
      "application/vnd.jupyter.widget-view+json": {
       "model_id": "",
       "version_major": 2,
       "version_minor": 0
      },
      "text/plain": [
       "FloatProgress(value=0.0, bar_style='info', description='Progress:', layout=Layout(height='25px', width='50%'),…"
      ]
     },
     "metadata": {},
     "output_type": "display_data"
    }
   ],
   "source": [
    "DOMUN = MUNICIPIOS.select(\"Nombre_mun\").distinct()"
   ]
  },
  {
   "cell_type": "code",
   "execution_count": 150,
   "id": "d9f8dd41",
   "metadata": {
    "execution": {
     "iopub.execute_input": "2025-01-03T02:03:30.719998Z",
     "iopub.status.busy": "2025-01-03T02:03:30.719763Z",
     "iopub.status.idle": "2025-01-03T02:03:30.973091Z",
     "shell.execute_reply": "2025-01-03T02:03:30.972447Z",
     "shell.execute_reply.started": "2025-01-03T02:03:30.719973Z"
    },
    "tags": []
   },
   "outputs": [
    {
     "data": {
      "application/vnd.jupyter.widget-view+json": {
       "model_id": "38b7690c13cc47e9beda3326097c624b",
       "version_major": 2,
       "version_minor": 0
      },
      "text/plain": [
       "VBox()"
      ]
     },
     "metadata": {},
     "output_type": "display_data"
    },
    {
     "data": {
      "application/vnd.jupyter.widget-view+json": {
       "model_id": "",
       "version_major": 2,
       "version_minor": 0
      },
      "text/plain": [
       "FloatProgress(value=0.0, bar_style='info', description='Progress:', layout=Layout(height='25px', width='50%'),…"
      ]
     },
     "metadata": {},
     "output_type": "display_data"
    },
    {
     "name": "stdout",
     "output_type": "stream",
     "text": [
      "+-----------------------+\n",
      "|Nombre_mun             |\n",
      "+-----------------------+\n",
      "|BRICEÑO                |\n",
      "|VILLAMARÍA             |\n",
      "|SAN JUAN DE RIOSECO    |\n",
      "|PAICOL                 |\n",
      "|YAVARATÉ               |\n",
      "|CHOACHÍ                |\n",
      "|TIBACUY                |\n",
      "|CALARCÁ                |\n",
      "|ANSERMANUEVO           |\n",
      "|LA PEDRERA             |\n",
      "|YOLOMBÓ                |\n",
      "|CÓRDOBA                |\n",
      "|GARAGOA                |\n",
      "|PELAYA                 |\n",
      "|JERICÓ                 |\n",
      "|AMAGÁ                  |\n",
      "|PISBA                  |\n",
      "|GAMA                   |\n",
      "|LA SALINA              |\n",
      "|PATÍA                  |\n",
      "|REPELÓN                |\n",
      "|PUERTO NARIÑO          |\n",
      "|CHAGUANÍ               |\n",
      "|VIGÍA DEL FUERTE       |\n",
      "|SANTA CRUZ DE MOMPOX   |\n",
      "|FUNZA                  |\n",
      "|RETIRO                 |\n",
      "|PUERTO ARICA           |\n",
      "|PORE                   |\n",
      "|TOTORÓ                 |\n",
      "|CAICEDO                |\n",
      "|PINILLOS               |\n",
      "|NEIRA                  |\n",
      "|CHACHAGÜÍ              |\n",
      "|RIOBLANCO              |\n",
      "|RÍO DE ORO             |\n",
      "|SAN MARCOS             |\n",
      "|MAGANGUÉ               |\n",
      "|SUTATENZA              |\n",
      "|SAN JUAN NEPOMUCENO    |\n",
      "|CAMPOHERMOSO           |\n",
      "|OCAMONTE               |\n",
      "|MARINILLA              |\n",
      "|ALEJANDRÍA             |\n",
      "|HATILLO DE LOBA        |\n",
      "|ANCUYA                 |\n",
      "|ARBELÁEZ               |\n",
      "|LEJANÍAS               |\n",
      "|OVEJAS                 |\n",
      "|SAN VICENTE FERRER     |\n",
      "|RIOHACHA               |\n",
      "|EL CARMEN DE VIBORAL   |\n",
      "|ALGARROBO              |\n",
      "|CUBARRAL               |\n",
      "|GACHETÁ                |\n",
      "|MEDINA                 |\n",
      "|EL BANCO               |\n",
      "|PIJAO                  |\n",
      "|LA SIERRA              |\n",
      "|NECOCLÍ                |\n",
      "|SANTO TOMÁS            |\n",
      "|EL DORADO              |\n",
      "|ANAPOIMA               |\n",
      "|EL LITORAL DEL SAN JUAN|\n",
      "|BELÉN DE UMBRÍA        |\n",
      "|PUERTO BOYACÁ          |\n",
      "|SAN JUANITO            |\n",
      "|PUERTO LIBERTADOR      |\n",
      "|SAN ANDRÉS DE TUMACO   |\n",
      "|PUERTO LÓPEZ           |\n",
      "|EL PAUJÍL              |\n",
      "|MELGAR                 |\n",
      "|GUAYATÁ                |\n",
      "|ROVIRA                 |\n",
      "|BOLÍVAR                |\n",
      "|TUCHÍN                 |\n",
      "|ULLOA                  |\n",
      "|FILANDIA               |\n",
      "|CIUDAD BOLÍVAR         |\n",
      "|CANALETE               |\n",
      "|CARTAGO                |\n",
      "|ROLDANILLO             |\n",
      "|SAN JUAN DE URABÁ      |\n",
      "|ACANDÍ                 |\n",
      "|GINEBRA                |\n",
      "|CARURÚ                 |\n",
      "|ZAMBRANO               |\n",
      "|NILO                   |\n",
      "|POTOSÍ                 |\n",
      "|OSPINA                 |\n",
      "|CUÍTIVA                |\n",
      "|GALAPA                 |\n",
      "|PAUNA                  |\n",
      "|PITAL                  |\n",
      "|BARANOA                |\n",
      "|MUZO                   |\n",
      "|SAN JOAQUÍN            |\n",
      "|COROZAL                |\n",
      "|LA CEJA                |\n",
      "|GALERAS                |\n",
      "+-----------------------+\n",
      "only showing top 100 rows"
     ]
    }
   ],
   "source": [
    "DOMUN.show(100,truncate=False)"
   ]
  },
  {
   "cell_type": "markdown",
   "id": "da1b1149",
   "metadata": {},
   "source": [
    "**EDA - Municipios 6 Validacion de latitud y longitud**"
   ]
  },
  {
   "cell_type": "code",
   "execution_count": 151,
   "id": "970e097f",
   "metadata": {
    "execution": {
     "iopub.execute_input": "2025-01-03T02:03:34.758659Z",
     "iopub.status.busy": "2025-01-03T02:03:34.758399Z",
     "iopub.status.idle": "2025-01-03T02:03:35.006349Z",
     "shell.execute_reply": "2025-01-03T02:03:35.005655Z",
     "shell.execute_reply.started": "2025-01-03T02:03:34.758629Z"
    },
    "tags": []
   },
   "outputs": [
    {
     "data": {
      "application/vnd.jupyter.widget-view+json": {
       "model_id": "a60138e48d0c40d08740f81ec6e72d29",
       "version_major": 2,
       "version_minor": 0
      },
      "text/plain": [
       "VBox()"
      ]
     },
     "metadata": {},
     "output_type": "display_data"
    },
    {
     "data": {
      "application/vnd.jupyter.widget-view+json": {
       "model_id": "",
       "version_major": 2,
       "version_minor": 0
      },
      "text/plain": [
       "FloatProgress(value=0.0, bar_style='info', description='Progress:', layout=Layout(height='25px', width='50%'),…"
      ]
     },
     "metadata": {},
     "output_type": "display_data"
    }
   ],
   "source": [
    "VAL_LAT = MUNICIPIOS.withColumn(\n",
    "    \"Validacion\",when((col(\"LATITUD\").between(-90, 90)) & (col(\"LONGITUD\").between(-180, 180)), True).otherwise(False)\n",
    ")"
   ]
  },
  {
   "cell_type": "code",
   "execution_count": 152,
   "id": "2cca700c",
   "metadata": {
    "execution": {
     "iopub.execute_input": "2025-01-03T02:03:35.375067Z",
     "iopub.status.busy": "2025-01-03T02:03:35.374843Z",
     "iopub.status.idle": "2025-01-03T02:03:35.438926Z",
     "shell.execute_reply": "2025-01-03T02:03:35.438286Z",
     "shell.execute_reply.started": "2025-01-03T02:03:35.375041Z"
    },
    "tags": []
   },
   "outputs": [
    {
     "data": {
      "application/vnd.jupyter.widget-view+json": {
       "model_id": "4d0e040c84bc45f6884db52105a5e11f",
       "version_major": 2,
       "version_minor": 0
      },
      "text/plain": [
       "VBox()"
      ]
     },
     "metadata": {},
     "output_type": "display_data"
    },
    {
     "data": {
      "application/vnd.jupyter.widget-view+json": {
       "model_id": "",
       "version_major": 2,
       "version_minor": 0
      },
      "text/plain": [
       "FloatProgress(value=0.0, bar_style='info', description='Progress:', layout=Layout(height='25px', width='50%'),…"
      ]
     },
     "metadata": {},
     "output_type": "display_data"
    }
   ],
   "source": [
    "# Verificar si existen registros con error en igual a false."
   ]
  },
  {
   "cell_type": "code",
   "execution_count": 153,
   "id": "216c7623",
   "metadata": {
    "execution": {
     "iopub.execute_input": "2025-01-03T02:03:35.719084Z",
     "iopub.status.busy": "2025-01-03T02:03:35.718847Z",
     "iopub.status.idle": "2025-01-03T02:03:35.762537Z",
     "shell.execute_reply": "2025-01-03T02:03:35.761966Z",
     "shell.execute_reply.started": "2025-01-03T02:03:35.719057Z"
    },
    "tags": []
   },
   "outputs": [
    {
     "data": {
      "application/vnd.jupyter.widget-view+json": {
       "model_id": "622a659949ee4bc99fb9327d112e2e3c",
       "version_major": 2,
       "version_minor": 0
      },
      "text/plain": [
       "VBox()"
      ]
     },
     "metadata": {},
     "output_type": "display_data"
    },
    {
     "data": {
      "application/vnd.jupyter.widget-view+json": {
       "model_id": "",
       "version_major": 2,
       "version_minor": 0
      },
      "text/plain": [
       "FloatProgress(value=0.0, bar_style='info', description='Progress:', layout=Layout(height='25px', width='50%'),…"
      ]
     },
     "metadata": {},
     "output_type": "display_data"
    }
   ],
   "source": [
    "VAL = VAL_LAT.filter(VAL_LAT[\"Validacion\"] == \"false\")"
   ]
  },
  {
   "cell_type": "code",
   "execution_count": 154,
   "id": "bf9c8883",
   "metadata": {
    "execution": {
     "iopub.execute_input": "2025-01-03T02:03:35.925766Z",
     "iopub.status.busy": "2025-01-03T02:03:35.925545Z",
     "iopub.status.idle": "2025-01-03T02:03:36.171350Z",
     "shell.execute_reply": "2025-01-03T02:03:36.170613Z",
     "shell.execute_reply.started": "2025-01-03T02:03:35.925742Z"
    },
    "tags": []
   },
   "outputs": [
    {
     "data": {
      "application/vnd.jupyter.widget-view+json": {
       "model_id": "bc78bdf6a0154156944c79cf2d43b85a",
       "version_major": 2,
       "version_minor": 0
      },
      "text/plain": [
       "VBox()"
      ]
     },
     "metadata": {},
     "output_type": "display_data"
    },
    {
     "data": {
      "application/vnd.jupyter.widget-view+json": {
       "model_id": "",
       "version_major": 2,
       "version_minor": 0
      },
      "text/plain": [
       "FloatProgress(value=0.0, bar_style='info', description='Progress:', layout=Layout(height='25px', width='50%'),…"
      ]
     },
     "metadata": {},
     "output_type": "display_data"
    },
    {
     "name": "stdout",
     "output_type": "stream",
     "text": [
      "+----------+----------+----------+----------+----+-------+--------+----------+\n",
      "|Codigo_Dep|Nombre_Dep|Codigo_mun|Nombre_mun|Area|LATITUD|LONGITUD|Validacion|\n",
      "+----------+----------+----------+----------+----+-------+--------+----------+\n",
      "+----------+----------+----------+----------+----+-------+--------+----------+"
     ]
    }
   ],
   "source": [
    "VAL.show()"
   ]
  },
  {
   "cell_type": "code",
   "execution_count": 155,
   "id": "5990b7b5-792d-41a2-985c-46a7a8973a15",
   "metadata": {
    "execution": {
     "iopub.execute_input": "2025-01-03T02:03:37.903453Z",
     "iopub.status.busy": "2025-01-03T02:03:37.903218Z",
     "iopub.status.idle": "2025-01-03T02:03:38.151928Z",
     "shell.execute_reply": "2025-01-03T02:03:38.151260Z",
     "shell.execute_reply.started": "2025-01-03T02:03:37.903425Z"
    },
    "tags": []
   },
   "outputs": [
    {
     "data": {
      "application/vnd.jupyter.widget-view+json": {
       "model_id": "4593c97ad54747a78d030187d5cc9737",
       "version_major": 2,
       "version_minor": 0
      },
      "text/plain": [
       "VBox()"
      ]
     },
     "metadata": {},
     "output_type": "display_data"
    },
    {
     "data": {
      "application/vnd.jupyter.widget-view+json": {
       "model_id": "",
       "version_major": 2,
       "version_minor": 0
      },
      "text/plain": [
       "FloatProgress(value=0.0, bar_style='info', description='Progress:', layout=Layout(height='25px', width='50%'),…"
      ]
     },
     "metadata": {},
     "output_type": "display_data"
    }
   ],
   "source": [
    "MUNI_COOR = MUNICIPIOS.filter(( col(\"Codigo_mun\")  == \"05001\") | (col(\"Codigo_mun\") == \"08001\") | (col(\"Codigo_mun\") == \"11001\")| (col(\"Codigo_mun\") == \"13001\")\\\n",
    "                              | (col(\"Codigo_mun\") == \"15001\") | (col(\"Codigo_mun\") == \"17001\") | (col(\"Codigo_mun\") == \"18001\") | (col(\"Codigo_mun\") == \"19001\")\\\n",
    "                              | (col(\"Codigo_mun\") == \"20001\") | (col(\"Codigo_mun\") == \"23001\") | (col(\"Codigo_mun\") == \"25754\") | (col(\"Codigo_mun\") == \"27001\")\\\n",
    "                              | (col(\"Codigo_mun\") == \"41001\") | (col(\"Codigo_mun\") == \"44001\") | (col(\"Codigo_mun\") == \"47001\") | (col(\"Codigo_mun\") == \"50001\")\\\n",
    "                              | (col(\"Codigo_mun\") == \"52001\") | (col(\"Codigo_mun\") == \"54001\") | (col(\"Codigo_mun\") == \"63001\") | (col(\"Codigo_mun\") == \"66001\")\\\n",
    "                              | (col(\"Codigo_mun\") == \"68001\") | (col(\"Codigo_mun\") == \"70001\") | (col(\"Codigo_mun\") == \"73001\") | (col(\"Codigo_mun\") == \"76001\")\\\n",
    "                              | (col(\"Codigo_mun\") == \"81001\") | (col(\"Codigo_mun\") == \"85001\") | (col(\"Codigo_mun\") == \"86001\") | (col(\"Codigo_mun\") == \"88001\")\\\n",
    "                              | (col(\"Codigo_mun\") == \"91001\") | (col(\"Codigo_mun\") == \"94001\") | (col(\"Codigo_mun\") == \"95001\") | (col(\"Codigo_mun\") == \"97001\")\\\n",
    "                              | (col(\"Codigo_mun\") == \"99001\")\n",
    "                              ).select(\"Codigo_Dep\",\"LATITUD\", \"LONGITUD\")                           \n"
   ]
  },
  {
   "cell_type": "code",
   "execution_count": 156,
   "id": "913200aa-8879-4d6f-8014-c581dc41d75d",
   "metadata": {
    "execution": {
     "iopub.execute_input": "2025-01-03T02:03:38.595366Z",
     "iopub.status.busy": "2025-01-03T02:03:38.595142Z",
     "iopub.status.idle": "2025-01-03T02:03:38.638574Z",
     "shell.execute_reply": "2025-01-03T02:03:38.637938Z",
     "shell.execute_reply.started": "2025-01-03T02:03:38.595340Z"
    },
    "tags": []
   },
   "outputs": [
    {
     "data": {
      "application/vnd.jupyter.widget-view+json": {
       "model_id": "7f28464897a64a418e00922a90068337",
       "version_major": 2,
       "version_minor": 0
      },
      "text/plain": [
       "VBox()"
      ]
     },
     "metadata": {},
     "output_type": "display_data"
    },
    {
     "data": {
      "application/vnd.jupyter.widget-view+json": {
       "model_id": "",
       "version_major": 2,
       "version_minor": 0
      },
      "text/plain": [
       "FloatProgress(value=0.0, bar_style='info', description='Progress:', layout=Layout(height='25px', width='50%'),…"
      ]
     },
     "metadata": {},
     "output_type": "display_data"
    }
   ],
   "source": [
    "MUNI_COOR_DEF = MUNI_COOR.withColumnRenamed(\"LATITUD\", \"LATITUD_DEP\")\\\n",
    "                         .withColumnRenamed(\"LONGITUD\", \"LONGITUD_DEP\")"
   ]
  },
  {
   "cell_type": "code",
   "execution_count": 157,
   "id": "bc5e2533-e116-4ead-b76b-2a96635726e9",
   "metadata": {
    "execution": {
     "iopub.execute_input": "2025-01-03T02:03:38.791137Z",
     "iopub.status.busy": "2025-01-03T02:03:38.790914Z",
     "iopub.status.idle": "2025-01-03T02:03:39.544827Z",
     "shell.execute_reply": "2025-01-03T02:03:39.544081Z",
     "shell.execute_reply.started": "2025-01-03T02:03:38.791112Z"
    },
    "tags": []
   },
   "outputs": [
    {
     "data": {
      "application/vnd.jupyter.widget-view+json": {
       "model_id": "bb18f64bb7a241ebbbc41372329327cc",
       "version_major": 2,
       "version_minor": 0
      },
      "text/plain": [
       "VBox()"
      ]
     },
     "metadata": {},
     "output_type": "display_data"
    },
    {
     "data": {
      "application/vnd.jupyter.widget-view+json": {
       "model_id": "",
       "version_major": 2,
       "version_minor": 0
      },
      "text/plain": [
       "FloatProgress(value=0.0, bar_style='info', description='Progress:', layout=Layout(height='25px', width='50%'),…"
      ]
     },
     "metadata": {},
     "output_type": "display_data"
    },
    {
     "name": "stdout",
     "output_type": "stream",
     "text": [
      "+----------+------------+------------+\n",
      "|Codigo_Dep|LATITUD_DEP |LONGITUD_DEP|\n",
      "+----------+------------+------------+\n",
      "|05        |6.257590259 |-75.61103107|\n",
      "|08        |10.98152051 |-74.82771544|\n",
      "|11        |4.316107698 |-74.1810727 |\n",
      "|13        |10.46343362 |-75.45889915|\n",
      "|15        |5.518472615 |-73.37801856|\n",
      "|17        |5.08343301  |-75.50727881|\n",
      "|18        |1.749138704 |-75.55823906|\n",
      "|19        |2.471704362 |-76.59194419|\n",
      "|20        |10.21890277 |-73.45784764|\n",
      "|23        |8.584698016 |-75.95055079|\n",
      "|25        |4.581866267 |-74.24029696|\n",
      "|27        |5.7543229   |-76.65015147|\n",
      "|41        |2.993360046 |-75.27236232|\n",
      "|44        |11.24297214 |-72.95876315|\n",
      "|47        |11.12189436 |-73.88527855|\n",
      "|50        |4.09166877  |-73.49291595|\n",
      "|52        |1.083605497 |-77.20610074|\n",
      "|54        |8.112041811 |-72.48862641|\n",
      "|63        |4.499501128 |-75.72489985|\n",
      "|66        |4.803662773 |-75.79579093|\n",
      "|68        |7.155833544 |-73.11156997|\n",
      "|70        |9.316673928 |-75.43174967|\n",
      "|73        |4.451921427 |-75.252591  |\n",
      "|76        |3.399043723 |-76.57649259|\n",
      "|81        |6.796280825 |-70.50921153|\n",
      "|85        |5.242744761 |-72.25802857|\n",
      "|86        |1.26070915  |-76.66584349|\n",
      "|88        |12.54311512 |-81.71762382|\n",
      "|91        |-3.530058784|-70.04513691|\n",
      "|94        |3.516363079 |-68.00834728|\n",
      "|95        |2.484286091 |-71.91916993|\n",
      "|97        |1.06148231  |-70.46688401|\n",
      "|99        |5.836529669 |-68.14122234|\n",
      "+----------+------------+------------+"
     ]
    }
   ],
   "source": [
    "MUNI_COOR_DEF.show(n=35,truncate=False) "
   ]
  },
  {
   "cell_type": "code",
   "execution_count": 158,
   "id": "0a11746a-23ec-491a-a51a-25b553125aaf",
   "metadata": {
    "execution": {
     "iopub.execute_input": "2025-01-03T02:03:39.546593Z",
     "iopub.status.busy": "2025-01-03T02:03:39.546342Z",
     "iopub.status.idle": "2025-01-03T02:03:39.589587Z",
     "shell.execute_reply": "2025-01-03T02:03:39.589030Z",
     "shell.execute_reply.started": "2025-01-03T02:03:39.546556Z"
    },
    "tags": []
   },
   "outputs": [
    {
     "data": {
      "application/vnd.jupyter.widget-view+json": {
       "model_id": "965bd14422ea4c71a7f6c022cae2445f",
       "version_major": 2,
       "version_minor": 0
      },
      "text/plain": [
       "VBox()"
      ]
     },
     "metadata": {},
     "output_type": "display_data"
    },
    {
     "data": {
      "application/vnd.jupyter.widget-view+json": {
       "model_id": "",
       "version_major": 2,
       "version_minor": 0
      },
      "text/plain": [
       "FloatProgress(value=0.0, bar_style='info', description='Progress:', layout=Layout(height='25px', width='50%'),…"
      ]
     },
     "metadata": {},
     "output_type": "display_data"
    }
   ],
   "source": [
    "MUNI_COOR_DEF.createOrReplaceTempView(\"MUNI_COOR_DEF\")"
   ]
  },
  {
   "cell_type": "code",
   "execution_count": null,
   "id": "7bbe39df-14eb-4123-8920-3ff51e9d91a6",
   "metadata": {
    "tags": []
   },
   "outputs": [],
   "source": []
  },
  {
   "cell_type": "code",
   "execution_count": null,
   "id": "9a580344-1fa3-4872-b01b-d3e80b5ceb6d",
   "metadata": {},
   "outputs": [],
   "source": []
  },
  {
   "cell_type": "markdown",
   "id": "2f279052",
   "metadata": {},
   "source": [
    "**EDA - CIE 7 - Seleccionar columnas a utilizar en el dataset CIE**"
   ]
  },
  {
   "cell_type": "code",
   "execution_count": 159,
   "id": "9baee73b",
   "metadata": {
    "execution": {
     "iopub.execute_input": "2025-01-03T02:03:49.355131Z",
     "iopub.status.busy": "2025-01-03T02:03:49.354909Z",
     "iopub.status.idle": "2025-01-03T02:03:49.397246Z",
     "shell.execute_reply": "2025-01-03T02:03:49.396664Z",
     "shell.execute_reply.started": "2025-01-03T02:03:49.355106Z"
    },
    "tags": []
   },
   "outputs": [
    {
     "data": {
      "application/vnd.jupyter.widget-view+json": {
       "model_id": "9d398b561f4d4b6d8cb9c71ee58c91ea",
       "version_major": 2,
       "version_minor": 0
      },
      "text/plain": [
       "VBox()"
      ]
     },
     "metadata": {},
     "output_type": "display_data"
    },
    {
     "data": {
      "application/vnd.jupyter.widget-view+json": {
       "model_id": "",
       "version_major": 2,
       "version_minor": 0
      },
      "text/plain": [
       "FloatProgress(value=0.0, bar_style='info', description='Progress:', layout=Layout(height='25px', width='50%'),…"
      ]
     },
     "metadata": {},
     "output_type": "display_data"
    }
   ],
   "source": [
    "CIE_COLUMNAS = CIE.select(\"Codigo\",\"Nombre\",\"Descripcion\",\"Extra_II:EdadMinima\",\"Extra_III:EdadMaxima\",\"Extra_V\",\"Extra_VI:Capitulo\")"
   ]
  },
  {
   "cell_type": "code",
   "execution_count": 160,
   "id": "2d25729b",
   "metadata": {
    "execution": {
     "iopub.execute_input": "2025-01-03T02:03:49.539621Z",
     "iopub.status.busy": "2025-01-03T02:03:49.539372Z",
     "iopub.status.idle": "2025-01-03T02:03:49.801479Z",
     "shell.execute_reply": "2025-01-03T02:03:49.800680Z",
     "shell.execute_reply.started": "2025-01-03T02:03:49.539576Z"
    },
    "tags": []
   },
   "outputs": [
    {
     "data": {
      "application/vnd.jupyter.widget-view+json": {
       "model_id": "b27eb8da238a436ca4c79cc3913738b2",
       "version_major": 2,
       "version_minor": 0
      },
      "text/plain": [
       "VBox()"
      ]
     },
     "metadata": {},
     "output_type": "display_data"
    },
    {
     "data": {
      "application/vnd.jupyter.widget-view+json": {
       "model_id": "",
       "version_major": 2,
       "version_minor": 0
      },
      "text/plain": [
       "FloatProgress(value=0.0, bar_style='info', description='Progress:', layout=Layout(height='25px', width='50%'),…"
      ]
     },
     "metadata": {},
     "output_type": "display_data"
    }
   ],
   "source": [
    "CIE_COLUMNAS_REN = CIE_COLUMNAS.withColumnRenamed(\"Extra_II:EdadMinima\", \"EdadMinima\")\\\n",
    "                               .withColumnRenamed(\"Extra_III:EdadMaxima\", \"EdadMaxima\")\\\n",
    "                               .withColumnRenamed(\"Extra_V\", \"NomCap\")\\\n",
    "                               .withColumnRenamed(\"Extra_VI:Capitulo\",\"CIE_3\")\n"
   ]
  },
  {
   "cell_type": "code",
   "execution_count": 161,
   "id": "5b729fda",
   "metadata": {
    "execution": {
     "iopub.execute_input": "2025-01-03T02:03:49.802767Z",
     "iopub.status.busy": "2025-01-03T02:03:49.802577Z",
     "iopub.status.idle": "2025-01-03T02:03:49.843280Z",
     "shell.execute_reply": "2025-01-03T02:03:49.842734Z",
     "shell.execute_reply.started": "2025-01-03T02:03:49.802742Z"
    },
    "tags": []
   },
   "outputs": [
    {
     "data": {
      "application/vnd.jupyter.widget-view+json": {
       "model_id": "ba363765c94f4e169c3c0c029ee84912",
       "version_major": 2,
       "version_minor": 0
      },
      "text/plain": [
       "VBox()"
      ]
     },
     "metadata": {},
     "output_type": "display_data"
    },
    {
     "data": {
      "application/vnd.jupyter.widget-view+json": {
       "model_id": "",
       "version_major": 2,
       "version_minor": 0
      },
      "text/plain": [
       "FloatProgress(value=0.0, bar_style='info', description='Progress:', layout=Layout(height='25px', width='50%'),…"
      ]
     },
     "metadata": {},
     "output_type": "display_data"
    }
   ],
   "source": [
    "CIE = CIE_COLUMNAS_REN"
   ]
  },
  {
   "cell_type": "code",
   "execution_count": 162,
   "id": "aed7c88f",
   "metadata": {
    "execution": {
     "iopub.execute_input": "2025-01-03T02:03:51.437388Z",
     "iopub.status.busy": "2025-01-03T02:03:51.437166Z",
     "iopub.status.idle": "2025-01-03T02:03:51.689929Z",
     "shell.execute_reply": "2025-01-03T02:03:51.689216Z",
     "shell.execute_reply.started": "2025-01-03T02:03:51.437364Z"
    },
    "tags": []
   },
   "outputs": [
    {
     "data": {
      "application/vnd.jupyter.widget-view+json": {
       "model_id": "cc8a89f288914626aca9e16a2598c439",
       "version_major": 2,
       "version_minor": 0
      },
      "text/plain": [
       "VBox()"
      ]
     },
     "metadata": {},
     "output_type": "display_data"
    },
    {
     "data": {
      "application/vnd.jupyter.widget-view+json": {
       "model_id": "",
       "version_major": 2,
       "version_minor": 0
      },
      "text/plain": [
       "FloatProgress(value=0.0, bar_style='info', description='Progress:', layout=Layout(height='25px', width='50%'),…"
      ]
     },
     "metadata": {},
     "output_type": "display_data"
    },
    {
     "name": "stdout",
     "output_type": "stream",
     "text": [
      "+------+--------------------+--------------------+----------+----------+--------------------+-----+\n",
      "|Codigo|              Nombre|         Descripcion|EdadMinima|EdadMaxima|              NomCap|CIE_3|\n",
      "+------+--------------------+--------------------+----------+----------+--------------------+-----+\n",
      "|  A000|COLERA DEBIDO A V...|              COLERA|         0|       999|CIERTAS ENFERMEDA...|  A00|\n",
      "|  A001|COLERA DEBIDO A V...|              COLERA|         0|       999|CIERTAS ENFERMEDA...|  A00|\n",
      "|  A009|COLERA, NO ESPECI...|              COLERA|         0|       999|CIERTAS ENFERMEDA...|  A00|\n",
      "|  A010|     FIEBRE TIFOIDEA|FIEBRES TIFOIDEA ...|         0|       999|CIERTAS ENFERMEDA...|  A01|\n",
      "|  A011|FIEBRE PARATIFOID...|FIEBRES TIFOIDEA ...|         0|       999|CIERTAS ENFERMEDA...|  A01|\n",
      "|  A012|FIEBRE PARATIFOID...|FIEBRES TIFOIDEA ...|         0|       999|CIERTAS ENFERMEDA...|  A01|\n",
      "|  A013|FIEBRE PARATIFOID...|FIEBRES TIFOIDEA ...|         0|       999|CIERTAS ENFERMEDA...|  A01|\n",
      "|  A014|FIEBRE PARATIFOID...|FIEBRES TIFOIDEA ...|         0|       999|CIERTAS ENFERMEDA...|  A01|\n",
      "|  A020|ENTERITIS DEBIDA ...|OTRAS INFECCIONES...|         0|       999|CIERTAS ENFERMEDA...|  A02|\n",
      "|  A021|SEPSIS DEBIDA A S...|OTRAS INFECCIONES...|         0|       999|CIERTAS ENFERMEDA...|  A02|\n",
      "|  A022|INFECCIONES LOCAL...|OTRAS INFECCIONES...|         0|       999|CIERTAS ENFERMEDA...|  A02|\n",
      "|  A028|OTRAS INFECCIONES...|OTRAS INFECCIONES...|         0|       999|CIERTAS ENFERMEDA...|  A02|\n",
      "|  A029|INFECCION DEBIDA ...|OTRAS INFECCIONES...|         0|       999|CIERTAS ENFERMEDA...|  A02|\n",
      "|  A030|SHIGELOSIS DEBIDA...|          SHIGELOSIS|         0|       999|CIERTAS ENFERMEDA...|  A03|\n",
      "|  A031|SHIGELOSIS DEBIDA...|          SHIGELOSIS|         0|       999|CIERTAS ENFERMEDA...|  A03|\n",
      "|  A032|SHIGELOSIS DEBIDA...|          SHIGELOSIS|         0|       999|CIERTAS ENFERMEDA...|  A03|\n",
      "|  A033|SHIGELOSIS DEBIDA...|          SHIGELOSIS|         0|       999|CIERTAS ENFERMEDA...|  A03|\n",
      "|  A038|    OTRAS SHIGELOSIS|          SHIGELOSIS|         0|       999|CIERTAS ENFERMEDA...|  A03|\n",
      "|  A039|SHIGELOSIS DE TIP...|          SHIGELOSIS|         0|       999|CIERTAS ENFERMEDA...|  A03|\n",
      "|  A040|INFECCION DEBIDA ...|OTRAS INFECCIONES...|         0|       999|CIERTAS ENFERMEDA...|  A04|\n",
      "+------+--------------------+--------------------+----------+----------+--------------------+-----+\n",
      "only showing top 20 rows"
     ]
    }
   ],
   "source": [
    "CIE.show()"
   ]
  },
  {
   "cell_type": "markdown",
   "id": "ef0b0e43",
   "metadata": {},
   "source": [
    "**EDA - CIE 8 - Revision de valores NULL**"
   ]
  },
  {
   "cell_type": "code",
   "execution_count": 163,
   "id": "76c520df",
   "metadata": {
    "execution": {
     "iopub.execute_input": "2025-01-03T02:03:52.138458Z",
     "iopub.status.busy": "2025-01-03T02:03:52.138244Z",
     "iopub.status.idle": "2025-01-03T02:03:52.889124Z",
     "shell.execute_reply": "2025-01-03T02:03:52.888292Z",
     "shell.execute_reply.started": "2025-01-03T02:03:52.138435Z"
    },
    "tags": []
   },
   "outputs": [
    {
     "data": {
      "application/vnd.jupyter.widget-view+json": {
       "model_id": "bc297834bae8433ca351a1030bbca121",
       "version_major": 2,
       "version_minor": 0
      },
      "text/plain": [
       "VBox()"
      ]
     },
     "metadata": {},
     "output_type": "display_data"
    },
    {
     "data": {
      "application/vnd.jupyter.widget-view+json": {
       "model_id": "",
       "version_major": 2,
       "version_minor": 0
      },
      "text/plain": [
       "FloatProgress(value=0.0, bar_style='info', description='Progress:', layout=Layout(height='25px', width='50%'),…"
      ]
     },
     "metadata": {},
     "output_type": "display_data"
    },
    {
     "name": "stdout",
     "output_type": "stream",
     "text": [
      "+------+------+-----------+----------+----------+------+-----+\n",
      "|Codigo|Nombre|Descripcion|EdadMinima|EdadMaxima|NomCap|CIE_3|\n",
      "+------+------+-----------+----------+----------+------+-----+\n",
      "|     0|     0|          0|         0|         0|     0|    0|\n",
      "+------+------+-----------+----------+----------+------+-----+"
     ]
    }
   ],
   "source": [
    "CIE.select([count(when(col(c).isNull(), c)).alias(c) for c in CIE.columns]).show()"
   ]
  },
  {
   "cell_type": "markdown",
   "id": "7b8cb25f",
   "metadata": {},
   "source": [
    "**EDA - CIE 9 Identificacion de valores unicos para el conjunto de datos CIE**"
   ]
  },
  {
   "cell_type": "code",
   "execution_count": 164,
   "id": "14116062",
   "metadata": {
    "execution": {
     "iopub.execute_input": "2025-01-03T02:03:59.505444Z",
     "iopub.status.busy": "2025-01-03T02:03:59.505218Z",
     "iopub.status.idle": "2025-01-03T02:04:00.261687Z",
     "shell.execute_reply": "2025-01-03T02:04:00.260898Z",
     "shell.execute_reply.started": "2025-01-03T02:03:59.505420Z"
    },
    "tags": []
   },
   "outputs": [
    {
     "data": {
      "application/vnd.jupyter.widget-view+json": {
       "model_id": "1b8977ec20c1403e934df0a12b7d6308",
       "version_major": 2,
       "version_minor": 0
      },
      "text/plain": [
       "VBox()"
      ]
     },
     "metadata": {},
     "output_type": "display_data"
    },
    {
     "data": {
      "application/vnd.jupyter.widget-view+json": {
       "model_id": "",
       "version_major": 2,
       "version_minor": 0
      },
      "text/plain": [
       "FloatProgress(value=0.0, bar_style='info', description='Progress:', layout=Layout(height='25px', width='50%'),…"
      ]
     },
     "metadata": {},
     "output_type": "display_data"
    },
    {
     "name": "stdout",
     "output_type": "stream",
     "text": [
      "12634"
     ]
    }
   ],
   "source": [
    "CIE.select(\"Codigo\").distinct().count()"
   ]
  },
  {
   "cell_type": "code",
   "execution_count": 165,
   "id": "0a97c3e2",
   "metadata": {
    "execution": {
     "iopub.execute_input": "2025-01-03T02:04:00.262955Z",
     "iopub.status.busy": "2025-01-03T02:04:00.262789Z",
     "iopub.status.idle": "2025-01-03T02:04:01.013669Z",
     "shell.execute_reply": "2025-01-03T02:04:01.012875Z",
     "shell.execute_reply.started": "2025-01-03T02:04:00.262933Z"
    },
    "tags": []
   },
   "outputs": [
    {
     "data": {
      "application/vnd.jupyter.widget-view+json": {
       "model_id": "18f030b9b0c24e9c9588fc1c60c78960",
       "version_major": 2,
       "version_minor": 0
      },
      "text/plain": [
       "VBox()"
      ]
     },
     "metadata": {},
     "output_type": "display_data"
    },
    {
     "data": {
      "application/vnd.jupyter.widget-view+json": {
       "model_id": "",
       "version_major": 2,
       "version_minor": 0
      },
      "text/plain": [
       "FloatProgress(value=0.0, bar_style='info', description='Progress:', layout=Layout(height='25px', width='50%'),…"
      ]
     },
     "metadata": {},
     "output_type": "display_data"
    },
    {
     "name": "stdout",
     "output_type": "stream",
     "text": [
      "2117"
     ]
    }
   ],
   "source": [
    "CIE.select(\"Descripcion\").distinct().count()"
   ]
  },
  {
   "cell_type": "code",
   "execution_count": 166,
   "id": "1ec46531",
   "metadata": {
    "execution": {
     "iopub.execute_input": "2025-01-03T02:04:01.015044Z",
     "iopub.status.busy": "2025-01-03T02:04:01.014874Z",
     "iopub.status.idle": "2025-01-03T02:04:01.764535Z",
     "shell.execute_reply": "2025-01-03T02:04:01.763812Z",
     "shell.execute_reply.started": "2025-01-03T02:04:01.015022Z"
    },
    "tags": []
   },
   "outputs": [
    {
     "data": {
      "application/vnd.jupyter.widget-view+json": {
       "model_id": "4ae781bcb4b94d97a09daed5899d37db",
       "version_major": 2,
       "version_minor": 0
      },
      "text/plain": [
       "VBox()"
      ]
     },
     "metadata": {},
     "output_type": "display_data"
    },
    {
     "data": {
      "application/vnd.jupyter.widget-view+json": {
       "model_id": "",
       "version_major": 2,
       "version_minor": 0
      },
      "text/plain": [
       "FloatProgress(value=0.0, bar_style='info', description='Progress:', layout=Layout(height='25px', width='50%'),…"
      ]
     },
     "metadata": {},
     "output_type": "display_data"
    },
    {
     "name": "stdout",
     "output_type": "stream",
     "text": [
      "2060"
     ]
    }
   ],
   "source": [
    "CIE.select(\"CIE_3\").distinct().count()"
   ]
  },
  {
   "cell_type": "code",
   "execution_count": 167,
   "id": "90b3fe7f",
   "metadata": {
    "execution": {
     "iopub.execute_input": "2025-01-03T02:04:02.567492Z",
     "iopub.status.busy": "2025-01-03T02:04:02.567186Z",
     "iopub.status.idle": "2025-01-03T02:04:02.974555Z",
     "shell.execute_reply": "2025-01-03T02:04:02.973957Z",
     "shell.execute_reply.started": "2025-01-03T02:04:02.567454Z"
    },
    "tags": []
   },
   "outputs": [
    {
     "data": {
      "application/vnd.jupyter.widget-view+json": {
       "model_id": "a444894112174f8ab99957ed5ff9a3e0",
       "version_major": 2,
       "version_minor": 0
      },
      "text/plain": [
       "VBox()"
      ]
     },
     "metadata": {},
     "output_type": "display_data"
    },
    {
     "data": {
      "application/vnd.jupyter.widget-view+json": {
       "model_id": "",
       "version_major": 2,
       "version_minor": 0
      },
      "text/plain": [
       "FloatProgress(value=0.0, bar_style='info', description='Progress:', layout=Layout(height='25px', width='50%'),…"
      ]
     },
     "metadata": {},
     "output_type": "display_data"
    },
    {
     "name": "stdout",
     "output_type": "stream",
     "text": [
      "97"
     ]
    }
   ],
   "source": [
    "CIE.select(\"NomCap\").distinct().count()"
   ]
  },
  {
   "cell_type": "code",
   "execution_count": 168,
   "id": "73240470",
   "metadata": {
    "execution": {
     "iopub.execute_input": "2025-01-03T02:04:03.124256Z",
     "iopub.status.busy": "2025-01-03T02:04:03.123956Z",
     "iopub.status.idle": "2025-01-03T02:04:03.894674Z",
     "shell.execute_reply": "2025-01-03T02:04:03.894039Z",
     "shell.execute_reply.started": "2025-01-03T02:04:03.124213Z"
    },
    "tags": []
   },
   "outputs": [
    {
     "data": {
      "application/vnd.jupyter.widget-view+json": {
       "model_id": "9313f787a22a4172bf3703873a4d85c1",
       "version_major": 2,
       "version_minor": 0
      },
      "text/plain": [
       "VBox()"
      ]
     },
     "metadata": {},
     "output_type": "display_data"
    },
    {
     "data": {
      "application/vnd.jupyter.widget-view+json": {
       "model_id": "",
       "version_major": 2,
       "version_minor": 0
      },
      "text/plain": [
       "FloatProgress(value=0.0, bar_style='info', description='Progress:', layout=Layout(height='25px', width='50%'),…"
      ]
     },
     "metadata": {},
     "output_type": "display_data"
    },
    {
     "name": "stdout",
     "output_type": "stream",
     "text": [
      "+-------+-----------------+-----------------+\n",
      "|summary|       EdadMinima|       EdadMaxima|\n",
      "+-------+-----------------+-----------------+\n",
      "|  count|            12634|            12634|\n",
      "|   mean| 1.19463352857369|822.3614848820642|\n",
      "| stddev|3.996737331541234|362.6264008613301|\n",
      "|    min|                0|                0|\n",
      "|    max|               65|              999|\n",
      "+-------+-----------------+-----------------+"
     ]
    }
   ],
   "source": [
    "RANGO_EDADES = CIE.select(\"EdadMinima\",\"EdadMaxima\")\n",
    "RANGO_EDADES.describe().show()"
   ]
  },
  {
   "cell_type": "markdown",
   "id": "7cb961e2",
   "metadata": {},
   "source": [
    "## Renombrar, modificar y agregar columnas"
   ]
  },
  {
   "cell_type": "markdown",
   "id": "8ece10a8",
   "metadata": {},
   "source": [
    "**Dividir las columnas que servián como llaves en el conjunto de datos de RIPS**"
   ]
  },
  {
   "cell_type": "markdown",
   "id": "cbab2bdc",
   "metadata": {},
   "source": [
    "Utilizar la función split para separar el codigo del nombre del departamento"
   ]
  },
  {
   "cell_type": "code",
   "execution_count": 169,
   "id": "b61977dd",
   "metadata": {
    "execution": {
     "iopub.execute_input": "2025-01-03T02:04:05.077299Z",
     "iopub.status.busy": "2025-01-03T02:04:05.074130Z",
     "iopub.status.idle": "2025-01-03T02:04:05.462166Z",
     "shell.execute_reply": "2025-01-03T02:04:05.461456Z",
     "shell.execute_reply.started": "2025-01-03T02:04:05.077265Z"
    },
    "tags": []
   },
   "outputs": [
    {
     "data": {
      "application/vnd.jupyter.widget-view+json": {
       "model_id": "b58b2f21892f4e57bf5247a5c39f0818",
       "version_major": 2,
       "version_minor": 0
      },
      "text/plain": [
       "VBox()"
      ]
     },
     "metadata": {},
     "output_type": "display_data"
    },
    {
     "data": {
      "application/vnd.jupyter.widget-view+json": {
       "model_id": "",
       "version_major": 2,
       "version_minor": 0
      },
      "text/plain": [
       "FloatProgress(value=0.0, bar_style='info', description='Progress:', layout=Layout(height='25px', width='50%'),…"
      ]
     },
     "metadata": {},
     "output_type": "display_data"
    }
   ],
   "source": [
    "RIPS_SPLIT_DEP = RIPS.withColumn(\"Cod_Dep\", f.split(RIPS[\"Departamento\"], \" - \")[0])\\\n",
    "                     .withColumn(\"Nom_Dep\", f.split(RIPS[\"Departamento\"], \" - \")[1])\n",
    "\n",
    "RIPS = RIPS_SPLIT_DEP.drop(\"Departamento\")"
   ]
  },
  {
   "cell_type": "code",
   "execution_count": 170,
   "id": "ac671138",
   "metadata": {
    "execution": {
     "iopub.execute_input": "2025-01-03T02:04:05.463897Z",
     "iopub.status.busy": "2025-01-03T02:04:05.463648Z",
     "iopub.status.idle": "2025-01-03T02:04:05.670398Z",
     "shell.execute_reply": "2025-01-03T02:04:05.669564Z",
     "shell.execute_reply.started": "2025-01-03T02:04:05.463860Z"
    },
    "tags": []
   },
   "outputs": [
    {
     "data": {
      "application/vnd.jupyter.widget-view+json": {
       "model_id": "b76097bd07154e53a258c5ca7fec7d08",
       "version_major": 2,
       "version_minor": 0
      },
      "text/plain": [
       "VBox()"
      ]
     },
     "metadata": {},
     "output_type": "display_data"
    },
    {
     "data": {
      "application/vnd.jupyter.widget-view+json": {
       "model_id": "",
       "version_major": 2,
       "version_minor": 0
      },
      "text/plain": [
       "FloatProgress(value=0.0, bar_style='info', description='Progress:', layout=Layout(height='25px', width='50%'),…"
      ]
     },
     "metadata": {},
     "output_type": "display_data"
    }
   ],
   "source": [
    "#Verificar\n",
    "#RIPS.show()\n",
    "#RIPS.count()"
   ]
  },
  {
   "cell_type": "markdown",
   "id": "797a5735",
   "metadata": {},
   "source": [
    "Utilizar la función split para separar el codigo del nombre del municipio"
   ]
  },
  {
   "cell_type": "code",
   "execution_count": 171,
   "id": "4c810d6b",
   "metadata": {
    "execution": {
     "iopub.execute_input": "2025-01-03T02:04:06.738401Z",
     "iopub.status.busy": "2025-01-03T02:04:06.738098Z",
     "iopub.status.idle": "2025-01-03T02:04:06.985794Z",
     "shell.execute_reply": "2025-01-03T02:04:06.985081Z",
     "shell.execute_reply.started": "2025-01-03T02:04:06.738355Z"
    },
    "tags": []
   },
   "outputs": [
    {
     "data": {
      "application/vnd.jupyter.widget-view+json": {
       "model_id": "4aa812bf7bbb476f8370840f5244395d",
       "version_major": 2,
       "version_minor": 0
      },
      "text/plain": [
       "VBox()"
      ]
     },
     "metadata": {},
     "output_type": "display_data"
    },
    {
     "data": {
      "application/vnd.jupyter.widget-view+json": {
       "model_id": "",
       "version_major": 2,
       "version_minor": 0
      },
      "text/plain": [
       "FloatProgress(value=0.0, bar_style='info', description='Progress:', layout=Layout(height='25px', width='50%'),…"
      ]
     },
     "metadata": {},
     "output_type": "display_data"
    }
   ],
   "source": [
    "\n",
    "RIPS_SPLIT_MUN  = RIPS.withColumn(\"Cod_Muni\", f.split(RIPS[\"Municipio\"], \" - \")[0])\\\n",
    "                      .withColumn(\"Nom_Muni\", f.split(RIPS[\"Municipio\"], \" - \")[1])\n",
    "\n",
    "RIPS = RIPS_SPLIT_MUN.drop(\"Municipio\")"
   ]
  },
  {
   "cell_type": "code",
   "execution_count": 172,
   "id": "1dd5c26e",
   "metadata": {
    "execution": {
     "iopub.execute_input": "2025-01-03T02:04:08.842791Z",
     "iopub.status.busy": "2025-01-03T02:04:08.842568Z",
     "iopub.status.idle": "2025-01-03T02:04:08.885911Z",
     "shell.execute_reply": "2025-01-03T02:04:08.885255Z",
     "shell.execute_reply.started": "2025-01-03T02:04:08.842766Z"
    },
    "tags": []
   },
   "outputs": [
    {
     "data": {
      "application/vnd.jupyter.widget-view+json": {
       "model_id": "f3a1be708748405d8bf3bbf9c0da0486",
       "version_major": 2,
       "version_minor": 0
      },
      "text/plain": [
       "VBox()"
      ]
     },
     "metadata": {},
     "output_type": "display_data"
    },
    {
     "data": {
      "application/vnd.jupyter.widget-view+json": {
       "model_id": "",
       "version_major": 2,
       "version_minor": 0
      },
      "text/plain": [
       "FloatProgress(value=0.0, bar_style='info', description='Progress:', layout=Layout(height='25px', width='50%'),…"
      ]
     },
     "metadata": {},
     "output_type": "display_data"
    }
   ],
   "source": [
    "#Verificar\n",
    "#RIPS.show()\n",
    "#RIPS.count()"
   ]
  },
  {
   "cell_type": "markdown",
   "id": "724fc6a8",
   "metadata": {},
   "source": [
    "Utilizar la función split para separar el codigo del nombre del diagnostico"
   ]
  },
  {
   "cell_type": "code",
   "execution_count": 173,
   "id": "969b94f8",
   "metadata": {
    "execution": {
     "iopub.execute_input": "2025-01-03T02:04:09.599971Z",
     "iopub.status.busy": "2025-01-03T02:04:09.599721Z",
     "iopub.status.idle": "2025-01-03T02:04:09.853015Z",
     "shell.execute_reply": "2025-01-03T02:04:09.852281Z",
     "shell.execute_reply.started": "2025-01-03T02:04:09.599943Z"
    },
    "tags": []
   },
   "outputs": [
    {
     "data": {
      "application/vnd.jupyter.widget-view+json": {
       "model_id": "3a7a7bd39a3c417496cff06cfd6c309f",
       "version_major": 2,
       "version_minor": 0
      },
      "text/plain": [
       "VBox()"
      ]
     },
     "metadata": {},
     "output_type": "display_data"
    },
    {
     "data": {
      "application/vnd.jupyter.widget-view+json": {
       "model_id": "",
       "version_major": 2,
       "version_minor": 0
      },
      "text/plain": [
       "FloatProgress(value=0.0, bar_style='info', description='Progress:', layout=Layout(height='25px', width='50%'),…"
      ]
     },
     "metadata": {},
     "output_type": "display_data"
    }
   ],
   "source": [
    "RIPS_CIE  = RIPS.withColumn(\"Cod_CIE\", f.split(RIPS[\"Diagnostico\"], \" - \")[0])\\\n",
    "                .withColumn(\"Nom_CIE\", f.split(RIPS[\"Diagnostico\"], \" - \")[1])\n",
    "\n",
    "RIPS = RIPS_CIE.drop(\"Diagnostico\")"
   ]
  },
  {
   "cell_type": "code",
   "execution_count": 174,
   "id": "fb9c5cd2",
   "metadata": {
    "execution": {
     "iopub.execute_input": "2025-01-03T02:04:09.854233Z",
     "iopub.status.busy": "2025-01-03T02:04:09.854061Z",
     "iopub.status.idle": "2025-01-03T02:04:09.895600Z",
     "shell.execute_reply": "2025-01-03T02:04:09.894982Z",
     "shell.execute_reply.started": "2025-01-03T02:04:09.854210Z"
    },
    "tags": []
   },
   "outputs": [
    {
     "data": {
      "application/vnd.jupyter.widget-view+json": {
       "model_id": "6fdbf5a2a9ba470688f38856b48740fd",
       "version_major": 2,
       "version_minor": 0
      },
      "text/plain": [
       "VBox()"
      ]
     },
     "metadata": {},
     "output_type": "display_data"
    },
    {
     "data": {
      "application/vnd.jupyter.widget-view+json": {
       "model_id": "",
       "version_major": 2,
       "version_minor": 0
      },
      "text/plain": [
       "FloatProgress(value=0.0, bar_style='info', description='Progress:', layout=Layout(height='25px', width='50%'),…"
      ]
     },
     "metadata": {},
     "output_type": "display_data"
    }
   ],
   "source": [
    "#Verificar\n",
    "#RIPS.show()\n",
    "#RIPS.count()"
   ]
  },
  {
   "cell_type": "markdown",
   "id": "76107b17",
   "metadata": {},
   "source": [
    "Se renombran columnas para facilitar su manipulacion"
   ]
  },
  {
   "cell_type": "code",
   "execution_count": 175,
   "id": "5fcc1144",
   "metadata": {
    "execution": {
     "iopub.execute_input": "2025-01-03T02:04:10.072665Z",
     "iopub.status.busy": "2025-01-03T02:04:10.072448Z",
     "iopub.status.idle": "2025-01-03T02:04:10.122542Z",
     "shell.execute_reply": "2025-01-03T02:04:10.121939Z",
     "shell.execute_reply.started": "2025-01-03T02:04:10.072640Z"
    },
    "tags": []
   },
   "outputs": [
    {
     "data": {
      "application/vnd.jupyter.widget-view+json": {
       "model_id": "2e8db676a1934ec185891ac8a10ddbe8",
       "version_major": 2,
       "version_minor": 0
      },
      "text/plain": [
       "VBox()"
      ]
     },
     "metadata": {},
     "output_type": "display_data"
    },
    {
     "data": {
      "application/vnd.jupyter.widget-view+json": {
       "model_id": "",
       "version_major": 2,
       "version_minor": 0
      },
      "text/plain": [
       "FloatProgress(value=0.0, bar_style='info', description='Progress:', layout=Layout(height='25px', width='50%'),…"
      ]
     },
     "metadata": {},
     "output_type": "display_data"
    }
   ],
   "source": [
    "RIPS_RENAME = RIPS.withColumnRenamed(\"TipoAtencion\", \"TipoAte\") \\\n",
    "                  .withColumnRenamed(\"NumeroAtenciones\", \"NumAte\")"
   ]
  },
  {
   "cell_type": "code",
   "execution_count": 176,
   "id": "0faad1e2",
   "metadata": {
    "execution": {
     "iopub.execute_input": "2025-01-03T02:04:12.507463Z",
     "iopub.status.busy": "2025-01-03T02:04:12.507210Z",
     "iopub.status.idle": "2025-01-03T02:04:12.558469Z",
     "shell.execute_reply": "2025-01-03T02:04:12.557798Z",
     "shell.execute_reply.started": "2025-01-03T02:04:12.507437Z"
    },
    "tags": []
   },
   "outputs": [
    {
     "data": {
      "application/vnd.jupyter.widget-view+json": {
       "model_id": "0547577cc5d4442cb78eea9facc58779",
       "version_major": 2,
       "version_minor": 0
      },
      "text/plain": [
       "VBox()"
      ]
     },
     "metadata": {},
     "output_type": "display_data"
    },
    {
     "data": {
      "application/vnd.jupyter.widget-view+json": {
       "model_id": "",
       "version_major": 2,
       "version_minor": 0
      },
      "text/plain": [
       "FloatProgress(value=0.0, bar_style='info', description='Progress:', layout=Layout(height='25px', width='50%'),…"
      ]
     },
     "metadata": {},
     "output_type": "display_data"
    }
   ],
   "source": [
    "RIPS = RIPS_RENAME"
   ]
  },
  {
   "cell_type": "code",
   "execution_count": 177,
   "id": "85099cc1",
   "metadata": {
    "execution": {
     "iopub.execute_input": "2025-01-03T02:04:12.717966Z",
     "iopub.status.busy": "2025-01-03T02:04:12.717759Z",
     "iopub.status.idle": "2025-01-03T02:04:12.762564Z",
     "shell.execute_reply": "2025-01-03T02:04:12.761897Z",
     "shell.execute_reply.started": "2025-01-03T02:04:12.717942Z"
    },
    "tags": []
   },
   "outputs": [
    {
     "data": {
      "application/vnd.jupyter.widget-view+json": {
       "model_id": "2e03afa46355462e84a5d21c6b211227",
       "version_major": 2,
       "version_minor": 0
      },
      "text/plain": [
       "VBox()"
      ]
     },
     "metadata": {},
     "output_type": "display_data"
    },
    {
     "data": {
      "application/vnd.jupyter.widget-view+json": {
       "model_id": "",
       "version_major": 2,
       "version_minor": 0
      },
      "text/plain": [
       "FloatProgress(value=0.0, bar_style='info', description='Progress:', layout=Layout(height='25px', width='50%'),…"
      ]
     },
     "metadata": {},
     "output_type": "display_data"
    }
   ],
   "source": [
    "#RIPS.show()"
   ]
  },
  {
   "cell_type": "markdown",
   "id": "3ca781c2",
   "metadata": {},
   "source": [
    "Registrar las los dataframes como tablas para procesarlas a traves de SQL"
   ]
  },
  {
   "cell_type": "code",
   "execution_count": 178,
   "id": "46e2601f",
   "metadata": {
    "execution": {
     "iopub.execute_input": "2025-01-03T02:04:13.012744Z",
     "iopub.status.busy": "2025-01-03T02:04:13.012508Z",
     "iopub.status.idle": "2025-01-03T02:04:13.260197Z",
     "shell.execute_reply": "2025-01-03T02:04:13.259539Z",
     "shell.execute_reply.started": "2025-01-03T02:04:13.012716Z"
    },
    "tags": []
   },
   "outputs": [
    {
     "data": {
      "application/vnd.jupyter.widget-view+json": {
       "model_id": "a9cd88cbd46444fa914b612c4bdd3cc1",
       "version_major": 2,
       "version_minor": 0
      },
      "text/plain": [
       "VBox()"
      ]
     },
     "metadata": {},
     "output_type": "display_data"
    },
    {
     "data": {
      "application/vnd.jupyter.widget-view+json": {
       "model_id": "",
       "version_major": 2,
       "version_minor": 0
      },
      "text/plain": [
       "FloatProgress(value=0.0, bar_style='info', description='Progress:', layout=Layout(height='25px', width='50%'),…"
      ]
     },
     "metadata": {},
     "output_type": "display_data"
    }
   ],
   "source": [
    "RIPS.createOrReplaceTempView(\"RIPS\")\n",
    "MUNICIPIOS.createOrReplaceTempView(\"MUNICIPIOS\")\n",
    "CIE.createOrReplaceTempView(\"CIE\")"
   ]
  },
  {
   "cell_type": "markdown",
   "id": "920e6c0d",
   "metadata": {},
   "source": [
    "Identificar los diagnosticos que se encuentran en la tabla de RIPS pero no en la tabla CIE "
   ]
  },
  {
   "cell_type": "code",
   "execution_count": 179,
   "id": "764f61fc",
   "metadata": {
    "execution": {
     "iopub.execute_input": "2025-01-03T02:04:14.826920Z",
     "iopub.status.busy": "2025-01-03T02:04:14.826707Z",
     "iopub.status.idle": "2025-01-03T02:04:15.069930Z",
     "shell.execute_reply": "2025-01-03T02:04:15.069188Z",
     "shell.execute_reply.started": "2025-01-03T02:04:14.826895Z"
    },
    "tags": []
   },
   "outputs": [
    {
     "data": {
      "application/vnd.jupyter.widget-view+json": {
       "model_id": "733e8ceadc69409baa612b9d6146f124",
       "version_major": 2,
       "version_minor": 0
      },
      "text/plain": [
       "VBox()"
      ]
     },
     "metadata": {},
     "output_type": "display_data"
    },
    {
     "data": {
      "application/vnd.jupyter.widget-view+json": {
       "model_id": "",
       "version_major": 2,
       "version_minor": 0
      },
      "text/plain": [
       "FloatProgress(value=0.0, bar_style='info', description='Progress:', layout=Layout(height='25px', width='50%'),…"
      ]
     },
     "metadata": {},
     "output_type": "display_data"
    }
   ],
   "source": [
    "SQL1 = spark.sql(\"\"\"\n",
    "SELECT R.Cod_CIE AS Cod_CIE_R,Nom_CIE,C.Codigo AS Cod_CIE_C\n",
    "FROM RIPS AS R\n",
    "LEFT JOIN CIE C\n",
    "ON R.Cod_CIE = C.Codigo \n",
    "WHERE C.Codigo IS NULL\n",
    "\"\"\")"
   ]
  },
  {
   "cell_type": "code",
   "execution_count": 180,
   "id": "a56b46e1",
   "metadata": {
    "execution": {
     "iopub.execute_input": "2025-01-03T02:04:16.937360Z",
     "iopub.status.busy": "2025-01-03T02:04:16.937134Z",
     "iopub.status.idle": "2025-01-03T02:04:16.981276Z",
     "shell.execute_reply": "2025-01-03T02:04:16.980693Z",
     "shell.execute_reply.started": "2025-01-03T02:04:16.937334Z"
    },
    "tags": []
   },
   "outputs": [
    {
     "data": {
      "application/vnd.jupyter.widget-view+json": {
       "model_id": "4ed552268aec4c659b7f238ba6742660",
       "version_major": 2,
       "version_minor": 0
      },
      "text/plain": [
       "VBox()"
      ]
     },
     "metadata": {},
     "output_type": "display_data"
    },
    {
     "data": {
      "application/vnd.jupyter.widget-view+json": {
       "model_id": "",
       "version_major": 2,
       "version_minor": 0
      },
      "text/plain": [
       "FloatProgress(value=0.0, bar_style='info', description='Progress:', layout=Layout(height='25px', width='50%'),…"
      ]
     },
     "metadata": {},
     "output_type": "display_data"
    }
   ],
   "source": [
    "#SQL1.show()"
   ]
  },
  {
   "cell_type": "markdown",
   "id": "ff87293d",
   "metadata": {},
   "source": [
    "Registrar como tabla para agrupar e identificar los faltantes de fornma agrupada"
   ]
  },
  {
   "cell_type": "code",
   "execution_count": 181,
   "id": "47d989c0",
   "metadata": {
    "execution": {
     "iopub.execute_input": "2025-01-03T02:04:17.791825Z",
     "iopub.status.busy": "2025-01-03T02:04:17.791609Z",
     "iopub.status.idle": "2025-01-03T02:04:18.038814Z",
     "shell.execute_reply": "2025-01-03T02:04:18.038100Z",
     "shell.execute_reply.started": "2025-01-03T02:04:17.791799Z"
    },
    "tags": []
   },
   "outputs": [
    {
     "data": {
      "application/vnd.jupyter.widget-view+json": {
       "model_id": "8e9088dfffc54251a1db761b4c56f723",
       "version_major": 2,
       "version_minor": 0
      },
      "text/plain": [
       "VBox()"
      ]
     },
     "metadata": {},
     "output_type": "display_data"
    },
    {
     "data": {
      "application/vnd.jupyter.widget-view+json": {
       "model_id": "",
       "version_major": 2,
       "version_minor": 0
      },
      "text/plain": [
       "FloatProgress(value=0.0, bar_style='info', description='Progress:', layout=Layout(height='25px', width='50%'),…"
      ]
     },
     "metadata": {},
     "output_type": "display_data"
    }
   ],
   "source": [
    "SQL1.createOrReplaceTempView(\"FALTANTES_RIPS_CIE\")"
   ]
  },
  {
   "cell_type": "markdown",
   "id": "80a49d66",
   "metadata": {},
   "source": [
    "Consultar por diagnostico cuantos casos existen por cada diagnostico"
   ]
  },
  {
   "cell_type": "code",
   "execution_count": 182,
   "id": "bb7e8c1d",
   "metadata": {
    "execution": {
     "iopub.execute_input": "2025-01-03T02:04:18.843782Z",
     "iopub.status.busy": "2025-01-03T02:04:18.843561Z",
     "iopub.status.idle": "2025-01-03T02:05:08.242875Z",
     "shell.execute_reply": "2025-01-03T02:05:08.241988Z",
     "shell.execute_reply.started": "2025-01-03T02:04:18.843758Z"
    },
    "tags": []
   },
   "outputs": [
    {
     "data": {
      "application/vnd.jupyter.widget-view+json": {
       "model_id": "7d4dd2f1590b436696872aac845403ce",
       "version_major": 2,
       "version_minor": 0
      },
      "text/plain": [
       "VBox()"
      ]
     },
     "metadata": {},
     "output_type": "display_data"
    },
    {
     "data": {
      "application/vnd.jupyter.widget-view+json": {
       "model_id": "",
       "version_major": 2,
       "version_minor": 0
      },
      "text/plain": [
       "FloatProgress(value=0.0, bar_style='info', description='Progress:', layout=Layout(height='25px', width='50%'),…"
      ]
     },
     "metadata": {},
     "output_type": "display_data"
    },
    {
     "name": "stdout",
     "output_type": "stream",
     "text": [
      "+---------+------------------------------------------------------------------------------------------------------+-----+\n",
      "|Cod_CIE_R|Nom_CIE                                                                                               |COUNT|\n",
      "+---------+------------------------------------------------------------------------------------------------------+-----+\n",
      "|K582     |SÃNDROME DE COLON IRRITABLE CON PREDOMINIO DE CONSTIPACIÃ“N  IBS-C                                   |208  |\n",
      "|R500     |FIEBRE CON ESCALOFRIO                                                                                 |13031|\n",
      "|R501     |FIEBRE PERSISTENTE                                                                                    |11764|\n",
      "|Q356     |FISURA DEL PALADAR, LINEA MEDIA                                                                       |455  |\n",
      "|O60X     |PARTO PREMATURO                                                                                       |9993 |\n",
      "|X597     |EXPOSICION A FACTORES NO ESPECIFICADOS  GRANJA                                                        |31   |\n",
      "|1        |NO DEFINIDO                                                                                           |13422|\n",
      "|M725     |FASCITIS, NO CLASIFICADA EN OTRA PARTE                                                                |6337 |\n",
      "|M723     |FASCITIS NODULAR                                                                                      |805  |\n",
      "|Q314     |ESTRIDOR LARINGEO CONGENITO                                                                           |930  |\n",
      "|X596     |EXPOSICION A FACTORES NO ESPECIFICADOS  AREA INDUSTRIAL Y DE LA CONSTRUCCION                          |25   |\n",
      "|X598     |EXPOSICION A FACTORES NO ESPECIFICADOS  OTRO LUGAR ESPECIFICADO                                       |79   |\n",
      "|X591     |EXPOSICION A FACTORES NO ESPECIFICADOS  INSTITUCION RESIDENCIAL                                       |13   |\n",
      "|X592     |EXPOSICION A FACTORES NO ESPECIFICADOS  ESCUELAS, OTRAS INSTITUCIONES Y AREAS ADMINISTRATIVAS PUBLICAS|13   |\n",
      "|X595     |EXPOSICION A FACTORES NO ESPECIFICADOS  COMERCIO Y AREAS DE SERVICIO                                  |8    |\n",
      "|X594     |EXPOSICION A FACTORES NO ESPECIFICADOS  CALLES Y CARRETERAS                                           |18   |\n",
      "|X593     |EXPOSICION A FACTORES NO ESPECIFICADOS  AREAS DE DEPORTE Y ATLETISMO                                  |1    |\n",
      "+---------+------------------------------------------------------------------------------------------------------+-----+"
     ]
    }
   ],
   "source": [
    "SQL2 = spark.sql(\"\"\"\n",
    "SELECT Cod_CIE_R,Nom_CIE,COUNT(Cod_CIE_R) AS COUNT\n",
    "FROM FALTANTES_RIPS_CIE\n",
    "GROUP BY Cod_CIE_R,Nom_CIE\n",
    "\"\"\")\n",
    "\n",
    "SQL2.show(truncate=False)"
   ]
  },
  {
   "cell_type": "markdown",
   "id": "63d6df93",
   "metadata": {},
   "source": [
    "Eefectuar holomologacion entres los codigos no existentes en las fuentes"
   ]
  },
  {
   "cell_type": "code",
   "execution_count": 183,
   "id": "fbb9948d",
   "metadata": {
    "execution": {
     "iopub.execute_input": "2025-01-03T02:05:20.072750Z",
     "iopub.status.busy": "2025-01-03T02:05:20.072514Z",
     "iopub.status.idle": "2025-01-03T02:05:20.320822Z",
     "shell.execute_reply": "2025-01-03T02:05:20.320063Z",
     "shell.execute_reply.started": "2025-01-03T02:05:20.072723Z"
    },
    "tags": []
   },
   "outputs": [
    {
     "data": {
      "application/vnd.jupyter.widget-view+json": {
       "model_id": "e08a2dce9c834156ab79c8e9e6ddb1c0",
       "version_major": 2,
       "version_minor": 0
      },
      "text/plain": [
       "VBox()"
      ]
     },
     "metadata": {},
     "output_type": "display_data"
    },
    {
     "data": {
      "application/vnd.jupyter.widget-view+json": {
       "model_id": "",
       "version_major": 2,
       "version_minor": 0
      },
      "text/plain": [
       "FloatProgress(value=0.0, bar_style='info', description='Progress:', layout=Layout(height='25px', width='50%'),…"
      ]
     },
     "metadata": {},
     "output_type": "display_data"
    }
   ],
   "source": [
    "RIPS2 = RIPS.withColumn(\n",
    "        \"Codigo2\", \n",
    "         when((RIPS[\"Cod_CIE\"] == \"K582 \"),\"K580\")\n",
    "        .when((RIPS[\"Cod_CIE\"] == \"X598\") & (RIPS[\"Nom_CIE\"] == \"EXPOSICION A FACTORES NO ESPECIFICADOS  OTRO LUGAR ESPECIFICADO\"),\"X599\")     \n",
    "        .when((RIPS[\"Cod_CIE\"] == \"X593\") & (RIPS[\"Nom_CIE\"] == \"EXPOSICION A FACTORES NO ESPECIFICADOS  AREAS DE DEPORTE Y ATLETISMO\"),\"X599\")      \n",
    "        .when((RIPS[\"Cod_CIE\"] == \"X597\") & (RIPS[\"Nom_CIE\"] == \"EXPOSICION A FACTORES NO ESPECIFICADOS  GRANJA\")  ,\"X599\")  \n",
    "        .when((RIPS[\"Cod_CIE\"] == \"M723\") & (RIPS[\"Nom_CIE\"] == \"FASCITIS NODULAR\"),\"M724\")  \n",
    "        .when((RIPS[\"Cod_CIE\"] == \"Q356\") & (RIPS[\"Nom_CIE\"] == \"FISURA DEL PALADAR, LINEA MEDIA\") ,\"Q359\")  \n",
    "        .when((RIPS[\"Cod_CIE\"] == \"O60X\") & (RIPS[\"Nom_CIE\"] == \"PARTO PREMATURO\"),\"O600\")  \n",
    "        .when((RIPS[\"Cod_CIE\"] == \"R500\") & (RIPS[\"Nom_CIE\"] == \"FIEBRE CON ESCALOFRIO\"),\"R508\")  \n",
    "        .when((RIPS[\"Cod_CIE\"] == \"R501\") & (RIPS[\"Nom_CIE\"] == \"FIEBRE PERSISTENTE\"),\"R508\")  \n",
    "        .when((RIPS[\"Cod_CIE\"] == \"X591\") & (RIPS[\"Nom_CIE\"] == \"EXPOSICION A FACTORES NO ESPECIFICADOS  INSTITUCION RESIDENCIAL\"),\"X599\")  \n",
    "        .when((RIPS[\"Cod_CIE\"] == \"X595\") & (RIPS[\"Nom_CIE\"] == \"EXPOSICION A FACTORES NO ESPECIFICADOS  COMERCIO Y AREAS DE SERVICIO\"),\"X599\")  \n",
    "        .when((RIPS[\"Cod_CIE\"] == \"X594\") & (RIPS[\"Nom_CIE\"] == \"EXPOSICION A FACTORES NO ESPECIFICADOS  CALLES Y CARRETERAS\"),\"X599\")  \n",
    "        .when((RIPS[\"Cod_CIE\"] == \"X592\") & (RIPS[\"Nom_CIE\"] == \"EXPOSICION A FACTORES NO ESPECIFICADOS  ESCUELAS, OTRAS INSTITUCIONES Y AREAS ADMINISTRATIVAS PUBLICAS\"),\"X599\")  \n",
    "        .when((RIPS[\"Cod_CIE\"] == \"X596\") & (RIPS[\"Nom_CIE\"] == \"EXPOSICION A FACTORES NO ESPECIFICADOS  AREA INDUSTRIAL Y DE LA CONSTRUCCION\"),\"X599\")  \n",
    "        .when((RIPS[\"Cod_CIE\"] == \"Q314\") & (RIPS[\"Nom_CIE\"] == \"ESTRIDOR LARINGEO CONGENITO\"),\"P288\")  \n",
    "        .when((RIPS[\"Cod_CIE\"] == \"M725\") & (RIPS[\"Nom_CIE\"] == \"FASCITIS, NO CLASIFICADA EN OTRA PARTE\"),\"M729\")  \n",
    "        .otherwise(RIPS[\"Cod_CIE\"])\n",
    ")     \n",
    "\n",
    "RIPS = RIPS2\n",
    "\n",
    "#RIPS.show()"
   ]
  },
  {
   "cell_type": "markdown",
   "id": "cdca52b8",
   "metadata": {},
   "source": [
    "Eliminos los registros marcados como no definidos por que no los puedo mapear definidas ya que no "
   ]
  },
  {
   "cell_type": "code",
   "execution_count": 184,
   "id": "0d273a79",
   "metadata": {
    "execution": {
     "iopub.execute_input": "2025-01-03T02:05:22.256012Z",
     "iopub.status.busy": "2025-01-03T02:05:22.255720Z",
     "iopub.status.idle": "2025-01-03T02:05:22.302045Z",
     "shell.execute_reply": "2025-01-03T02:05:22.301423Z",
     "shell.execute_reply.started": "2025-01-03T02:05:22.255971Z"
    },
    "tags": []
   },
   "outputs": [
    {
     "data": {
      "application/vnd.jupyter.widget-view+json": {
       "model_id": "2e4a7692137749f1b3b6492cf20c36e5",
       "version_major": 2,
       "version_minor": 0
      },
      "text/plain": [
       "VBox()"
      ]
     },
     "metadata": {},
     "output_type": "display_data"
    },
    {
     "data": {
      "application/vnd.jupyter.widget-view+json": {
       "model_id": "",
       "version_major": 2,
       "version_minor": 0
      },
      "text/plain": [
       "FloatProgress(value=0.0, bar_style='info', description='Progress:', layout=Layout(height='25px', width='50%'),…"
      ]
     },
     "metadata": {},
     "output_type": "display_data"
    }
   ],
   "source": [
    "RIPS = RIPS.filter(RIPS.Nom_CIE != \"NO DEFINIDO\")"
   ]
  },
  {
   "cell_type": "markdown",
   "id": "f76ac4c4",
   "metadata": {},
   "source": [
    "Registro el dataframe como tabla para consultar de nuevo por registros faltantes por medio de SQL "
   ]
  },
  {
   "cell_type": "code",
   "execution_count": 185,
   "id": "248c20a4",
   "metadata": {
    "execution": {
     "iopub.execute_input": "2025-01-03T02:05:22.900869Z",
     "iopub.status.busy": "2025-01-03T02:05:22.900614Z",
     "iopub.status.idle": "2025-01-03T02:05:23.146734Z",
     "shell.execute_reply": "2025-01-03T02:05:23.146044Z",
     "shell.execute_reply.started": "2025-01-03T02:05:22.900841Z"
    },
    "tags": []
   },
   "outputs": [
    {
     "data": {
      "application/vnd.jupyter.widget-view+json": {
       "model_id": "5991c879050f4418b8298655207eaab5",
       "version_major": 2,
       "version_minor": 0
      },
      "text/plain": [
       "VBox()"
      ]
     },
     "metadata": {},
     "output_type": "display_data"
    },
    {
     "data": {
      "application/vnd.jupyter.widget-view+json": {
       "model_id": "",
       "version_major": 2,
       "version_minor": 0
      },
      "text/plain": [
       "FloatProgress(value=0.0, bar_style='info', description='Progress:', layout=Layout(height='25px', width='50%'),…"
      ]
     },
     "metadata": {},
     "output_type": "display_data"
    }
   ],
   "source": [
    "RIPS.createOrReplaceTempView(\"RIPS\")"
   ]
  },
  {
   "cell_type": "markdown",
   "id": "a3a65502",
   "metadata": {},
   "source": [
    "Valido nuevamente cuales registros no hacen match con la tabla CIE"
   ]
  },
  {
   "cell_type": "code",
   "execution_count": 186,
   "id": "15129990",
   "metadata": {
    "execution": {
     "iopub.execute_input": "2025-01-03T02:05:23.981450Z",
     "iopub.status.busy": "2025-01-03T02:05:23.981215Z",
     "iopub.status.idle": "2025-01-03T02:05:24.026624Z",
     "shell.execute_reply": "2025-01-03T02:05:24.026056Z",
     "shell.execute_reply.started": "2025-01-03T02:05:23.981422Z"
    },
    "tags": []
   },
   "outputs": [
    {
     "data": {
      "application/vnd.jupyter.widget-view+json": {
       "model_id": "4c0891c1278f4ea5a621e2a2fd6f0271",
       "version_major": 2,
       "version_minor": 0
      },
      "text/plain": [
       "VBox()"
      ]
     },
     "metadata": {},
     "output_type": "display_data"
    },
    {
     "data": {
      "application/vnd.jupyter.widget-view+json": {
       "model_id": "",
       "version_major": 2,
       "version_minor": 0
      },
      "text/plain": [
       "FloatProgress(value=0.0, bar_style='info', description='Progress:', layout=Layout(height='25px', width='50%'),…"
      ]
     },
     "metadata": {},
     "output_type": "display_data"
    }
   ],
   "source": [
    "SQL3 = spark.sql(\"\"\"\n",
    "SELECT R.Cod_CIE AS Cod_CIE_R,Nom_CIE,C.Codigo AS Cod_CIE_C\n",
    "FROM RIPS AS R\n",
    "LEFT JOIN CIE C\n",
    "ON R.Codigo2 = C.Codigo \n",
    "WHERE C.Codigo IS NULL\n",
    "\"\"\")"
   ]
  },
  {
   "cell_type": "code",
   "execution_count": 187,
   "id": "c75d71b9",
   "metadata": {
    "execution": {
     "iopub.execute_input": "2025-01-03T02:05:24.193487Z",
     "iopub.status.busy": "2025-01-03T02:05:24.193297Z",
     "iopub.status.idle": "2025-01-03T02:05:24.237913Z",
     "shell.execute_reply": "2025-01-03T02:05:24.237181Z",
     "shell.execute_reply.started": "2025-01-03T02:05:24.193464Z"
    },
    "tags": []
   },
   "outputs": [
    {
     "data": {
      "application/vnd.jupyter.widget-view+json": {
       "model_id": "4836be48be59437380d792cbfde9355d",
       "version_major": 2,
       "version_minor": 0
      },
      "text/plain": [
       "VBox()"
      ]
     },
     "metadata": {},
     "output_type": "display_data"
    },
    {
     "data": {
      "application/vnd.jupyter.widget-view+json": {
       "model_id": "",
       "version_major": 2,
       "version_minor": 0
      },
      "text/plain": [
       "FloatProgress(value=0.0, bar_style='info', description='Progress:', layout=Layout(height='25px', width='50%'),…"
      ]
     },
     "metadata": {},
     "output_type": "display_data"
    }
   ],
   "source": [
    "SQL3.createOrReplaceTempView(\"FALTANTES_RIPS_CIE2\")"
   ]
  },
  {
   "cell_type": "code",
   "execution_count": 188,
   "id": "3f77b92e",
   "metadata": {
    "execution": {
     "iopub.execute_input": "2025-01-03T02:05:26.026266Z",
     "iopub.status.busy": "2025-01-03T02:05:26.026010Z",
     "iopub.status.idle": "2025-01-03T02:06:33.469473Z",
     "shell.execute_reply": "2025-01-03T02:06:33.468706Z",
     "shell.execute_reply.started": "2025-01-03T02:05:26.026238Z"
    },
    "tags": []
   },
   "outputs": [
    {
     "data": {
      "application/vnd.jupyter.widget-view+json": {
       "model_id": "c678a3ec814c423892901b70b0b3bb93",
       "version_major": 2,
       "version_minor": 0
      },
      "text/plain": [
       "VBox()"
      ]
     },
     "metadata": {},
     "output_type": "display_data"
    },
    {
     "data": {
      "application/vnd.jupyter.widget-view+json": {
       "model_id": "",
       "version_major": 2,
       "version_minor": 0
      },
      "text/plain": [
       "FloatProgress(value=0.0, bar_style='info', description='Progress:', layout=Layout(height='25px', width='50%'),…"
      ]
     },
     "metadata": {},
     "output_type": "display_data"
    },
    {
     "name": "stdout",
     "output_type": "stream",
     "text": [
      "+---------+-------+-----+\n",
      "|Cod_CIE_R|Nom_CIE|COUNT|\n",
      "+---------+-------+-----+\n",
      "+---------+-------+-----+"
     ]
    }
   ],
   "source": [
    "SQL4 = spark.sql(\"\"\"\n",
    "SELECT Cod_CIE_R,Nom_CIE,COUNT(Cod_CIE_R) AS COUNT\n",
    "FROM FALTANTES_RIPS_CIE2\n",
    "GROUP BY Cod_CIE_R,Nom_CIE\n",
    "\"\"\")\n",
    "\n",
    "SQL4.show()"
   ]
  },
  {
   "cell_type": "code",
   "execution_count": 189,
   "id": "0acc45e6",
   "metadata": {
    "execution": {
     "iopub.execute_input": "2025-01-03T02:06:33.470881Z",
     "iopub.status.busy": "2025-01-03T02:06:33.470687Z",
     "iopub.status.idle": "2025-01-03T02:07:18.835959Z",
     "shell.execute_reply": "2025-01-03T02:07:18.835133Z",
     "shell.execute_reply.started": "2025-01-03T02:06:33.470857Z"
    },
    "tags": []
   },
   "outputs": [
    {
     "data": {
      "application/vnd.jupyter.widget-view+json": {
       "model_id": "04ce7ba8587045aabc7f7a54432d3123",
       "version_major": 2,
       "version_minor": 0
      },
      "text/plain": [
       "VBox()"
      ]
     },
     "metadata": {},
     "output_type": "display_data"
    },
    {
     "data": {
      "application/vnd.jupyter.widget-view+json": {
       "model_id": "",
       "version_major": 2,
       "version_minor": 0
      },
      "text/plain": [
       "FloatProgress(value=0.0, bar_style='info', description='Progress:', layout=Layout(height='25px', width='50%'),…"
      ]
     },
     "metadata": {},
     "output_type": "display_data"
    },
    {
     "name": "stdout",
     "output_type": "stream",
     "text": [
      "37986578"
     ]
    }
   ],
   "source": [
    "#RIPS2.show()\n",
    "#RIPS2.count()\n",
    "RIPS.count()"
   ]
  },
  {
   "cell_type": "markdown",
   "id": "0a27f15b",
   "metadata": {},
   "source": [
    "Verificar cuales municipios no se encuentran en la base "
   ]
  },
  {
   "cell_type": "code",
   "execution_count": 190,
   "id": "eeb36031",
   "metadata": {
    "execution": {
     "iopub.execute_input": "2025-01-03T02:07:18.837511Z",
     "iopub.status.busy": "2025-01-03T02:07:18.837336Z",
     "iopub.status.idle": "2025-01-03T02:07:18.881540Z",
     "shell.execute_reply": "2025-01-03T02:07:18.880936Z",
     "shell.execute_reply.started": "2025-01-03T02:07:18.837488Z"
    },
    "tags": []
   },
   "outputs": [
    {
     "data": {
      "application/vnd.jupyter.widget-view+json": {
       "model_id": "2396a7363e014f20a5532c1fa6b1589d",
       "version_major": 2,
       "version_minor": 0
      },
      "text/plain": [
       "VBox()"
      ]
     },
     "metadata": {},
     "output_type": "display_data"
    },
    {
     "data": {
      "application/vnd.jupyter.widget-view+json": {
       "model_id": "",
       "version_major": 2,
       "version_minor": 0
      },
      "text/plain": [
       "FloatProgress(value=0.0, bar_style='info', description='Progress:', layout=Layout(height='25px', width='50%'),…"
      ]
     },
     "metadata": {},
     "output_type": "display_data"
    }
   ],
   "source": [
    "##Realizo validacion de codigos de municipios faltantes entre el DATASET RIPS Y CIE-10\n",
    "SQL5 = spark.sql(\"\"\"\n",
    "SELECT R.Cod_Muni as Cod_Muni_R ,M.Codigo_mun as Codigo_mun_M,Nom_Dep,Nom_Muni\n",
    "FROM RIPS AS R\n",
    "LEFT JOIN MUNICIPIOS AS M\n",
    "ON R.Cod_Muni = M.Codigo_mun \n",
    "WHERE M.Codigo_mun IS NULL\n",
    "\"\"\")"
   ]
  },
  {
   "cell_type": "code",
   "execution_count": 191,
   "id": "c31aab58",
   "metadata": {
    "execution": {
     "iopub.execute_input": "2025-01-03T02:07:18.882907Z",
     "iopub.status.busy": "2025-01-03T02:07:18.882738Z",
     "iopub.status.idle": "2025-01-03T02:07:19.126555Z",
     "shell.execute_reply": "2025-01-03T02:07:19.125782Z",
     "shell.execute_reply.started": "2025-01-03T02:07:18.882886Z"
    },
    "tags": []
   },
   "outputs": [
    {
     "data": {
      "application/vnd.jupyter.widget-view+json": {
       "model_id": "8a582b52fadb4c2893d58b826ae1bf82",
       "version_major": 2,
       "version_minor": 0
      },
      "text/plain": [
       "VBox()"
      ]
     },
     "metadata": {},
     "output_type": "display_data"
    },
    {
     "data": {
      "application/vnd.jupyter.widget-view+json": {
       "model_id": "",
       "version_major": 2,
       "version_minor": 0
      },
      "text/plain": [
       "FloatProgress(value=0.0, bar_style='info', description='Progress:', layout=Layout(height='25px', width='50%'),…"
      ]
     },
     "metadata": {},
     "output_type": "display_data"
    }
   ],
   "source": [
    "SQL5.createOrReplaceTempView(\"MUNI_FALTANTES\")"
   ]
  },
  {
   "cell_type": "code",
   "execution_count": 192,
   "id": "b29042dc",
   "metadata": {
    "execution": {
     "iopub.execute_input": "2025-01-03T02:07:19.127937Z",
     "iopub.status.busy": "2025-01-03T02:07:19.127683Z",
     "iopub.status.idle": "2025-01-03T02:07:19.179096Z",
     "shell.execute_reply": "2025-01-03T02:07:19.178474Z",
     "shell.execute_reply.started": "2025-01-03T02:07:19.127901Z"
    },
    "tags": []
   },
   "outputs": [
    {
     "data": {
      "application/vnd.jupyter.widget-view+json": {
       "model_id": "63c918bfc061405aaade97a3a276267c",
       "version_major": 2,
       "version_minor": 0
      },
      "text/plain": [
       "VBox()"
      ]
     },
     "metadata": {},
     "output_type": "display_data"
    },
    {
     "data": {
      "application/vnd.jupyter.widget-view+json": {
       "model_id": "",
       "version_major": 2,
       "version_minor": 0
      },
      "text/plain": [
       "FloatProgress(value=0.0, bar_style='info', description='Progress:', layout=Layout(height='25px', width='50%'),…"
      ]
     },
     "metadata": {},
     "output_type": "display_data"
    }
   ],
   "source": [
    "SQL6 = spark.sql(\"\"\"\n",
    "SELECT Cod_Muni_R,Nom_Dep,Nom_Muni,COUNT(Cod_Muni_R) AS COUNT\n",
    "FROM MUNI_FALTANTES\n",
    "GROUP BY Cod_Muni_R,Nom_Dep,Nom_Muni\n",
    "\"\"\")"
   ]
  },
  {
   "cell_type": "code",
   "execution_count": 193,
   "id": "75c7416e",
   "metadata": {
    "execution": {
     "iopub.execute_input": "2025-01-03T02:07:19.180186Z",
     "iopub.status.busy": "2025-01-03T02:07:19.180026Z",
     "iopub.status.idle": "2025-01-03T02:08:22.597596Z",
     "shell.execute_reply": "2025-01-03T02:08:22.596878Z",
     "shell.execute_reply.started": "2025-01-03T02:07:19.180165Z"
    },
    "tags": []
   },
   "outputs": [
    {
     "data": {
      "application/vnd.jupyter.widget-view+json": {
       "model_id": "2ab0547cdf074d84a123f6332737af3d",
       "version_major": 2,
       "version_minor": 0
      },
      "text/plain": [
       "VBox()"
      ]
     },
     "metadata": {},
     "output_type": "display_data"
    },
    {
     "data": {
      "application/vnd.jupyter.widget-view+json": {
       "model_id": "",
       "version_major": 2,
       "version_minor": 0
      },
      "text/plain": [
       "FloatProgress(value=0.0, bar_style='info', description='Progress:', layout=Layout(height='25px', width='50%'),…"
      ]
     },
     "metadata": {},
     "output_type": "display_data"
    },
    {
     "name": "stdout",
     "output_type": "stream",
     "text": [
      "+----------+------------+-----------------------+------+\n",
      "|Cod_Muni_R|Nom_Dep     |Nom_Muni               |COUNT |\n",
      "+----------+------------+-----------------------+------+\n",
      "|05999     |Antioquia   |Sin Informacion        |39    |\n",
      "|08999     |AtlÃ¡ntico  |Sin Informacion        |2     |\n",
      "|-1        |NO DEFINIDO |No Definido            |245074|\n",
      "|23999     |CÃ³rdoba    |Sin Informacion Cordoba|6     |\n",
      "|25999     |Cundinamarca|Sin Informacion        |1     |\n",
      "|27086     |ChocÃ³      |BelÃ©n De BajirÃ¡      |230   |\n",
      "|52999     |NariÃ±o     |Sin Informacion        |7     |\n",
      "|63999     |Quindio     |Sin Informacion        |1     |\n",
      "+----------+------------+-----------------------+------+"
     ]
    }
   ],
   "source": [
    "SQL6.show(truncate=False)"
   ]
  },
  {
   "cell_type": "code",
   "execution_count": 194,
   "id": "f806db1d",
   "metadata": {
    "execution": {
     "iopub.execute_input": "2025-01-03T02:08:22.599390Z",
     "iopub.status.busy": "2025-01-03T02:08:22.598906Z",
     "iopub.status.idle": "2025-01-03T02:08:22.673345Z",
     "shell.execute_reply": "2025-01-03T02:08:22.672436Z",
     "shell.execute_reply.started": "2025-01-03T02:08:22.599349Z"
    },
    "tags": []
   },
   "outputs": [
    {
     "data": {
      "application/vnd.jupyter.widget-view+json": {
       "model_id": "c5bc7abf11ec47048f8e1c74d6ec8967",
       "version_major": 2,
       "version_minor": 0
      },
      "text/plain": [
       "VBox()"
      ]
     },
     "metadata": {},
     "output_type": "display_data"
    },
    {
     "data": {
      "application/vnd.jupyter.widget-view+json": {
       "model_id": "",
       "version_major": 2,
       "version_minor": 0
      },
      "text/plain": [
       "FloatProgress(value=0.0, bar_style='info', description='Progress:', layout=Layout(height='25px', width='50%'),…"
      ]
     },
     "metadata": {},
     "output_type": "display_data"
    }
   ],
   "source": [
    "#RIPS.show()"
   ]
  },
  {
   "cell_type": "code",
   "execution_count": 195,
   "id": "2ee0b615",
   "metadata": {
    "execution": {
     "iopub.execute_input": "2025-01-03T02:08:22.677205Z",
     "iopub.status.busy": "2025-01-03T02:08:22.676740Z",
     "iopub.status.idle": "2025-01-03T02:08:22.912438Z",
     "shell.execute_reply": "2025-01-03T02:08:22.911684Z",
     "shell.execute_reply.started": "2025-01-03T02:08:22.677166Z"
    },
    "tags": []
   },
   "outputs": [
    {
     "data": {
      "application/vnd.jupyter.widget-view+json": {
       "model_id": "59681d75b6e54a089b7eff25ea1ce4ec",
       "version_major": 2,
       "version_minor": 0
      },
      "text/plain": [
       "VBox()"
      ]
     },
     "metadata": {},
     "output_type": "display_data"
    },
    {
     "data": {
      "application/vnd.jupyter.widget-view+json": {
       "model_id": "",
       "version_major": 2,
       "version_minor": 0
      },
      "text/plain": [
       "FloatProgress(value=0.0, bar_style='info', description='Progress:', layout=Layout(height='25px', width='50%'),…"
      ]
     },
     "metadata": {},
     "output_type": "display_data"
    }
   ],
   "source": [
    "RIPS = RIPS.withColumn(\n",
    "    \"CodMuni2\", \n",
    "      when((RIPS[\"Cod_Muni\"] == \"05999\") & (RIPS[\"Nom_Dep\"] == \"Antioquia\") & (RIPS[\"Nom_Muni\"] == \"Sin Informacion\") ,\"05001\")\n",
    "     .when((RIPS[\"Cod_Muni\"] == \"08999\") & (RIPS[\"Nom_Muni\"] == \"Sin Informacion\") ,\"08001\")     \n",
    "     .when((RIPS[\"Cod_Muni\"] == \"23999\") & (RIPS[\"Nom_Muni\"] == \"Sin Informacion Cordoba\") ,\"23001\")      \n",
    "     .when((RIPS[\"Cod_Muni\"] == \"25999\") & (RIPS[\"Nom_Dep\"] == \"Cundinamarca\") & (RIPS[\"Nom_Muni\"] == \"Sin Informacion\") ,\"11001\")  \n",
    "     .when((RIPS[\"Cod_Muni\"] == \"27086\"),\"27493\")  \n",
    "     .when((RIPS[\"Cod_Muni\"] == \"52999\") & (RIPS[\"Nom_Muni\"] == \"Sin Informacion\") ,\"52001\")  \n",
    "     .when((RIPS[\"Cod_Muni\"] == \"63999\") & (RIPS[\"Nom_Dep\"] == \"Quindio\") & (RIPS[\"Nom_Muni\"] == \"Sin Informacion\") ,\"63001\")  \n",
    "    .otherwise(RIPS[\"Cod_Muni\"])\n",
    ")       "
   ]
  },
  {
   "cell_type": "code",
   "execution_count": 196,
   "id": "8b36ea49-9c94-4ee1-9e32-462e2b9f1428",
   "metadata": {
    "execution": {
     "iopub.execute_input": "2025-01-03T02:08:22.914698Z",
     "iopub.status.busy": "2025-01-03T02:08:22.914451Z",
     "iopub.status.idle": "2025-01-03T02:08:22.957430Z",
     "shell.execute_reply": "2025-01-03T02:08:22.956856Z",
     "shell.execute_reply.started": "2025-01-03T02:08:22.914660Z"
    },
    "tags": []
   },
   "outputs": [
    {
     "data": {
      "application/vnd.jupyter.widget-view+json": {
       "model_id": "adaa19354a684925866da82bf5fdce56",
       "version_major": 2,
       "version_minor": 0
      },
      "text/plain": [
       "VBox()"
      ]
     },
     "metadata": {},
     "output_type": "display_data"
    },
    {
     "data": {
      "application/vnd.jupyter.widget-view+json": {
       "model_id": "",
       "version_major": 2,
       "version_minor": 0
      },
      "text/plain": [
       "FloatProgress(value=0.0, bar_style='info', description='Progress:', layout=Layout(height='25px', width='50%'),…"
      ]
     },
     "metadata": {},
     "output_type": "display_data"
    }
   ],
   "source": [
    "RIPS = RIPS.drop(\"Cod_Muni\")"
   ]
  },
  {
   "cell_type": "markdown",
   "id": "43fe23ec-c509-4808-952c-0ac46b65c887",
   "metadata": {
    "execution": {
     "iopub.execute_input": "2024-12-20T21:43:22.068001Z",
     "iopub.status.busy": "2024-12-20T21:43:22.067777Z",
     "iopub.status.idle": "2024-12-20T21:43:22.317779Z",
     "shell.execute_reply": "2024-12-20T21:43:22.316956Z",
     "shell.execute_reply.started": "2024-12-20T21:43:22.067975Z"
    }
   },
   "source": [
    "Eliminar los registros no definidos"
   ]
  },
  {
   "cell_type": "code",
   "execution_count": 197,
   "id": "e76cef56-bc30-4c68-ba1e-228e62ad7d5c",
   "metadata": {
    "execution": {
     "iopub.execute_input": "2025-01-03T02:08:22.958497Z",
     "iopub.status.busy": "2025-01-03T02:08:22.958309Z",
     "iopub.status.idle": "2025-01-03T02:08:22.999852Z",
     "shell.execute_reply": "2025-01-03T02:08:22.999246Z",
     "shell.execute_reply.started": "2025-01-03T02:08:22.958473Z"
    },
    "tags": []
   },
   "outputs": [
    {
     "data": {
      "application/vnd.jupyter.widget-view+json": {
       "model_id": "dad5b84b5aca40788c0e1625bcc3b85e",
       "version_major": 2,
       "version_minor": 0
      },
      "text/plain": [
       "VBox()"
      ]
     },
     "metadata": {},
     "output_type": "display_data"
    },
    {
     "data": {
      "application/vnd.jupyter.widget-view+json": {
       "model_id": "",
       "version_major": 2,
       "version_minor": 0
      },
      "text/plain": [
       "FloatProgress(value=0.0, bar_style='info', description='Progress:', layout=Layout(height='25px', width='50%'),…"
      ]
     },
     "metadata": {},
     "output_type": "display_data"
    }
   ],
   "source": [
    "RIPS = RIPS.filter( (RIPS.Nom_Dep != \"NO DEFINIDO\") & (RIPS.Nom_Muni != \"No Definido\") )"
   ]
  },
  {
   "cell_type": "code",
   "execution_count": 198,
   "id": "fb9e5b58",
   "metadata": {
    "execution": {
     "iopub.execute_input": "2025-01-03T02:08:23.000851Z",
     "iopub.status.busy": "2025-01-03T02:08:23.000694Z",
     "iopub.status.idle": "2025-01-03T02:08:23.042020Z",
     "shell.execute_reply": "2025-01-03T02:08:23.041313Z",
     "shell.execute_reply.started": "2025-01-03T02:08:23.000829Z"
    },
    "tags": []
   },
   "outputs": [
    {
     "data": {
      "application/vnd.jupyter.widget-view+json": {
       "model_id": "87f662838f8d4a449f29ad438beb7584",
       "version_major": 2,
       "version_minor": 0
      },
      "text/plain": [
       "VBox()"
      ]
     },
     "metadata": {},
     "output_type": "display_data"
    },
    {
     "data": {
      "application/vnd.jupyter.widget-view+json": {
       "model_id": "",
       "version_major": 2,
       "version_minor": 0
      },
      "text/plain": [
       "FloatProgress(value=0.0, bar_style='info', description='Progress:', layout=Layout(height='25px', width='50%'),…"
      ]
     },
     "metadata": {},
     "output_type": "display_data"
    }
   ],
   "source": [
    "RIPS.createOrReplaceTempView(\"MUNI_FALTANTES2\")"
   ]
  },
  {
   "cell_type": "code",
   "execution_count": 199,
   "id": "a6d22be3",
   "metadata": {
    "execution": {
     "iopub.execute_input": "2025-01-03T02:08:23.043485Z",
     "iopub.status.busy": "2025-01-03T02:08:23.043243Z",
     "iopub.status.idle": "2025-01-03T02:08:23.085142Z",
     "shell.execute_reply": "2025-01-03T02:08:23.084529Z",
     "shell.execute_reply.started": "2025-01-03T02:08:23.043450Z"
    },
    "tags": []
   },
   "outputs": [
    {
     "data": {
      "application/vnd.jupyter.widget-view+json": {
       "model_id": "4fd2ac1ba1c945e19f835571240c8ab8",
       "version_major": 2,
       "version_minor": 0
      },
      "text/plain": [
       "VBox()"
      ]
     },
     "metadata": {},
     "output_type": "display_data"
    },
    {
     "data": {
      "application/vnd.jupyter.widget-view+json": {
       "model_id": "",
       "version_major": 2,
       "version_minor": 0
      },
      "text/plain": [
       "FloatProgress(value=0.0, bar_style='info', description='Progress:', layout=Layout(height='25px', width='50%'),…"
      ]
     },
     "metadata": {},
     "output_type": "display_data"
    }
   ],
   "source": [
    "##Realizo validacion de codigos CIE-10 Faltantes entre el DATASET RIPS Y CIE-10\n",
    "SQL7 = spark.sql(\"\"\"\n",
    "SELECT R.CodMuni2 as Cod_Muni_R ,M.Codigo_mun as Codigo_mun_M,Nom_Dep,Nom_Muni\n",
    "FROM MUNI_FALTANTES2 AS R\n",
    "LEFT JOIN MUNICIPIOS AS M\n",
    "ON R.CodMuni2 = M.Codigo_mun \n",
    "WHERE M.Codigo_mun IS NULL\n",
    "\"\"\")"
   ]
  },
  {
   "cell_type": "code",
   "execution_count": 200,
   "id": "b7eafc1c",
   "metadata": {
    "execution": {
     "iopub.execute_input": "2025-01-03T02:08:23.086135Z",
     "iopub.status.busy": "2025-01-03T02:08:23.085949Z",
     "iopub.status.idle": "2025-01-03T02:10:02.595973Z",
     "shell.execute_reply": "2025-01-03T02:10:02.595208Z",
     "shell.execute_reply.started": "2025-01-03T02:08:23.086113Z"
    },
    "tags": []
   },
   "outputs": [
    {
     "data": {
      "application/vnd.jupyter.widget-view+json": {
       "model_id": "047eced2bbf04713bd6cce401ae60e4a",
       "version_major": 2,
       "version_minor": 0
      },
      "text/plain": [
       "VBox()"
      ]
     },
     "metadata": {},
     "output_type": "display_data"
    },
    {
     "data": {
      "application/vnd.jupyter.widget-view+json": {
       "model_id": "",
       "version_major": 2,
       "version_minor": 0
      },
      "text/plain": [
       "FloatProgress(value=0.0, bar_style='info', description='Progress:', layout=Layout(height='25px', width='50%'),…"
      ]
     },
     "metadata": {},
     "output_type": "display_data"
    },
    {
     "name": "stdout",
     "output_type": "stream",
     "text": [
      "+----------+------------+-------+--------+\n",
      "|Cod_Muni_R|Codigo_mun_M|Nom_Dep|Nom_Muni|\n",
      "+----------+------------+-------+--------+\n",
      "+----------+------------+-------+--------+"
     ]
    }
   ],
   "source": [
    "SQL7.show()"
   ]
  },
  {
   "cell_type": "code",
   "execution_count": 201,
   "id": "d077f115",
   "metadata": {
    "execution": {
     "iopub.execute_input": "2025-01-03T02:10:02.597087Z",
     "iopub.status.busy": "2025-01-03T02:10:02.596917Z",
     "iopub.status.idle": "2025-01-03T02:10:02.639591Z",
     "shell.execute_reply": "2025-01-03T02:10:02.638984Z",
     "shell.execute_reply.started": "2025-01-03T02:10:02.597064Z"
    },
    "tags": []
   },
   "outputs": [
    {
     "data": {
      "application/vnd.jupyter.widget-view+json": {
       "model_id": "3ee592c934504d659deedb47dcd509d5",
       "version_major": 2,
       "version_minor": 0
      },
      "text/plain": [
       "VBox()"
      ]
     },
     "metadata": {},
     "output_type": "display_data"
    },
    {
     "data": {
      "application/vnd.jupyter.widget-view+json": {
       "model_id": "",
       "version_major": 2,
       "version_minor": 0
      },
      "text/plain": [
       "FloatProgress(value=0.0, bar_style='info', description='Progress:', layout=Layout(height='25px', width='50%'),…"
      ]
     },
     "metadata": {},
     "output_type": "display_data"
    }
   ],
   "source": [
    "SQL7.createOrReplaceTempView(\"MUNI_FALTANTES2\")"
   ]
  },
  {
   "cell_type": "code",
   "execution_count": 202,
   "id": "9c9fea9e",
   "metadata": {
    "execution": {
     "iopub.execute_input": "2025-01-03T02:10:02.640639Z",
     "iopub.status.busy": "2025-01-03T02:10:02.640473Z",
     "iopub.status.idle": "2025-01-03T02:10:02.681087Z",
     "shell.execute_reply": "2025-01-03T02:10:02.680449Z",
     "shell.execute_reply.started": "2025-01-03T02:10:02.640617Z"
    },
    "tags": []
   },
   "outputs": [
    {
     "data": {
      "application/vnd.jupyter.widget-view+json": {
       "model_id": "fc5a410b8cd94757a1338df8e46a159e",
       "version_major": 2,
       "version_minor": 0
      },
      "text/plain": [
       "VBox()"
      ]
     },
     "metadata": {},
     "output_type": "display_data"
    },
    {
     "data": {
      "application/vnd.jupyter.widget-view+json": {
       "model_id": "",
       "version_major": 2,
       "version_minor": 0
      },
      "text/plain": [
       "FloatProgress(value=0.0, bar_style='info', description='Progress:', layout=Layout(height='25px', width='50%'),…"
      ]
     },
     "metadata": {},
     "output_type": "display_data"
    }
   ],
   "source": [
    "SQL7 = spark.sql(\"\"\"\n",
    "SELECT Cod_Muni_R,Nom_Dep,Nom_Muni,COUNT(Cod_Muni_R) AS COUNT\n",
    "FROM MUNI_FALTANTES2\n",
    "GROUP BY Cod_Muni_R,Nom_Dep,Nom_Muni\n",
    "\"\"\")"
   ]
  },
  {
   "cell_type": "code",
   "execution_count": 203,
   "id": "a2d186de",
   "metadata": {
    "execution": {
     "iopub.execute_input": "2025-01-03T02:10:02.682781Z",
     "iopub.status.busy": "2025-01-03T02:10:02.682269Z",
     "iopub.status.idle": "2025-01-03T02:11:38.182588Z",
     "shell.execute_reply": "2025-01-03T02:11:38.181868Z",
     "shell.execute_reply.started": "2025-01-03T02:10:02.682743Z"
    },
    "tags": []
   },
   "outputs": [
    {
     "data": {
      "application/vnd.jupyter.widget-view+json": {
       "model_id": "ee6573220be04321832f00489eb93bad",
       "version_major": 2,
       "version_minor": 0
      },
      "text/plain": [
       "VBox()"
      ]
     },
     "metadata": {},
     "output_type": "display_data"
    },
    {
     "data": {
      "application/vnd.jupyter.widget-view+json": {
       "model_id": "",
       "version_major": 2,
       "version_minor": 0
      },
      "text/plain": [
       "FloatProgress(value=0.0, bar_style='info', description='Progress:', layout=Layout(height='25px', width='50%'),…"
      ]
     },
     "metadata": {},
     "output_type": "display_data"
    },
    {
     "name": "stdout",
     "output_type": "stream",
     "text": [
      "+----------+-------+--------+-----+\n",
      "|Cod_Muni_R|Nom_Dep|Nom_Muni|COUNT|\n",
      "+----------+-------+--------+-----+\n",
      "+----------+-------+--------+-----+"
     ]
    }
   ],
   "source": [
    "SQL7.show()"
   ]
  },
  {
   "cell_type": "code",
   "execution_count": 204,
   "id": "e1fc9333",
   "metadata": {
    "execution": {
     "iopub.execute_input": "2025-01-03T02:11:38.184044Z",
     "iopub.status.busy": "2025-01-03T02:11:38.183793Z",
     "iopub.status.idle": "2025-01-03T02:12:49.617910Z",
     "shell.execute_reply": "2025-01-03T02:12:49.617061Z",
     "shell.execute_reply.started": "2025-01-03T02:11:38.184006Z"
    },
    "tags": []
   },
   "outputs": [
    {
     "data": {
      "application/vnd.jupyter.widget-view+json": {
       "model_id": "188fc3d88e62403ab18f26f4fb745875",
       "version_major": 2,
       "version_minor": 0
      },
      "text/plain": [
       "VBox()"
      ]
     },
     "metadata": {},
     "output_type": "display_data"
    },
    {
     "data": {
      "application/vnd.jupyter.widget-view+json": {
       "model_id": "",
       "version_major": 2,
       "version_minor": 0
      },
      "text/plain": [
       "FloatProgress(value=0.0, bar_style='info', description='Progress:', layout=Layout(height='25px', width='50%'),…"
      ]
     },
     "metadata": {},
     "output_type": "display_data"
    },
    {
     "name": "stdout",
     "output_type": "stream",
     "text": [
      "37741504"
     ]
    }
   ],
   "source": [
    "RIPS.count()"
   ]
  },
  {
   "cell_type": "code",
   "execution_count": 205,
   "id": "1c7d0ef7",
   "metadata": {
    "execution": {
     "iopub.execute_input": "2025-01-03T02:12:49.619429Z",
     "iopub.status.busy": "2025-01-03T02:12:49.619159Z",
     "iopub.status.idle": "2025-01-03T02:12:49.870032Z",
     "shell.execute_reply": "2025-01-03T02:12:49.869270Z",
     "shell.execute_reply.started": "2025-01-03T02:12:49.619393Z"
    },
    "tags": []
   },
   "outputs": [
    {
     "data": {
      "application/vnd.jupyter.widget-view+json": {
       "model_id": "c1d598d4f4724d71895a6b79e2e918f3",
       "version_major": 2,
       "version_minor": 0
      },
      "text/plain": [
       "VBox()"
      ]
     },
     "metadata": {},
     "output_type": "display_data"
    },
    {
     "data": {
      "application/vnd.jupyter.widget-view+json": {
       "model_id": "",
       "version_major": 2,
       "version_minor": 0
      },
      "text/plain": [
       "FloatProgress(value=0.0, bar_style='info', description='Progress:', layout=Layout(height='25px', width='50%'),…"
      ]
     },
     "metadata": {},
     "output_type": "display_data"
    }
   ],
   "source": [
    "DCOD_DE = RIPS.select(\"Cod_Dep\").distinct()\n",
    "DCOD_MUN = MUNICIPIOS.select(\"Codigo_Dep\").distinct()"
   ]
  },
  {
   "cell_type": "code",
   "execution_count": 206,
   "id": "85f44ae0",
   "metadata": {
    "execution": {
     "iopub.execute_input": "2025-01-03T02:12:49.871234Z",
     "iopub.status.busy": "2025-01-03T02:12:49.871063Z",
     "iopub.status.idle": "2025-01-03T02:12:50.118154Z",
     "shell.execute_reply": "2025-01-03T02:12:50.117342Z",
     "shell.execute_reply.started": "2025-01-03T02:12:49.871212Z"
    },
    "tags": []
   },
   "outputs": [
    {
     "data": {
      "application/vnd.jupyter.widget-view+json": {
       "model_id": "48bb726593084707851f91ce65abf435",
       "version_major": 2,
       "version_minor": 0
      },
      "text/plain": [
       "VBox()"
      ]
     },
     "metadata": {},
     "output_type": "display_data"
    },
    {
     "data": {
      "application/vnd.jupyter.widget-view+json": {
       "model_id": "",
       "version_major": 2,
       "version_minor": 0
      },
      "text/plain": [
       "FloatProgress(value=0.0, bar_style='info', description='Progress:', layout=Layout(height='25px', width='50%'),…"
      ]
     },
     "metadata": {},
     "output_type": "display_data"
    }
   ],
   "source": [
    "DCOD_DE.createOrReplaceTempView(\"COD_DEP_RIPS\")\n",
    "DCOD_MUN.createOrReplaceTempView(\"COD_DEP_MUN\")"
   ]
  },
  {
   "cell_type": "code",
   "execution_count": 207,
   "id": "27c55087",
   "metadata": {
    "execution": {
     "iopub.execute_input": "2025-01-03T02:12:50.119300Z",
     "iopub.status.busy": "2025-01-03T02:12:50.119123Z",
     "iopub.status.idle": "2025-01-03T02:12:50.161855Z",
     "shell.execute_reply": "2025-01-03T02:12:50.161300Z",
     "shell.execute_reply.started": "2025-01-03T02:12:50.119277Z"
    },
    "tags": []
   },
   "outputs": [
    {
     "data": {
      "application/vnd.jupyter.widget-view+json": {
       "model_id": "a54bc2e4670a4bd4ad0e3b670dd80b3a",
       "version_major": 2,
       "version_minor": 0
      },
      "text/plain": [
       "VBox()"
      ]
     },
     "metadata": {},
     "output_type": "display_data"
    },
    {
     "data": {
      "application/vnd.jupyter.widget-view+json": {
       "model_id": "",
       "version_major": 2,
       "version_minor": 0
      },
      "text/plain": [
       "FloatProgress(value=0.0, bar_style='info', description='Progress:', layout=Layout(height='25px', width='50%'),…"
      ]
     },
     "metadata": {},
     "output_type": "display_data"
    }
   ],
   "source": [
    "SQL8 = spark.sql(\"\"\"\n",
    "SELECT CDR.Cod_Dep AS Cod_Dep_R, CDM.Codigo_Dep as Codigo_Dep_M\n",
    "FROM COD_DEP_RIPS CDR\n",
    "LEFT JOIN COD_DEP_MUN CDM\n",
    "ON CDR.Cod_Dep = CDM.Codigo_Dep\n",
    "WHERE CDM.Codigo_Dep IS NULL\n",
    "\"\"\")\n"
   ]
  },
  {
   "cell_type": "code",
   "execution_count": 215,
   "id": "99ff922f",
   "metadata": {
    "execution": {
     "iopub.execute_input": "2025-01-03T02:16:08.537495Z",
     "iopub.status.busy": "2025-01-03T02:16:08.537266Z",
     "iopub.status.idle": "2025-01-03T02:17:34.015566Z",
     "shell.execute_reply": "2025-01-03T02:17:34.014887Z",
     "shell.execute_reply.started": "2025-01-03T02:16:08.537470Z"
    },
    "tags": []
   },
   "outputs": [
    {
     "data": {
      "application/vnd.jupyter.widget-view+json": {
       "model_id": "826f0455a6ff4566be0958a904e8428a",
       "version_major": 2,
       "version_minor": 0
      },
      "text/plain": [
       "VBox()"
      ]
     },
     "metadata": {},
     "output_type": "display_data"
    },
    {
     "data": {
      "application/vnd.jupyter.widget-view+json": {
       "model_id": "",
       "version_major": 2,
       "version_minor": 0
      },
      "text/plain": [
       "FloatProgress(value=0.0, bar_style='info', description='Progress:', layout=Layout(height='25px', width='50%'),…"
      ]
     },
     "metadata": {},
     "output_type": "display_data"
    },
    {
     "name": "stdout",
     "output_type": "stream",
     "text": [
      "+---------+------------+\n",
      "|Cod_Dep_R|Codigo_Dep_M|\n",
      "+---------+------------+\n",
      "+---------+------------+"
     ]
    }
   ],
   "source": [
    "SQL8.show()"
   ]
  },
  {
   "cell_type": "code",
   "execution_count": 216,
   "id": "e7892e5b",
   "metadata": {
    "execution": {
     "iopub.execute_input": "2025-01-03T02:17:34.016784Z",
     "iopub.status.busy": "2025-01-03T02:17:34.016606Z",
     "iopub.status.idle": "2025-01-03T02:17:34.058670Z",
     "shell.execute_reply": "2025-01-03T02:17:34.058025Z",
     "shell.execute_reply.started": "2025-01-03T02:17:34.016761Z"
    },
    "tags": []
   },
   "outputs": [
    {
     "data": {
      "application/vnd.jupyter.widget-view+json": {
       "model_id": "0754bd0b18534440a6bf917455a61239",
       "version_major": 2,
       "version_minor": 0
      },
      "text/plain": [
       "VBox()"
      ]
     },
     "metadata": {},
     "output_type": "display_data"
    },
    {
     "data": {
      "application/vnd.jupyter.widget-view+json": {
       "model_id": "",
       "version_major": 2,
       "version_minor": 0
      },
      "text/plain": [
       "FloatProgress(value=0.0, bar_style='info', description='Progress:', layout=Layout(height='25px', width='50%'),…"
      ]
     },
     "metadata": {},
     "output_type": "display_data"
    }
   ],
   "source": [
    "#DCOD_DE.show(n=100)"
   ]
  },
  {
   "cell_type": "code",
   "execution_count": 217,
   "id": "1ab6b9d6",
   "metadata": {
    "execution": {
     "iopub.execute_input": "2025-01-03T02:17:34.060114Z",
     "iopub.status.busy": "2025-01-03T02:17:34.059925Z",
     "iopub.status.idle": "2025-01-03T02:17:34.102553Z",
     "shell.execute_reply": "2025-01-03T02:17:34.101996Z",
     "shell.execute_reply.started": "2025-01-03T02:17:34.060069Z"
    },
    "tags": []
   },
   "outputs": [
    {
     "data": {
      "application/vnd.jupyter.widget-view+json": {
       "model_id": "ed08c7b6950b4cf59799e05c84cda535",
       "version_major": 2,
       "version_minor": 0
      },
      "text/plain": [
       "VBox()"
      ]
     },
     "metadata": {},
     "output_type": "display_data"
    },
    {
     "data": {
      "application/vnd.jupyter.widget-view+json": {
       "model_id": "",
       "version_major": 2,
       "version_minor": 0
      },
      "text/plain": [
       "FloatProgress(value=0.0, bar_style='info', description='Progress:', layout=Layout(height='25px', width='50%'),…"
      ]
     },
     "metadata": {},
     "output_type": "display_data"
    }
   ],
   "source": [
    "#DCOD_MUN.show(n=100)"
   ]
  },
  {
   "cell_type": "code",
   "execution_count": 218,
   "id": "9a2fc180",
   "metadata": {
    "execution": {
     "iopub.execute_input": "2025-01-03T02:17:34.104175Z",
     "iopub.status.busy": "2025-01-03T02:17:34.103933Z",
     "iopub.status.idle": "2025-01-03T02:17:34.853879Z",
     "shell.execute_reply": "2025-01-03T02:17:34.853101Z",
     "shell.execute_reply.started": "2025-01-03T02:17:34.104139Z"
    },
    "tags": []
   },
   "outputs": [
    {
     "data": {
      "application/vnd.jupyter.widget-view+json": {
       "model_id": "15b0ad79acc24ac38bdd6d8f09c65ba7",
       "version_major": 2,
       "version_minor": 0
      },
      "text/plain": [
       "VBox()"
      ]
     },
     "metadata": {},
     "output_type": "display_data"
    },
    {
     "data": {
      "application/vnd.jupyter.widget-view+json": {
       "model_id": "",
       "version_major": 2,
       "version_minor": 0
      },
      "text/plain": [
       "FloatProgress(value=0.0, bar_style='info', description='Progress:', layout=Layout(height='25px', width='50%'),…"
      ]
     },
     "metadata": {},
     "output_type": "display_data"
    },
    {
     "name": "stdout",
     "output_type": "stream",
     "text": [
      "+----+---------+------+-------+---------+----------+-------+--------------------+-------+--------+\n",
      "|Anio|  TipoAte|NumAte|Cod_Dep|  Nom_Dep|  Nom_Muni|Cod_CIE|             Nom_CIE|Codigo2|CodMuni2|\n",
      "+----+---------+------+-------+---------+----------+-------+--------------------+-------+--------+\n",
      "|2012|CONSULTAS|     2|     05|Antioquia|Copacabana|   F431|TRASTORNO DE ESTR...|   F431|   05212|\n",
      "+----+---------+------+-------+---------+----------+-------+--------------------+-------+--------+\n",
      "only showing top 1 row\n",
      "\n",
      "+----------+----------+----------+----------+---------+-----------+------------+\n",
      "|Codigo_Dep|Nombre_Dep|Codigo_mun|Nombre_mun|     Area|    LATITUD|    LONGITUD|\n",
      "+----------+----------+----------+----------+---------+-----------+------------+\n",
      "|        05| ANTIOQUIA|     05001|  MEDELLÍN|Municipio|6.257590259|-75.61103107|\n",
      "+----------+----------+----------+----------+---------+-----------+------------+\n",
      "only showing top 1 row\n",
      "\n",
      "+------+--------------------+-----------+----------+----------+--------------------+-----+\n",
      "|Codigo|              Nombre|Descripcion|EdadMinima|EdadMaxima|              NomCap|CIE_3|\n",
      "+------+--------------------+-----------+----------+----------+--------------------+-----+\n",
      "|  A000|COLERA DEBIDO A V...|     COLERA|         0|       999|CIERTAS ENFERMEDA...|  A00|\n",
      "+------+--------------------+-----------+----------+----------+--------------------+-----+\n",
      "only showing top 1 row"
     ]
    }
   ],
   "source": [
    "RIPS.show(n=1)\n",
    "MUNICIPIOS.show(n=1)\n",
    "CIE.show(n=1)"
   ]
  },
  {
   "cell_type": "code",
   "execution_count": 219,
   "id": "48cb7302",
   "metadata": {
    "execution": {
     "iopub.execute_input": "2025-01-03T02:17:34.855341Z",
     "iopub.status.busy": "2025-01-03T02:17:34.855098Z",
     "iopub.status.idle": "2025-01-03T02:18:46.290904Z",
     "shell.execute_reply": "2025-01-03T02:18:46.290122Z",
     "shell.execute_reply.started": "2025-01-03T02:17:34.855302Z"
    },
    "tags": []
   },
   "outputs": [
    {
     "data": {
      "application/vnd.jupyter.widget-view+json": {
       "model_id": "721ae6b0b1c54d63903472b24b6c73c8",
       "version_major": 2,
       "version_minor": 0
      },
      "text/plain": [
       "VBox()"
      ]
     },
     "metadata": {},
     "output_type": "display_data"
    },
    {
     "data": {
      "application/vnd.jupyter.widget-view+json": {
       "model_id": "",
       "version_major": 2,
       "version_minor": 0
      },
      "text/plain": [
       "FloatProgress(value=0.0, bar_style='info', description='Progress:', layout=Layout(height='25px', width='50%'),…"
      ]
     },
     "metadata": {},
     "output_type": "display_data"
    },
    {
     "name": "stdout",
     "output_type": "stream",
     "text": [
      "37741504"
     ]
    }
   ],
   "source": [
    "RIPS.count()"
   ]
  },
  {
   "cell_type": "code",
   "execution_count": 220,
   "id": "ac7442b6-379c-4e36-b9d2-349e96dae68e",
   "metadata": {
    "execution": {
     "iopub.execute_input": "2025-01-03T02:18:46.292021Z",
     "iopub.status.busy": "2025-01-03T02:18:46.291859Z",
     "iopub.status.idle": "2025-01-03T02:18:46.332199Z",
     "shell.execute_reply": "2025-01-03T02:18:46.331620Z",
     "shell.execute_reply.started": "2025-01-03T02:18:46.292000Z"
    },
    "tags": []
   },
   "outputs": [
    {
     "data": {
      "application/vnd.jupyter.widget-view+json": {
       "model_id": "33526f9ac9f045b0957889c0b5d7f7e0",
       "version_major": 2,
       "version_minor": 0
      },
      "text/plain": [
       "VBox()"
      ]
     },
     "metadata": {},
     "output_type": "display_data"
    },
    {
     "data": {
      "application/vnd.jupyter.widget-view+json": {
       "model_id": "",
       "version_major": 2,
       "version_minor": 0
      },
      "text/plain": [
       "FloatProgress(value=0.0, bar_style='info', description='Progress:', layout=Layout(height='25px', width='50%'),…"
      ]
     },
     "metadata": {},
     "output_type": "display_data"
    }
   ],
   "source": [
    "#RIPS.select(\"CodMuni2\").show()"
   ]
  },
  {
   "cell_type": "code",
   "execution_count": 221,
   "id": "1de7f18c-922b-44ac-8a54-7098505aebf8",
   "metadata": {
    "execution": {
     "iopub.execute_input": "2025-01-03T02:18:46.333186Z",
     "iopub.status.busy": "2025-01-03T02:18:46.333020Z",
     "iopub.status.idle": "2025-01-03T02:18:46.380880Z",
     "shell.execute_reply": "2025-01-03T02:18:46.380283Z",
     "shell.execute_reply.started": "2025-01-03T02:18:46.333163Z"
    },
    "tags": []
   },
   "outputs": [
    {
     "data": {
      "application/vnd.jupyter.widget-view+json": {
       "model_id": "0b4c63c630bc4240a40aa351c0cc7ad2",
       "version_major": 2,
       "version_minor": 0
      },
      "text/plain": [
       "VBox()"
      ]
     },
     "metadata": {},
     "output_type": "display_data"
    },
    {
     "data": {
      "application/vnd.jupyter.widget-view+json": {
       "model_id": "",
       "version_major": 2,
       "version_minor": 0
      },
      "text/plain": [
       "FloatProgress(value=0.0, bar_style='info', description='Progress:', layout=Layout(height='25px', width='50%'),…"
      ]
     },
     "metadata": {},
     "output_type": "display_data"
    }
   ],
   "source": [
    "RIPS.createOrReplaceTempView(\"RIPS\")"
   ]
  },
  {
   "cell_type": "code",
   "execution_count": 222,
   "id": "60746664-5d46-488c-a459-f1bc5dc1625e",
   "metadata": {
    "execution": {
     "iopub.execute_input": "2025-01-03T02:18:46.382501Z",
     "iopub.status.busy": "2025-01-03T02:18:46.382328Z",
     "iopub.status.idle": "2025-01-03T02:18:46.423718Z",
     "shell.execute_reply": "2025-01-03T02:18:46.423112Z",
     "shell.execute_reply.started": "2025-01-03T02:18:46.382478Z"
    },
    "tags": []
   },
   "outputs": [
    {
     "data": {
      "application/vnd.jupyter.widget-view+json": {
       "model_id": "57b2d1112f3a4099ba9959733d1a8736",
       "version_major": 2,
       "version_minor": 0
      },
      "text/plain": [
       "VBox()"
      ]
     },
     "metadata": {},
     "output_type": "display_data"
    },
    {
     "data": {
      "application/vnd.jupyter.widget-view+json": {
       "model_id": "",
       "version_major": 2,
       "version_minor": 0
      },
      "text/plain": [
       "FloatProgress(value=0.0, bar_style='info', description='Progress:', layout=Layout(height='25px', width='50%'),…"
      ]
     },
     "metadata": {},
     "output_type": "display_data"
    }
   ],
   "source": [
    "#MUNI_COOR_DEF\n",
    "\n"
   ]
  },
  {
   "cell_type": "code",
   "execution_count": 223,
   "id": "60f0479d",
   "metadata": {
    "execution": {
     "iopub.execute_input": "2025-01-03T02:19:24.008329Z",
     "iopub.status.busy": "2025-01-03T02:19:24.008055Z",
     "iopub.status.idle": "2025-01-03T02:19:24.256059Z",
     "shell.execute_reply": "2025-01-03T02:19:24.255400Z",
     "shell.execute_reply.started": "2025-01-03T02:19:24.008301Z"
    },
    "tags": []
   },
   "outputs": [
    {
     "data": {
      "application/vnd.jupyter.widget-view+json": {
       "model_id": "a225894286324e98945e91ed1b312c3b",
       "version_major": 2,
       "version_minor": 0
      },
      "text/plain": [
       "VBox()"
      ]
     },
     "metadata": {},
     "output_type": "display_data"
    },
    {
     "data": {
      "application/vnd.jupyter.widget-view+json": {
       "model_id": "",
       "version_major": 2,
       "version_minor": 0
      },
      "text/plain": [
       "FloatProgress(value=0.0, bar_style='info', description='Progress:', layout=Layout(height='25px', width='50%'),…"
      ]
     },
     "metadata": {},
     "output_type": "display_data"
    }
   ],
   "source": [
    "SQL8 = spark.sql(\"\"\"\n",
    "SELECT \n",
    "R.Cod_Dep,\n",
    "M.Nombre_Dep,\n",
    "R.CodMuni2,\n",
    "M.Nombre_mun,\n",
    "M.LATITUD,\n",
    "M.LONGITUD,\n",
    "R.Cod_CIE,\n",
    "R.TipoAte,\n",
    "R.Anio,\n",
    "R.NumAte,\n",
    "C.Nombre,\n",
    "C.Descripcion,\n",
    "C.EdadMinima,\n",
    "C.EdadMaxima,\n",
    "C.NomCap,\n",
    "C.CIE_3,\n",
    "MDC.LATITUD_DEP,\n",
    "MDC.LONGITUD_DEP\n",
    "FROM RIPS R\n",
    "INNER JOIN MUNICIPIOS M\n",
    "ON R.CodMuni2  = M.Codigo_mun\n",
    "INNER JOIN CIE C\n",
    "ON R.Codigo2 = C.Codigo\n",
    "INNER JOIN MUNI_COOR_DEF MDC\n",
    "ON R.Cod_Dep = MDC.Codigo_Dep\n",
    "\"\"\")\n"
   ]
  },
  {
   "cell_type": "code",
   "execution_count": 224,
   "id": "8e132ef2",
   "metadata": {
    "execution": {
     "iopub.execute_input": "2025-01-03T02:19:26.168822Z",
     "iopub.status.busy": "2025-01-03T02:19:26.168565Z",
     "iopub.status.idle": "2025-01-03T02:27:18.660575Z",
     "shell.execute_reply": "2025-01-03T02:27:18.659643Z",
     "shell.execute_reply.started": "2025-01-03T02:19:26.168775Z"
    },
    "tags": []
   },
   "outputs": [
    {
     "data": {
      "application/vnd.jupyter.widget-view+json": {
       "model_id": "dfa2f44b0fb5450ca3e7d7242611cb5a",
       "version_major": 2,
       "version_minor": 0
      },
      "text/plain": [
       "VBox()"
      ]
     },
     "metadata": {},
     "output_type": "display_data"
    },
    {
     "data": {
      "application/vnd.jupyter.widget-view+json": {
       "model_id": "",
       "version_major": 2,
       "version_minor": 0
      },
      "text/plain": [
       "FloatProgress(value=0.0, bar_style='info', description='Progress:', layout=Layout(height='25px', width='50%'),…"
      ]
     },
     "metadata": {},
     "output_type": "display_data"
    },
    {
     "name": "stdout",
     "output_type": "stream",
     "text": [
      "37741504"
     ]
    }
   ],
   "source": [
    "SQL8.count()"
   ]
  },
  {
   "cell_type": "code",
   "execution_count": 225,
   "id": "2199f9d0-84ac-4451-9aa6-632a6e245a83",
   "metadata": {
    "execution": {
     "iopub.execute_input": "2025-01-03T02:27:52.844472Z",
     "iopub.status.busy": "2025-01-03T02:27:52.844242Z",
     "iopub.status.idle": "2025-01-03T02:27:52.890260Z",
     "shell.execute_reply": "2025-01-03T02:27:52.889582Z",
     "shell.execute_reply.started": "2025-01-03T02:27:52.844439Z"
    },
    "tags": []
   },
   "outputs": [
    {
     "data": {
      "application/vnd.jupyter.widget-view+json": {
       "model_id": "c173e25ea3364e5a88ba33458692cc15",
       "version_major": 2,
       "version_minor": 0
      },
      "text/plain": [
       "VBox()"
      ]
     },
     "metadata": {},
     "output_type": "display_data"
    },
    {
     "data": {
      "application/vnd.jupyter.widget-view+json": {
       "model_id": "",
       "version_major": 2,
       "version_minor": 0
      },
      "text/plain": [
       "FloatProgress(value=0.0, bar_style='info', description='Progress:', layout=Layout(height='25px', width='50%'),…"
      ]
     },
     "metadata": {},
     "output_type": "display_data"
    },
    {
     "name": "stdout",
     "output_type": "stream",
     "text": [
      "root\n",
      " |-- Cod_Dep: string (nullable = true)\n",
      " |-- Nombre_Dep: string (nullable = true)\n",
      " |-- CodMuni2: string (nullable = true)\n",
      " |-- Nombre_mun: string (nullable = true)\n",
      " |-- LATITUD: double (nullable = true)\n",
      " |-- LONGITUD: double (nullable = true)\n",
      " |-- Cod_CIE: string (nullable = true)\n",
      " |-- TipoAte: string (nullable = true)\n",
      " |-- Anio: integer (nullable = true)\n",
      " |-- NumAte: integer (nullable = true)\n",
      " |-- Nombre: string (nullable = true)\n",
      " |-- Descripcion: string (nullable = true)\n",
      " |-- EdadMinima: integer (nullable = true)\n",
      " |-- EdadMaxima: integer (nullable = true)\n",
      " |-- NomCap: string (nullable = true)\n",
      " |-- CIE_3: string (nullable = true)\n",
      " |-- LATITUD_DEP: double (nullable = true)\n",
      " |-- LONGITUD_DEP: double (nullable = true)"
     ]
    }
   ],
   "source": [
    "SQL8.printSchema()"
   ]
  },
  {
   "cell_type": "code",
   "execution_count": 226,
   "id": "ad770ea2",
   "metadata": {
    "execution": {
     "iopub.execute_input": "2025-01-03T02:27:53.853028Z",
     "iopub.status.busy": "2025-01-03T02:27:53.852408Z",
     "iopub.status.idle": "2025-01-03T02:27:55.140637Z",
     "shell.execute_reply": "2025-01-03T02:27:55.139950Z",
     "shell.execute_reply.started": "2025-01-03T02:27:53.852981Z"
    },
    "tags": []
   },
   "outputs": [
    {
     "data": {
      "application/vnd.jupyter.widget-view+json": {
       "model_id": "737f707c7d4c4edfb92e3ecf9a167e0c",
       "version_major": 2,
       "version_minor": 0
      },
      "text/plain": [
       "VBox()"
      ]
     },
     "metadata": {},
     "output_type": "display_data"
    },
    {
     "data": {
      "application/vnd.jupyter.widget-view+json": {
       "model_id": "",
       "version_major": 2,
       "version_minor": 0
      },
      "text/plain": [
       "FloatProgress(value=0.0, bar_style='info', description='Progress:', layout=Layout(height='25px', width='50%'),…"
      ]
     },
     "metadata": {},
     "output_type": "display_data"
    },
    {
     "name": "stdout",
     "output_type": "stream",
     "text": [
      "+-------+----------+--------+----------+-------+--------+-------+-------+----+------+------+-----------+----------+----------+------+-----+-----------+------------+\n",
      "|Cod_Dep|Nombre_Dep|CodMuni2|Nombre_mun|LATITUD|LONGITUD|Cod_CIE|TipoAte|Anio|NumAte|Nombre|Descripcion|EdadMinima|EdadMaxima|NomCap|CIE_3|LATITUD_DEP|LONGITUD_DEP|\n",
      "+-------+----------+--------+----------+-------+--------+-------+-------+----+------+------+-----------+----------+----------+------+-----+-----------+------------+\n",
      "|     05|     AN...|   05212|     CO...|  6....|   -7...|   F431|  CO...|2012|     2| TR...|      RE...|         0|       999| TR...|  F43|      6....|       -7...|\n",
      "|     05|     AN...|   05576|     PU...|  5....|   -7...|   C779|  CO...|2011|     1| TU...|      TU...|         0|       999| TU...|  C77|      6....|       -7...|\n",
      "|     05|     AN...|   05086|     BE...|  6....|   -7...|   Z340|  PR...|2014|    48| SU...|      SU...|        10|        54| FA...|  Z34|      6....|       -7...|\n",
      "|     05|     AN...|   05490|     NE...|  8....|   -7...|   M545|  CO...|2015|   961| LU...|      DO...|         0|       999| EN...|  M54|      6....|       -7...|\n",
      "|     05|     AN...|   05212|     CO...|  6....|   -7...|   F510|  CO...|2012|    32| IN...|      TR...|         0|       999| TR...|  F51|      6....|       -7...|\n",
      "|     05|     AN...|   05040|     ANORÍ|  7....|   -7...|   F412|  UR...|2015|     1| TR...|      OT...|         0|       999| TR...|  F41|      6....|       -7...|\n",
      "|     05|     AN...|   05086|     BE...|  6....|   -7...|   A680|  UR...|2014|     1| FI...|      FI...|         0|       999| CI...|  A68|      6....|       -7...|\n",
      "|     05|     AN...|   05541|     PEÑOL|  6....|   -7...|   N645|  PR...|2019|     7| OT...|      OT...|         0|       999| EN...|  N64|      6....|       -7...|\n",
      "|     05|     AN...|   05212|     CO...|  6....|   -7...|   F529|  CO...|2012|     3| DI...|      DI...|        12|        85| TR...|  F52|      6....|       -7...|\n",
      "|     05|     AN...|   05576|     PU...|  5....|   -7...|   D571|  CO...|2011|     3| AN...|      TR...|         0|       999| EN...|  D57|      6....|       -7...|\n",
      "|     05|     AN...|   05086|     BE...|  6....|   -7...|   K350|  UR...|2014|     2| AP...|      AP...|         0|       999| AP...|  K31|      6....|       -7...|\n",
      "|     05|     AN...|   05490|     NE...|  8....|   -7...|   M766|  CO...|2015|     8| TE...|      EN...|         0|       999| EN...|  M76|      6....|       -7...|\n",
      "|     05|     AN...|   05212|     CO...|  6....|   -7...|   F606|  CO...|2012|     1| TR...|      TR...|         5|       120| TR...|  F60|      6....|       -7...|\n",
      "|     05|     AN...|   05040|     ANORÍ|  7....|   -7...|   H659|  UR...|2015|     1| OT...|      OT...|         0|       999| EN...|  H65|      6....|       -7...|\n",
      "|     05|     AN...|   05086|     BE...|  6....|   -7...|   R104|  UR...|2014|     9| OT...|      DO...|         0|       999| SI...|  R10|      6....|       -7...|\n",
      "|     05|     AN...|   05541|     PEÑOL|  6....|   -7...|   N648|  PR...|2019|     2| OT...|      OT...|         0|       999| EN...|  N64|      6....|       -7...|\n",
      "|     05|     AN...|   05212|     CO...|  6....|   -7...|   F808|  CO...|2012|    18| OT...|      TR...|         0|       999| TR...|  F80|      6....|       -7...|\n",
      "|     05|     AN...|   05576|     PU...|  5....|   -7...|   E782|  CO...|2011|     4| HI...|      TR...|         0|       999| EN...|  E78|      6....|       -7...|\n",
      "|     05|     AN...|   05086|     BE...|  6....|   -7...|   S119|  UR...|2014|     1| HE...|      HE...|         0|       999| TR...|  S11|      6....|       -7...|\n",
      "|     05|     AN...|   05490|     NE...|  8....|   -7...|   M769|  CO...|2015|     4| EN...|      EN...|         0|       999| EN...|  M76|      6....|       -7...|\n",
      "+-------+----------+--------+----------+-------+--------+-------+-------+----+------+------+-----------+----------+----------+------+-----+-----------+------------+\n",
      "only showing top 20 rows"
     ]
    }
   ],
   "source": [
    "SQL8.show(truncate=5)"
   ]
  },
  {
   "cell_type": "markdown",
   "id": "3da20052-1e87-4ce1-9a5e-b7ae454bcd6f",
   "metadata": {},
   "source": [
    "Guardar en formato parquet el dataframe"
   ]
  },
  {
   "cell_type": "code",
   "execution_count": 227,
   "id": "11e8875d",
   "metadata": {
    "execution": {
     "iopub.execute_input": "2025-01-03T02:28:33.691937Z",
     "iopub.status.busy": "2025-01-03T02:28:33.691694Z",
     "iopub.status.idle": "2025-01-03T02:43:17.320366Z",
     "shell.execute_reply": "2025-01-03T02:43:17.319665Z",
     "shell.execute_reply.started": "2025-01-03T02:28:33.691912Z"
    },
    "tags": []
   },
   "outputs": [
    {
     "data": {
      "application/vnd.jupyter.widget-view+json": {
       "model_id": "bba33ce0b3164f09848cd01af87d1b0e",
       "version_major": 2,
       "version_minor": 0
      },
      "text/plain": [
       "VBox()"
      ]
     },
     "metadata": {},
     "output_type": "display_data"
    },
    {
     "data": {
      "application/vnd.jupyter.widget-view+json": {
       "model_id": "",
       "version_major": 2,
       "version_minor": 0
      },
      "text/plain": [
       "FloatProgress(value=0.0, bar_style='info', description='Progress:', layout=Layout(height='25px', width='50%'),…"
      ]
     },
     "metadata": {},
     "output_type": "display_data"
    }
   ],
   "source": [
    "#SQL8.repartition(1).write.parquet(\"s3://tfm2024/conjunto_vis\")\n",
    "SQL8.repartition(1).write.csv(\"s3://tfm2024/conjunto_final\",header=True)"
   ]
  },
  {
   "cell_type": "code",
   "execution_count": null,
   "id": "5989ffd3-bd34-4e98-820b-6d4ec41989b5",
   "metadata": {},
   "outputs": [],
   "source": []
  }
 ],
 "metadata": {
  "kernelspec": {
   "display_name": "PySpark",
   "language": "python",
   "name": "pysparkkernel"
  },
  "language_info": {
   "codemirror_mode": {
    "name": "python",
    "version": 3
   },
   "file_extension": ".py",
   "mimetype": "text/x-python",
   "name": "pyspark",
   "pygments_lexer": "python3"
  }
 },
 "nbformat": 4,
 "nbformat_minor": 5
}
